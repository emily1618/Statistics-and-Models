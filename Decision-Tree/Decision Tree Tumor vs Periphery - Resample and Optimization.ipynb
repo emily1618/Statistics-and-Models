{
  "nbformat": 4,
  "nbformat_minor": 0,
  "metadata": {
    "colab": {
      "name": "Exam2_EmilyTingLiang.ipynb",
      "provenance": []
    },
    "kernelspec": {
      "name": "python3",
      "display_name": "Python 3"
    },
    "language_info": {
      "name": "python"
    }
  },
  "cells": [
    {
      "cell_type": "markdown",
      "source": [
        "### Use the Machine Learning algorithm Decision Tree, and the gbm_tsn.csv database to evaluate classification performance of:\n",
        "\n",
        "a) Immune cells in the core and periphery of the tumor\n",
        "\n",
        "b) Neoplastic cells in the core and periphery of the tumor\n",
        "\n",
        "\n",
        "\n",
        "### I apply the following **five** steps:\n",
        "\n",
        "1) Seperate Immune cell and Neoplastic cell first in column F4.\n",
        "\n",
        "2) Apply deicison tree to the dataset. Check model accuracy.\n",
        "\n",
        "3) Solve imbalance data issue. Check model accuracy. \n",
        "\n",
        "4) Optimize the model after solved imbalance data issue in 3. Check model accuracy.\n",
        "\n",
        "5) Compare the final metrics and compare the 3 model accuracy. "
      ],
      "metadata": {
        "id": "gemFoSBZWGAB"
      }
    },
    {
      "cell_type": "code",
      "source": [
        "#Standard\n",
        "import pandas as pd\n",
        "import numpy as np\n",
        "\n",
        "#Visualizers\n",
        "import matplotlib.pyplot as plt\n",
        "import seaborn as sns\n",
        "from sklearn.tree import export_graphviz\n",
        "from yellowbrick.classifier import ConfusionMatrix\n",
        "\n",
        "#Metrics\n",
        "from sklearn.metrics import accuracy_score\n",
        "from sklearn.metrics import f1_score\n",
        "from sklearn.metrics import recall_score\n",
        "from sklearn.metrics import precision_score\n",
        "from sklearn.metrics import classification_report\n",
        "from sklearn.metrics import confusion_matrix\n",
        "from sklearn.metrics import plot_confusion_matrix\n",
        "\n",
        "#Metrics Additional\n",
        "from sklearn.metrics import cohen_kappa_score\n",
        "from sklearn.metrics import hamming_loss\n",
        "from sklearn.metrics import log_loss\n",
        "from sklearn.metrics import zero_one_loss\n",
        "from sklearn.metrics import matthews_corrcoef\n",
        "from sklearn.metrics import roc_auc_score\n",
        "\n",
        "#Preprocessing\n",
        "from sklearn import preprocessing\n",
        "from sklearn.preprocessing import StandardScaler\n",
        "from sklearn.model_selection import train_test_split\n",
        "from sklearn.model_selection import StratifiedKFold\n",
        "\n",
        "#Models\n",
        "from sklearn import model_selection\n",
        "from sklearn.tree import DecisionTreeClassifier #Model I will be using today\n",
        "from sklearn.linear_model import LogisticRegression\n",
        "from sklearn.neighbors import KNeighborsClassifier\n",
        "from sklearn.discriminant_analysis import LinearDiscriminantAnalysis\n",
        "from sklearn.naive_bayes import GaussianNB\n",
        "from sklearn.svm import SVC\n",
        "from sklearn.neural_network import MLPClassifier\n",
        "from sklearn.ensemble import RandomForestRegressor\n",
        "from sklearn.cluster import KMeans\n",
        "from sklearn.ensemble import RandomForestClassifier\n",
        "\n",
        "#Feature Selection\n",
        "import lightgbm as lgb\n",
        "\n",
        "#Sampling\n",
        "from sklearn.utils import resample\n",
        "\n",
        "#Tuning\n",
        "from sklearn.model_selection import GridSearchCV\n",
        "\n",
        "#Others\n",
        "import warnings\n",
        "warnings.filterwarnings('ignore')"
      ],
      "metadata": {
        "id": "iN_5V0fsW72b"
      },
      "execution_count": 1,
      "outputs": []
    },
    {
      "cell_type": "code",
      "source": [
        "df = pd.read_csv('/content/gbm_tsn.csv')\n",
        "df"
      ],
      "metadata": {
        "colab": {
          "base_uri": "https://localhost:8080/",
          "height": 423
        },
        "id": "gSdQh6M9XMop",
        "outputId": "58cb1747-2ae4-4045-af3f-3261723a51ba"
      },
      "execution_count": 2,
      "outputs": [
        {
          "output_type": "execute_result",
          "data": {
            "text/plain": [
              "             F1         F2  Class     F3               F4\n",
              "0     19.555715 -66.420423  Tumor  BT_S2       Neoplastic\n",
              "1    -66.467768  -4.840194  Tumor  BT_S2  Oligodendrocyte\n",
              "2      8.197811 -63.763646  Tumor  BT_S2       Neoplastic\n",
              "3     -6.468824 -51.283635  Tumor  BT_S2       Neoplastic\n",
              "4     -9.436247 -53.896430  Tumor  BT_S2       Neoplastic\n",
              "...         ...        ...    ...    ...              ...\n",
              "3584  40.472940 -49.749664  Tumor  BT_S6         Vascular\n",
              "3585 -12.666931  -3.672656  Tumor  BT_S6           Immune\n",
              "3586  41.667127 -49.692359  Tumor  BT_S6         Vascular\n",
              "3587  40.824259 -49.044548  Tumor  BT_S6         Vascular\n",
              "3588  41.268709 -49.409236  Tumor  BT_S6         Vascular\n",
              "\n",
              "[3589 rows x 5 columns]"
            ],
            "text/html": [
              "\n",
              "  <div id=\"df-2f5d104e-46c5-4f30-94d1-8d66325a4cf1\">\n",
              "    <div class=\"colab-df-container\">\n",
              "      <div>\n",
              "<style scoped>\n",
              "    .dataframe tbody tr th:only-of-type {\n",
              "        vertical-align: middle;\n",
              "    }\n",
              "\n",
              "    .dataframe tbody tr th {\n",
              "        vertical-align: top;\n",
              "    }\n",
              "\n",
              "    .dataframe thead th {\n",
              "        text-align: right;\n",
              "    }\n",
              "</style>\n",
              "<table border=\"1\" class=\"dataframe\">\n",
              "  <thead>\n",
              "    <tr style=\"text-align: right;\">\n",
              "      <th></th>\n",
              "      <th>F1</th>\n",
              "      <th>F2</th>\n",
              "      <th>Class</th>\n",
              "      <th>F3</th>\n",
              "      <th>F4</th>\n",
              "    </tr>\n",
              "  </thead>\n",
              "  <tbody>\n",
              "    <tr>\n",
              "      <th>0</th>\n",
              "      <td>19.555715</td>\n",
              "      <td>-66.420423</td>\n",
              "      <td>Tumor</td>\n",
              "      <td>BT_S2</td>\n",
              "      <td>Neoplastic</td>\n",
              "    </tr>\n",
              "    <tr>\n",
              "      <th>1</th>\n",
              "      <td>-66.467768</td>\n",
              "      <td>-4.840194</td>\n",
              "      <td>Tumor</td>\n",
              "      <td>BT_S2</td>\n",
              "      <td>Oligodendrocyte</td>\n",
              "    </tr>\n",
              "    <tr>\n",
              "      <th>2</th>\n",
              "      <td>8.197811</td>\n",
              "      <td>-63.763646</td>\n",
              "      <td>Tumor</td>\n",
              "      <td>BT_S2</td>\n",
              "      <td>Neoplastic</td>\n",
              "    </tr>\n",
              "    <tr>\n",
              "      <th>3</th>\n",
              "      <td>-6.468824</td>\n",
              "      <td>-51.283635</td>\n",
              "      <td>Tumor</td>\n",
              "      <td>BT_S2</td>\n",
              "      <td>Neoplastic</td>\n",
              "    </tr>\n",
              "    <tr>\n",
              "      <th>4</th>\n",
              "      <td>-9.436247</td>\n",
              "      <td>-53.896430</td>\n",
              "      <td>Tumor</td>\n",
              "      <td>BT_S2</td>\n",
              "      <td>Neoplastic</td>\n",
              "    </tr>\n",
              "    <tr>\n",
              "      <th>...</th>\n",
              "      <td>...</td>\n",
              "      <td>...</td>\n",
              "      <td>...</td>\n",
              "      <td>...</td>\n",
              "      <td>...</td>\n",
              "    </tr>\n",
              "    <tr>\n",
              "      <th>3584</th>\n",
              "      <td>40.472940</td>\n",
              "      <td>-49.749664</td>\n",
              "      <td>Tumor</td>\n",
              "      <td>BT_S6</td>\n",
              "      <td>Vascular</td>\n",
              "    </tr>\n",
              "    <tr>\n",
              "      <th>3585</th>\n",
              "      <td>-12.666931</td>\n",
              "      <td>-3.672656</td>\n",
              "      <td>Tumor</td>\n",
              "      <td>BT_S6</td>\n",
              "      <td>Immune</td>\n",
              "    </tr>\n",
              "    <tr>\n",
              "      <th>3586</th>\n",
              "      <td>41.667127</td>\n",
              "      <td>-49.692359</td>\n",
              "      <td>Tumor</td>\n",
              "      <td>BT_S6</td>\n",
              "      <td>Vascular</td>\n",
              "    </tr>\n",
              "    <tr>\n",
              "      <th>3587</th>\n",
              "      <td>40.824259</td>\n",
              "      <td>-49.044548</td>\n",
              "      <td>Tumor</td>\n",
              "      <td>BT_S6</td>\n",
              "      <td>Vascular</td>\n",
              "    </tr>\n",
              "    <tr>\n",
              "      <th>3588</th>\n",
              "      <td>41.268709</td>\n",
              "      <td>-49.409236</td>\n",
              "      <td>Tumor</td>\n",
              "      <td>BT_S6</td>\n",
              "      <td>Vascular</td>\n",
              "    </tr>\n",
              "  </tbody>\n",
              "</table>\n",
              "<p>3589 rows × 5 columns</p>\n",
              "</div>\n",
              "      <button class=\"colab-df-convert\" onclick=\"convertToInteractive('df-2f5d104e-46c5-4f30-94d1-8d66325a4cf1')\"\n",
              "              title=\"Convert this dataframe to an interactive table.\"\n",
              "              style=\"display:none;\">\n",
              "        \n",
              "  <svg xmlns=\"http://www.w3.org/2000/svg\" height=\"24px\"viewBox=\"0 0 24 24\"\n",
              "       width=\"24px\">\n",
              "    <path d=\"M0 0h24v24H0V0z\" fill=\"none\"/>\n",
              "    <path d=\"M18.56 5.44l.94 2.06.94-2.06 2.06-.94-2.06-.94-.94-2.06-.94 2.06-2.06.94zm-11 1L8.5 8.5l.94-2.06 2.06-.94-2.06-.94L8.5 2.5l-.94 2.06-2.06.94zm10 10l.94 2.06.94-2.06 2.06-.94-2.06-.94-.94-2.06-.94 2.06-2.06.94z\"/><path d=\"M17.41 7.96l-1.37-1.37c-.4-.4-.92-.59-1.43-.59-.52 0-1.04.2-1.43.59L10.3 9.45l-7.72 7.72c-.78.78-.78 2.05 0 2.83L4 21.41c.39.39.9.59 1.41.59.51 0 1.02-.2 1.41-.59l7.78-7.78 2.81-2.81c.8-.78.8-2.07 0-2.86zM5.41 20L4 18.59l7.72-7.72 1.47 1.35L5.41 20z\"/>\n",
              "  </svg>\n",
              "      </button>\n",
              "      \n",
              "  <style>\n",
              "    .colab-df-container {\n",
              "      display:flex;\n",
              "      flex-wrap:wrap;\n",
              "      gap: 12px;\n",
              "    }\n",
              "\n",
              "    .colab-df-convert {\n",
              "      background-color: #E8F0FE;\n",
              "      border: none;\n",
              "      border-radius: 50%;\n",
              "      cursor: pointer;\n",
              "      display: none;\n",
              "      fill: #1967D2;\n",
              "      height: 32px;\n",
              "      padding: 0 0 0 0;\n",
              "      width: 32px;\n",
              "    }\n",
              "\n",
              "    .colab-df-convert:hover {\n",
              "      background-color: #E2EBFA;\n",
              "      box-shadow: 0px 1px 2px rgba(60, 64, 67, 0.3), 0px 1px 3px 1px rgba(60, 64, 67, 0.15);\n",
              "      fill: #174EA6;\n",
              "    }\n",
              "\n",
              "    [theme=dark] .colab-df-convert {\n",
              "      background-color: #3B4455;\n",
              "      fill: #D2E3FC;\n",
              "    }\n",
              "\n",
              "    [theme=dark] .colab-df-convert:hover {\n",
              "      background-color: #434B5C;\n",
              "      box-shadow: 0px 1px 3px 1px rgba(0, 0, 0, 0.15);\n",
              "      filter: drop-shadow(0px 1px 2px rgba(0, 0, 0, 0.3));\n",
              "      fill: #FFFFFF;\n",
              "    }\n",
              "  </style>\n",
              "\n",
              "      <script>\n",
              "        const buttonEl =\n",
              "          document.querySelector('#df-2f5d104e-46c5-4f30-94d1-8d66325a4cf1 button.colab-df-convert');\n",
              "        buttonEl.style.display =\n",
              "          google.colab.kernel.accessAllowed ? 'block' : 'none';\n",
              "\n",
              "        async function convertToInteractive(key) {\n",
              "          const element = document.querySelector('#df-2f5d104e-46c5-4f30-94d1-8d66325a4cf1');\n",
              "          const dataTable =\n",
              "            await google.colab.kernel.invokeFunction('convertToInteractive',\n",
              "                                                     [key], {});\n",
              "          if (!dataTable) return;\n",
              "\n",
              "          const docLinkHtml = 'Like what you see? Visit the ' +\n",
              "            '<a target=\"_blank\" href=https://colab.research.google.com/notebooks/data_table.ipynb>data table notebook</a>'\n",
              "            + ' to learn more about interactive tables.';\n",
              "          element.innerHTML = '';\n",
              "          dataTable['output_type'] = 'display_data';\n",
              "          await google.colab.output.renderOutput(dataTable, element);\n",
              "          const docLink = document.createElement('div');\n",
              "          docLink.innerHTML = docLinkHtml;\n",
              "          element.appendChild(docLink);\n",
              "        }\n",
              "      </script>\n",
              "    </div>\n",
              "  </div>\n",
              "  "
            ]
          },
          "metadata": {},
          "execution_count": 2
        }
      ]
    },
    {
      "cell_type": "markdown",
      "source": [
        "### Seperate Immune and Neoplastic data for Tumor and Periphery"
      ],
      "metadata": {
        "id": "P_YiyxqWXYqb"
      }
    },
    {
      "cell_type": "code",
      "source": [
        "neoplastic = df.loc[df['F4'] == 'Neoplastic']\n",
        "neoplastic['Class'].value_counts().plot(kind='bar', \n",
        "color = ['#F4D03F','#27AE60'], title='Distribution of Neoplastic by Class');"
      ],
      "metadata": {
        "colab": {
          "base_uri": "https://localhost:8080/",
          "height": 313
        },
        "id": "m41osV_7XhFr",
        "outputId": "d0eac6e6-856d-4cbb-9450-8976e938992e"
      },
      "execution_count": 3,
      "outputs": [
        {
          "output_type": "display_data",
          "data": {
            "text/plain": [
              "<Figure size 432x288 with 1 Axes>"
            ],
            "image/png": "[encoded data removed]"
          },
          "metadata": {
            "needs_background": "light"
          }
        }
      ]
    },
    {
      "cell_type": "code",
      "source": [
        "immune = df.loc[df['F4'] == 'Immune']\n",
        "immune['Class'].value_counts().plot(kind='bar', \n",
        "color = ['#F4D03F','#27AE60'], title='Distribution of NImmune Cell by Class');"
      ],
      "metadata": {
        "colab": {
          "base_uri": "https://localhost:8080/",
          "height": 313
        },
        "id": "ZYiguCB8Xl1R",
        "outputId": "d885e9ae-b33c-4433-c2c9-c1c49bd7cf93"
      },
      "execution_count": 32,
      "outputs": [
        {
          "output_type": "display_data",
          "data": {
            "text/plain": [
              "<Figure size 432x288 with 1 Axes>"
            ],
            "image/png": "[encoded data removed]"
          },
          "metadata": {
            "needs_background": "light"
          }
        }
      ]
    },
    {
      "cell_type": "markdown",
      "source": [
        "### Neoplastic Decision Tree Model BEFORE data resample"
      ],
      "metadata": {
        "id": "1Ctj3EqeXvu8"
      }
    },
    {
      "cell_type": "code",
      "source": [
        "X = neoplastic.drop(['Class','F3','F4'], axis=1)\n",
        "y = neoplastic['Class']\n",
        "\n",
        "X_train, X_test, y_train, y_test = train_test_split(X, y, test_size= 0.2, random_state= 42, stratify=y)\n",
        "\n",
        "#to know the shape of the train and test dataset.\n",
        "print('Training shape: ', X_train.shape)\n",
        "print('Testing shape: ', X_test.shape)\n",
        "\n",
        "#Fit the data\n",
        "scaler = StandardScaler()\n",
        "scaler.fit(X_train)\n",
        "\n",
        "X_train = scaler.transform(X_train)\n",
        "X_test = scaler.transform(X_test)"
      ],
      "metadata": {
        "colab": {
          "base_uri": "https://localhost:8080/"
        },
        "id": "EvSka0DRX0nC",
        "outputId": "485350e6-f576-4445-ac09-c10b75d7e6cd"
      },
      "execution_count": 5,
      "outputs": [
        {
          "output_type": "stream",
          "name": "stdout",
          "text": [
            "Training shape:  (872, 2)\n",
            "Testing shape:  (219, 2)\n"
          ]
        }
      ]
    },
    {
      "cell_type": "code",
      "source": [
        "# Baseline Neoplastic Model\n",
        "tree = DecisionTreeClassifier()\n",
        "tree.fit(X_train, y_train)\n",
        "y_pred = tree.predict(X_test) \n",
        "accuracy = accuracy_score(y_test, y_pred) \n",
        "print(f'Decision tree has {tree .tree_.node_count} nodes with maximum depth {tree .tree_.max_depth}.') \n",
        "print(f'Model Accuracy: {tree .score(X_train, y_train)*100}%')\n",
        "print(\"Test Data Accuracy: %.2f%%\" % (accuracy * 100.0))"
      ],
      "metadata": {
        "colab": {
          "base_uri": "https://localhost:8080/"
        },
        "id": "PjXuglKcYAV0",
        "outputId": "31699fe4-f76d-4dbe-d4d0-22d9029e5dbe"
      },
      "execution_count": 6,
      "outputs": [
        {
          "output_type": "stream",
          "name": "stdout",
          "text": [
            "Decision tree has 39 nodes with maximum depth 7.\n",
            "Model Accuracy: 100.0%\n",
            "Test Data Accuracy: 97.26%\n"
          ]
        }
      ]
    },
    {
      "cell_type": "markdown",
      "source": [
        "### Neoplastic Decision Tree Model AFTER Data Resample\n",
        "\n",
        "---\n",
        "\n"
      ],
      "metadata": {
        "id": "whQVSYGCYFmT"
      }
    },
    {
      "cell_type": "code",
      "source": [
        "neoplastic['Class'].replace(['Tumor', 'Periphery'],[0, 1], inplace=True)"
      ],
      "metadata": {
        "id": "fSVm5MtjYLR-"
      },
      "execution_count": 7,
      "outputs": []
    },
    {
      "cell_type": "code",
      "source": [
        "neoplastic['Class'].value_counts()"
      ],
      "metadata": {
        "colab": {
          "base_uri": "https://localhost:8080/"
        },
        "id": "ZQe14VfcYbTx",
        "outputId": "fc97a299-50d2-41d3-e6af-78b2cb83c5cc"
      },
      "execution_count": 8,
      "outputs": [
        {
          "output_type": "execute_result",
          "data": {
            "text/plain": [
              "0    1029\n",
              "1      62\n",
              "Name: Class, dtype: int64"
            ]
          },
          "metadata": {},
          "execution_count": 8
        }
      ]
    },
    {
      "cell_type": "code",
      "source": [
        "#Tumor is 1029 and Periperhy is 62. There is a imbalance problem in the dataset.So we will need to resample first:\n",
        "\n",
        "neoplastic_class1 = resample(neoplastic[neoplastic['Class']==0],\n",
        "               replace=True,\n",
        "               n_samples=1029,\n",
        "               random_state=123)\n",
        "\n",
        "neoplastic_class2 = resample(neoplastic[neoplastic['Class']==1],\n",
        "               replace=True,\n",
        "               n_samples=1029,\n",
        "               random_state=123)\n",
        "\n",
        "neoplastic = pd.concat([neoplastic_class1, neoplastic_class2])\n",
        "neoplastic['Class'].value_counts()\n"
      ],
      "metadata": {
        "colab": {
          "base_uri": "https://localhost:8080/"
        },
        "id": "fMZnGvP4YdNu",
        "outputId": "6eb96423-42d4-46b7-cbe5-620a612f06bf"
      },
      "execution_count": 9,
      "outputs": [
        {
          "output_type": "execute_result",
          "data": {
            "text/plain": [
              "0    1029\n",
              "1    1029\n",
              "Name: Class, dtype: int64"
            ]
          },
          "metadata": {},
          "execution_count": 9
        }
      ]
    },
    {
      "cell_type": "code",
      "source": [
        "X = neoplastic.drop(['Class','F3','F4'], axis=1)\n",
        "y = neoplastic['Class']\n",
        "\n",
        "X_train, X_test, y_train, y_test = train_test_split(X, y, test_size= 0.2, random_state= 42, stratify=y)\n",
        "\n",
        "#to know the shape of the train and test dataset.\n",
        "print('Training shape: ', X_train.shape)\n",
        "print('Testing shape: ', X_test.shape)\n",
        "\n",
        "#Fit the data\n",
        "scaler = StandardScaler()\n",
        "scaler.fit(X_train)\n",
        "\n",
        "X_train = scaler.transform(X_train)\n",
        "X_test = scaler.transform(X_test)"
      ],
      "metadata": {
        "colab": {
          "base_uri": "https://localhost:8080/"
        },
        "id": "4mvnC8qRYh4X",
        "outputId": "3b1c6551-4e74-42da-df85-564239b20b96"
      },
      "execution_count": 10,
      "outputs": [
        {
          "output_type": "stream",
          "name": "stdout",
          "text": [
            "Training shape:  (1646, 2)\n",
            "Testing shape:  (412, 2)\n"
          ]
        }
      ]
    },
    {
      "cell_type": "code",
      "source": [
        "# Neoplastic Model AFTER resampling\n",
        "tree_resample = DecisionTreeClassifier()\n",
        "tree_resample.fit(X_train, y_train)\n",
        "y_pred_resample = tree_resample.predict(X_test) \n",
        "accuracy = accuracy_score(y_test, y_pred_resample) \n",
        "print(f'Decision tree has {tree_resample .tree_.node_count} nodes with maximum depth {tree_resample .tree_.max_depth}.') \n",
        "print(f'Model Accuracy: {tree_resample .score(X_train, y_train)*100}%')\n",
        "print(\"Test Data Accuracy: %.2f%%\" % (accuracy * 100.0))"
      ],
      "metadata": {
        "colab": {
          "base_uri": "https://localhost:8080/"
        },
        "id": "SwpIURphYl8W",
        "outputId": "6ae7ff93-53ad-497c-f7c6-54f07012e57b"
      },
      "execution_count": 11,
      "outputs": [
        {
          "output_type": "stream",
          "name": "stdout",
          "text": [
            "Decision tree has 41 nodes with maximum depth 7.\n",
            "Model Accuracy: 100.0%\n",
            "Test Data Accuracy: 99.27%\n"
          ]
        }
      ]
    },
    {
      "cell_type": "markdown",
      "source": [
        "### Neoplastic Decision Tree Model AFTER Data Resample + Parameter Optimization"
      ],
      "metadata": {
        "id": "w7dccmTAY0mn"
      }
    },
    {
      "cell_type": "code",
      "source": [
        "param_grid = { 'max_depth': range(1,25), 'min_samples_leaf': range(1,25), \n",
        "               'max_leaf_nodes': range(5,50)}\n",
        "gs_dt = GridSearchCV(DecisionTreeClassifier(), param_grid, cv=5, n_jobs=-1)\n",
        "\n",
        "gs_dt = gs_dt.fit(X_train, y_train)"
      ],
      "metadata": {
        "id": "Eu3oFZvUZED3"
      },
      "execution_count": 12,
      "outputs": []
    },
    {
      "cell_type": "code",
      "source": [
        "gs_dt.best_params_"
      ],
      "metadata": {
        "colab": {
          "base_uri": "https://localhost:8080/"
        },
        "id": "8aUJIjedaXTh",
        "outputId": "fec7b616-67d9-4065-84eb-d3ba66ddb8b2"
      },
      "execution_count": 13,
      "outputs": [
        {
          "output_type": "execute_result",
          "data": {
            "text/plain": [
              "{'max_depth': 8, 'max_leaf_nodes': 19, 'min_samples_leaf': 1}"
            ]
          },
          "metadata": {},
          "execution_count": 13
        }
      ]
    },
    {
      "cell_type": "code",
      "source": [
        "# Neoplastic Model AFTER resampling + using best param\n",
        "tree_resample_opt = DecisionTreeClassifier(max_depth=8, min_samples_leaf=1, max_leaf_nodes=19)\n",
        "tree_resample_opt.fit(X_train, y_train)\n",
        "y_pred_resample_opt = tree_resample.predict(X_test) \n",
        "accuracy = accuracy_score(y_test, y_pred_resample_opt) \n",
        "print(f'Model Accuracy: {tree_resample_opt .score(X_train, y_train)*100}%')\n",
        "print(\"Test Data Accuracy: %.2f%%\" % (accuracy * 100.0))"
      ],
      "metadata": {
        "colab": {
          "base_uri": "https://localhost:8080/"
        },
        "id": "1nvRCmS4abAB",
        "outputId": "6bb98752-3bbc-440d-9396-a218fa60e6cd"
      },
      "execution_count": 14,
      "outputs": [
        {
          "output_type": "stream",
          "name": "stdout",
          "text": [
            "Model Accuracy: 99.87849331713244%\n",
            "Test Data Accuracy: 99.27%\n"
          ]
        }
      ]
    },
    {
      "cell_type": "markdown",
      "source": [
        "### Neoplastic Decision Tree Final Metrics and Summary\n"
      ],
      "metadata": {
        "id": "ecxxYcJFayLZ"
      }
    },
    {
      "cell_type": "code",
      "source": [
        "from sklearn.metrics import average_precision_score\n",
        "\n",
        "df_result_resample_opt = pd.DataFrame(columns=['model', 'tp', 'tn', 'fp', 'fn', 'correct', 'incorrect',\n",
        "                                  'accuracy', 'precision', 'recall', 'f1', 'roc_auc','avg_pre'])\n",
        "\n",
        "tn, fp, fn, tp = confusion_matrix(y_test, y_pred_resample_opt).ravel()\n",
        "accuracy = accuracy_score(y_test, y_pred_resample_opt)\n",
        "precision = precision_score(y_test, y_pred_resample_opt)\n",
        "recall = recall_score(y_test, y_pred_resample_opt)\n",
        "f1 = f1_score(y_test,y_pred_resample_opt)\n",
        "roc_auc = roc_auc_score(y_test, y_pred_resample_opt)\n",
        "avg_precision = average_precision_score(y_test, y_pred_resample_opt)\n",
        "\n",
        "row = {'model': 'Neoplastic_Resample_Opt',\n",
        "        'tp': tp,\n",
        "        'tn': tn,\n",
        "        'fp': fp,\n",
        "        'fn': fn,\n",
        "        'correct': tp+tn,\n",
        "        'incorrect': fp+fn,\n",
        "        'accuracy': round(accuracy,3),\n",
        "        'precision': round(precision,3),\n",
        "        'recall': round(recall,3),\n",
        "        'f1': round(f1,3),\n",
        "        'roc_auc': round(roc_auc,3),\n",
        "        'avg_pre': round(avg_precision,3),\n",
        "    }\n",
        "\n",
        "df_result_resample_opt = df_result_resample_opt.append(row, ignore_index=True)\n",
        "df_result_resample_opt"
      ],
      "metadata": {
        "colab": {
          "base_uri": "https://localhost:8080/",
          "height": 80
        },
        "id": "7ZbAUsFta9-i",
        "outputId": "ff412f1c-545e-46a6-a493-16ac4ea9efcc"
      },
      "execution_count": 21,
      "outputs": [
        {
          "output_type": "execute_result",
          "data": {
            "text/plain": [
              "                     model   tp   tn fp fn correct incorrect  accuracy  \\\n",
              "0  Neoplastic_Resample_Opt  206  203  3  0     409         3     0.993   \n",
              "\n",
              "   precision  recall     f1  roc_auc  avg_pre  \n",
              "0      0.986     1.0  0.993    0.993    0.986  "
            ],
            "text/html": [
              "\n",
              "  <div id=\"df-26e88048-6030-4538-9491-011f8a3449a4\">\n",
              "    <div class=\"colab-df-container\">\n",
              "      <div>\n",
              "<style scoped>\n",
              "    .dataframe tbody tr th:only-of-type {\n",
              "        vertical-align: middle;\n",
              "    }\n",
              "\n",
              "    .dataframe tbody tr th {\n",
              "        vertical-align: top;\n",
              "    }\n",
              "\n",
              "    .dataframe thead th {\n",
              "        text-align: right;\n",
              "    }\n",
              "</style>\n",
              "<table border=\"1\" class=\"dataframe\">\n",
              "  <thead>\n",
              "    <tr style=\"text-align: right;\">\n",
              "      <th></th>\n",
              "      <th>model</th>\n",
              "      <th>tp</th>\n",
              "      <th>tn</th>\n",
              "      <th>fp</th>\n",
              "      <th>fn</th>\n",
              "      <th>correct</th>\n",
              "      <th>incorrect</th>\n",
              "      <th>accuracy</th>\n",
              "      <th>precision</th>\n",
              "      <th>recall</th>\n",
              "      <th>f1</th>\n",
              "      <th>roc_auc</th>\n",
              "      <th>avg_pre</th>\n",
              "    </tr>\n",
              "  </thead>\n",
              "  <tbody>\n",
              "    <tr>\n",
              "      <th>0</th>\n",
              "      <td>Neoplastic_Resample_Opt</td>\n",
              "      <td>206</td>\n",
              "      <td>203</td>\n",
              "      <td>3</td>\n",
              "      <td>0</td>\n",
              "      <td>409</td>\n",
              "      <td>3</td>\n",
              "      <td>0.993</td>\n",
              "      <td>0.986</td>\n",
              "      <td>1.0</td>\n",
              "      <td>0.993</td>\n",
              "      <td>0.993</td>\n",
              "      <td>0.986</td>\n",
              "    </tr>\n",
              "  </tbody>\n",
              "</table>\n",
              "</div>\n",
              "      <button class=\"colab-df-convert\" onclick=\"convertToInteractive('df-26e88048-6030-4538-9491-011f8a3449a4')\"\n",
              "              title=\"Convert this dataframe to an interactive table.\"\n",
              "              style=\"display:none;\">\n",
              "        \n",
              "  <svg xmlns=\"http://www.w3.org/2000/svg\" height=\"24px\"viewBox=\"0 0 24 24\"\n",
              "       width=\"24px\">\n",
              "    <path d=\"M0 0h24v24H0V0z\" fill=\"none\"/>\n",
              "    <path d=\"M18.56 5.44l.94 2.06.94-2.06 2.06-.94-2.06-.94-.94-2.06-.94 2.06-2.06.94zm-11 1L8.5 8.5l.94-2.06 2.06-.94-2.06-.94L8.5 2.5l-.94 2.06-2.06.94zm10 10l.94 2.06.94-2.06 2.06-.94-2.06-.94-.94-2.06-.94 2.06-2.06.94z\"/><path d=\"M17.41 7.96l-1.37-1.37c-.4-.4-.92-.59-1.43-.59-.52 0-1.04.2-1.43.59L10.3 9.45l-7.72 7.72c-.78.78-.78 2.05 0 2.83L4 21.41c.39.39.9.59 1.41.59.51 0 1.02-.2 1.41-.59l7.78-7.78 2.81-2.81c.8-.78.8-2.07 0-2.86zM5.41 20L4 18.59l7.72-7.72 1.47 1.35L5.41 20z\"/>\n",
              "  </svg>\n",
              "      </button>\n",
              "      \n",
              "  <style>\n",
              "    .colab-df-container {\n",
              "      display:flex;\n",
              "      flex-wrap:wrap;\n",
              "      gap: 12px;\n",
              "    }\n",
              "\n",
              "    .colab-df-convert {\n",
              "      background-color: #E8F0FE;\n",
              "      border: none;\n",
              "      border-radius: 50%;\n",
              "      cursor: pointer;\n",
              "      display: none;\n",
              "      fill: #1967D2;\n",
              "      height: 32px;\n",
              "      padding: 0 0 0 0;\n",
              "      width: 32px;\n",
              "    }\n",
              "\n",
              "    .colab-df-convert:hover {\n",
              "      background-color: #E2EBFA;\n",
              "      box-shadow: 0px 1px 2px rgba(60, 64, 67, 0.3), 0px 1px 3px 1px rgba(60, 64, 67, 0.15);\n",
              "      fill: #174EA6;\n",
              "    }\n",
              "\n",
              "    [theme=dark] .colab-df-convert {\n",
              "      background-color: #3B4455;\n",
              "      fill: #D2E3FC;\n",
              "    }\n",
              "\n",
              "    [theme=dark] .colab-df-convert:hover {\n",
              "      background-color: #434B5C;\n",
              "      box-shadow: 0px 1px 3px 1px rgba(0, 0, 0, 0.15);\n",
              "      filter: drop-shadow(0px 1px 2px rgba(0, 0, 0, 0.3));\n",
              "      fill: #FFFFFF;\n",
              "    }\n",
              "  </style>\n",
              "\n",
              "      <script>\n",
              "        const buttonEl =\n",
              "          document.querySelector('#df-26e88048-6030-4538-9491-011f8a3449a4 button.colab-df-convert');\n",
              "        buttonEl.style.display =\n",
              "          google.colab.kernel.accessAllowed ? 'block' : 'none';\n",
              "\n",
              "        async function convertToInteractive(key) {\n",
              "          const element = document.querySelector('#df-26e88048-6030-4538-9491-011f8a3449a4');\n",
              "          const dataTable =\n",
              "            await google.colab.kernel.invokeFunction('convertToInteractive',\n",
              "                                                     [key], {});\n",
              "          if (!dataTable) return;\n",
              "\n",
              "          const docLinkHtml = 'Like what you see? Visit the ' +\n",
              "            '<a target=\"_blank\" href=https://colab.research.google.com/notebooks/data_table.ipynb>data table notebook</a>'\n",
              "            + ' to learn more about interactive tables.';\n",
              "          element.innerHTML = '';\n",
              "          dataTable['output_type'] = 'display_data';\n",
              "          await google.colab.output.renderOutput(dataTable, element);\n",
              "          const docLink = document.createElement('div');\n",
              "          docLink.innerHTML = docLinkHtml;\n",
              "          element.appendChild(docLink);\n",
              "        }\n",
              "      </script>\n",
              "    </div>\n",
              "  </div>\n",
              "  "
            ]
          },
          "metadata": {},
          "execution_count": 21
        }
      ]
    },
    {
      "cell_type": "markdown",
      "source": [
        "## The NEOPLASTIC decision model improved from 97.25% to 99.27% after fixing data imbalance problem. However, model didn't improve further after parameter optimization after data imbalance. Therefore, just resample the data is sufficient to maxmize model accuracy. In the final result, an optimized model after data resample correctly predicted 409 results and only have 3 incorrect results. Falose positive rate is 3, meaning model predicted tumor, when in reality, it is periphery.\n"
      ],
      "metadata": {
        "id": "msZSsCKgcmcn"
      }
    },
    {
      "cell_type": "markdown",
      "source": [
        "### Immune Decision Tree Model BEFORE Data Resample"
      ],
      "metadata": {
        "id": "cLlZJuADd4hC"
      }
    },
    {
      "cell_type": "code",
      "source": [
        "X = immune.drop(['Class','F3','F4'], axis=1)\n",
        "y = immune['Class']\n",
        "\n",
        "X_train, X_test, y_train, y_test = train_test_split(X, y, test_size= 0.2, random_state= 42, stratify=y)\n",
        "\n",
        "#to know the shape of the train and test dataset.\n",
        "print('Training shape: ', X_train.shape)\n",
        "print('Testing shape: ', X_test.shape)\n",
        "\n",
        "#Fit the data\n",
        "scaler = StandardScaler()\n",
        "scaler.fit(X_train)\n",
        "\n",
        "X_train = scaler.transform(X_train)\n",
        "X_test = scaler.transform(X_test)"
      ],
      "metadata": {
        "colab": {
          "base_uri": "https://localhost:8080/"
        },
        "id": "PCBSqtL3eCBU",
        "outputId": "b7c8b635-5b97-4c7a-db1f-0a0feda4dbf7"
      },
      "execution_count": 25,
      "outputs": [
        {
          "output_type": "stream",
          "name": "stdout",
          "text": [
            "Training shape:  (1477, 2)\n",
            "Testing shape:  (370, 2)\n"
          ]
        }
      ]
    },
    {
      "cell_type": "code",
      "source": [
        "# Baseline Immune Model\n",
        "tree_immune = DecisionTreeClassifier()\n",
        "tree_immune.fit(X_train, y_train)\n",
        "y_pred_immune = tree_immune.predict(X_test) \n",
        "accuracy = accuracy_score(y_test, y_pred_immune) \n",
        "print(f'Decision tree has {tree_immune .tree_.node_count} nodes with maximum depth {tree_immune .tree_.max_depth}.') \n",
        "print(f'Model Accuracy: {tree_immune .score(X_train, y_train)*100}%')\n",
        "print(\"Test Data Accuracy: %.2f%%\" % (accuracy * 100.0))"
      ],
      "metadata": {
        "colab": {
          "base_uri": "https://localhost:8080/"
        },
        "id": "kj5hfh5ae5cW",
        "outputId": "126c574c-6ff9-4191-a207-7b368963d00e"
      },
      "execution_count": 26,
      "outputs": [
        {
          "output_type": "stream",
          "name": "stdout",
          "text": [
            "Decision tree has 247 nodes with maximum depth 14.\n",
            "Model Accuracy: 100.0%\n",
            "Test Data Accuracy: 89.19%\n"
          ]
        }
      ]
    },
    {
      "cell_type": "markdown",
      "source": [
        "### Immune Decision Tree Model AFTER Data Resample\n"
      ],
      "metadata": {
        "id": "sL0iD8g7fMj7"
      }
    },
    {
      "cell_type": "code",
      "source": [
        "immune['Class'].replace(['Tumor', 'Periphery'],[0, 1], inplace=True)"
      ],
      "metadata": {
        "id": "sb38tk4MfQ8b"
      },
      "execution_count": 34,
      "outputs": []
    },
    {
      "cell_type": "code",
      "source": [
        "immune['Class'].value_counts()"
      ],
      "metadata": {
        "colab": {
          "base_uri": "https://localhost:8080/"
        },
        "id": "SHYZi4SyfVrz",
        "outputId": "db7ce83d-a52b-4e59-ea92-5d2f2b5acf74"
      },
      "execution_count": 35,
      "outputs": [
        {
          "output_type": "execute_result",
          "data": {
            "text/plain": [
              "0    1182\n",
              "1     665\n",
              "Name: Class, dtype: int64"
            ]
          },
          "metadata": {},
          "execution_count": 35
        }
      ]
    },
    {
      "cell_type": "code",
      "source": [
        "#Tumor is 1182 and Periperhy is 665. There is a imbalance problem in the dataset.So we will need to resample first:\n",
        "\n",
        "immune_class1 = resample(immune[immune['Class']==0],\n",
        "               replace=True,\n",
        "               n_samples=1182,\n",
        "               random_state=123)\n",
        "\n",
        "immune_class2 = resample(immune[immune['Class']==1],\n",
        "               replace=True,\n",
        "               n_samples=1182,\n",
        "               random_state=123)\n",
        "\n",
        "immune = pd.concat([immune_class1, immune_class2])\n",
        "immune['Class'].value_counts()"
      ],
      "metadata": {
        "colab": {
          "base_uri": "https://localhost:8080/"
        },
        "id": "0gclJhG_fbrA",
        "outputId": "1592dda2-5578-4234-bb92-8e55eb25567a"
      },
      "execution_count": 36,
      "outputs": [
        {
          "output_type": "execute_result",
          "data": {
            "text/plain": [
              "0    1182\n",
              "1    1182\n",
              "Name: Class, dtype: int64"
            ]
          },
          "metadata": {},
          "execution_count": 36
        }
      ]
    },
    {
      "cell_type": "code",
      "source": [
        "X = immune.drop(['Class','F3','F4'], axis=1)\n",
        "y = immune['Class']\n",
        "\n",
        "X_train, X_test, y_train, y_test = train_test_split(X, y, test_size= 0.2, random_state= 42, stratify=y)\n",
        "\n",
        "#to know the shape of the train and test dataset.\n",
        "print('Training shape: ', X_train.shape)\n",
        "print('Testing shape: ', X_test.shape)\n",
        "\n",
        "#Fit the data\n",
        "scaler = StandardScaler()\n",
        "scaler.fit(X_train)\n",
        "\n",
        "X_train = scaler.transform(X_train)\n",
        "X_test = scaler.transform(X_test)"
      ],
      "metadata": {
        "colab": {
          "base_uri": "https://localhost:8080/"
        },
        "id": "7i2GEA-nfu88",
        "outputId": "037b6c81-7f5a-4325-d4dd-b6fbb78daa94"
      },
      "execution_count": 37,
      "outputs": [
        {
          "output_type": "stream",
          "name": "stdout",
          "text": [
            "Training shape:  (1891, 2)\n",
            "Testing shape:  (473, 2)\n"
          ]
        }
      ]
    },
    {
      "cell_type": "code",
      "source": [
        "# Immune Model AFTER resampling\n",
        "tree_immune_resample = DecisionTreeClassifier()\n",
        "tree_immune_resample.fit(X_train, y_train)\n",
        "y_pred_immune_resample = tree_immune_resample.predict(X_test) \n",
        "accuracy = accuracy_score(y_test, y_pred_immune_resample) \n",
        "print(f'Decision tree has {tree_immune_resample .tree_.node_count} nodes with maximum depth {tree_immune_resample .tree_.max_depth}.') \n",
        "print(f'Model Accuracy: {tree_immune_resample .score(X_train, y_train)*100}%')\n",
        "print(\"Test Data Accuracy: %.2f%%\" % (accuracy * 100.0))"
      ],
      "metadata": {
        "colab": {
          "base_uri": "https://localhost:8080/"
        },
        "id": "aWxQEU3vf2q0",
        "outputId": "bdc89c9c-6efe-4bf3-b919-f4040feba684"
      },
      "execution_count": 38,
      "outputs": [
        {
          "output_type": "stream",
          "name": "stdout",
          "text": [
            "Decision tree has 235 nodes with maximum depth 15.\n",
            "Model Accuracy: 100.0%\n",
            "Test Data Accuracy: 95.77%\n"
          ]
        }
      ]
    },
    {
      "cell_type": "markdown",
      "source": [
        "### Immune Decision Tree Model AFTER Data Resample + Parameter Optimization"
      ],
      "metadata": {
        "id": "X11kEyN6giwI"
      }
    },
    {
      "cell_type": "code",
      "source": [
        "param_grid = { 'max_depth': range(1,25), 'min_samples_leaf': range(1,25), \n",
        "               'max_leaf_nodes': range(5,50)}\n",
        "gs_dt = GridSearchCV(DecisionTreeClassifier(), param_grid, cv=5, n_jobs=-1)\n",
        "\n",
        "gs_dt = gs_dt.fit(X_train, y_train)"
      ],
      "metadata": {
        "id": "5H6RScO3golK"
      },
      "execution_count": 39,
      "outputs": []
    },
    {
      "cell_type": "code",
      "source": [
        "gs_dt.best_params_"
      ],
      "metadata": {
        "colab": {
          "base_uri": "https://localhost:8080/"
        },
        "id": "WE3txeuegt6G",
        "outputId": "cd149f8a-acec-41d0-b1e6-5d52d4847e75"
      },
      "execution_count": 40,
      "outputs": [
        {
          "output_type": "execute_result",
          "data": {
            "text/plain": [
              "{'max_depth': 24, 'max_leaf_nodes': 47, 'min_samples_leaf': 1}"
            ]
          },
          "metadata": {},
          "execution_count": 40
        }
      ]
    },
    {
      "cell_type": "code",
      "source": [
        "# Neoplastic Model AFTER resampling + using best param\n",
        "tree_immune_resample_opt = DecisionTreeClassifier(max_depth=24, min_samples_leaf=1, max_leaf_nodes=47)\n",
        "tree_immune_resample_opt.fit(X_train, y_train)\n",
        "y_pred_immune_resample_opt = tree_immune_resample.predict(X_test) \n",
        "accuracy = accuracy_score(y_test, y_pred_immune_resample_opt) \n",
        "print(f'Model Accuracy: {tree_immune_resample_opt .score(X_train, y_train)*100}%')\n",
        "print(\"Test Data Accuracy: %.2f%%\" % (accuracy * 100.0))"
      ],
      "metadata": {
        "colab": {
          "base_uri": "https://localhost:8080/"
        },
        "id": "eiXAdUjcgugX",
        "outputId": "0a0919a3-8ad6-403f-b67d-1fbce2916abd"
      },
      "execution_count": 41,
      "outputs": [
        {
          "output_type": "stream",
          "name": "stdout",
          "text": [
            "Model Accuracy: 96.87995769434163%\n",
            "Test Data Accuracy: 95.77%\n"
          ]
        }
      ]
    },
    {
      "cell_type": "markdown",
      "source": [
        "### Immune Decision Tree Final Metrics and Summary"
      ],
      "metadata": {
        "id": "JHiQjDE4g-KN"
      }
    },
    {
      "cell_type": "code",
      "source": [
        "from sklearn.metrics import average_precision_score\n",
        "\n",
        "df_result_immune_resample_opt = pd.DataFrame(columns=['model', 'tp', 'tn', 'fp', 'fn', 'correct', 'incorrect',\n",
        "                                  'accuracy', 'precision', 'recall', 'f1', 'roc_auc','avg_pre'])\n",
        "\n",
        "tn, fp, fn, tp = confusion_matrix(y_test, y_pred_immune_resample_opt).ravel()\n",
        "accuracy = accuracy_score(y_test, y_pred_immune_resample_opt)\n",
        "precision = precision_score(y_test, y_pred_immune_resample_opt)\n",
        "recall = recall_score(y_test, y_pred_immune_resample_opt)\n",
        "f1 = f1_score(y_test,y_pred_immune_resample_opt)\n",
        "roc_auc = roc_auc_score(y_test, y_pred_immune_resample_opt)\n",
        "avg_precision = average_precision_score(y_test, y_pred_immune_resample_opt)\n",
        "\n",
        "row = {'model': 'Immune_Resample_Opt',\n",
        "        'tp': tp,\n",
        "        'tn': tn,\n",
        "        'fp': fp,\n",
        "        'fn': fn,\n",
        "        'correct': tp+tn,\n",
        "        'incorrect': fp+fn,\n",
        "        'accuracy': round(accuracy,3),\n",
        "        'precision': round(precision,3),\n",
        "        'recall': round(recall,3),\n",
        "        'f1': round(f1,3),\n",
        "        'roc_auc': round(roc_auc,3),\n",
        "        'avg_pre': round(avg_precision,3),\n",
        "    }\n",
        "\n",
        "df_result_immune_resample_opt = df_result_immune_resample_opt.append(row, ignore_index=True)\n",
        "df_result_immune_resample_opt"
      ],
      "metadata": {
        "colab": {
          "base_uri": "https://localhost:8080/",
          "height": 80
        },
        "id": "hpGDitNjhCjc",
        "outputId": "5f89a7b9-c3bb-4dbd-96a4-9b8807896ef1"
      },
      "execution_count": 42,
      "outputs": [
        {
          "output_type": "execute_result",
          "data": {
            "text/plain": [
              "                 model   tp   tn  fp  fn correct incorrect  accuracy  \\\n",
              "0  Immune_Resample_Opt  226  227  10  10     453        20     0.958   \n",
              "\n",
              "   precision  recall     f1  roc_auc  avg_pre  \n",
              "0      0.958   0.958  0.958    0.958    0.938  "
            ],
            "text/html": [
              "\n",
              "  <div id=\"df-e9df2830-e519-40f2-84fb-4eb606815b41\">\n",
              "    <div class=\"colab-df-container\">\n",
              "      <div>\n",
              "<style scoped>\n",
              "    .dataframe tbody tr th:only-of-type {\n",
              "        vertical-align: middle;\n",
              "    }\n",
              "\n",
              "    .dataframe tbody tr th {\n",
              "        vertical-align: top;\n",
              "    }\n",
              "\n",
              "    .dataframe thead th {\n",
              "        text-align: right;\n",
              "    }\n",
              "</style>\n",
              "<table border=\"1\" class=\"dataframe\">\n",
              "  <thead>\n",
              "    <tr style=\"text-align: right;\">\n",
              "      <th></th>\n",
              "      <th>model</th>\n",
              "      <th>tp</th>\n",
              "      <th>tn</th>\n",
              "      <th>fp</th>\n",
              "      <th>fn</th>\n",
              "      <th>correct</th>\n",
              "      <th>incorrect</th>\n",
              "      <th>accuracy</th>\n",
              "      <th>precision</th>\n",
              "      <th>recall</th>\n",
              "      <th>f1</th>\n",
              "      <th>roc_auc</th>\n",
              "      <th>avg_pre</th>\n",
              "    </tr>\n",
              "  </thead>\n",
              "  <tbody>\n",
              "    <tr>\n",
              "      <th>0</th>\n",
              "      <td>Immune_Resample_Opt</td>\n",
              "      <td>226</td>\n",
              "      <td>227</td>\n",
              "      <td>10</td>\n",
              "      <td>10</td>\n",
              "      <td>453</td>\n",
              "      <td>20</td>\n",
              "      <td>0.958</td>\n",
              "      <td>0.958</td>\n",
              "      <td>0.958</td>\n",
              "      <td>0.958</td>\n",
              "      <td>0.958</td>\n",
              "      <td>0.938</td>\n",
              "    </tr>\n",
              "  </tbody>\n",
              "</table>\n",
              "</div>\n",
              "      <button class=\"colab-df-convert\" onclick=\"convertToInteractive('df-e9df2830-e519-40f2-84fb-4eb606815b41')\"\n",
              "              title=\"Convert this dataframe to an interactive table.\"\n",
              "              style=\"display:none;\">\n",
              "        \n",
              "  <svg xmlns=\"http://www.w3.org/2000/svg\" height=\"24px\"viewBox=\"0 0 24 24\"\n",
              "       width=\"24px\">\n",
              "    <path d=\"M0 0h24v24H0V0z\" fill=\"none\"/>\n",
              "    <path d=\"M18.56 5.44l.94 2.06.94-2.06 2.06-.94-2.06-.94-.94-2.06-.94 2.06-2.06.94zm-11 1L8.5 8.5l.94-2.06 2.06-.94-2.06-.94L8.5 2.5l-.94 2.06-2.06.94zm10 10l.94 2.06.94-2.06 2.06-.94-2.06-.94-.94-2.06-.94 2.06-2.06.94z\"/><path d=\"M17.41 7.96l-1.37-1.37c-.4-.4-.92-.59-1.43-.59-.52 0-1.04.2-1.43.59L10.3 9.45l-7.72 7.72c-.78.78-.78 2.05 0 2.83L4 21.41c.39.39.9.59 1.41.59.51 0 1.02-.2 1.41-.59l7.78-7.78 2.81-2.81c.8-.78.8-2.07 0-2.86zM5.41 20L4 18.59l7.72-7.72 1.47 1.35L5.41 20z\"/>\n",
              "  </svg>\n",
              "      </button>\n",
              "      \n",
              "  <style>\n",
              "    .colab-df-container {\n",
              "      display:flex;\n",
              "      flex-wrap:wrap;\n",
              "      gap: 12px;\n",
              "    }\n",
              "\n",
              "    .colab-df-convert {\n",
              "      background-color: #E8F0FE;\n",
              "      border: none;\n",
              "      border-radius: 50%;\n",
              "      cursor: pointer;\n",
              "      display: none;\n",
              "      fill: #1967D2;\n",
              "      height: 32px;\n",
              "      padding: 0 0 0 0;\n",
              "      width: 32px;\n",
              "    }\n",
              "\n",
              "    .colab-df-convert:hover {\n",
              "      background-color: #E2EBFA;\n",
              "      box-shadow: 0px 1px 2px rgba(60, 64, 67, 0.3), 0px 1px 3px 1px rgba(60, 64, 67, 0.15);\n",
              "      fill: #174EA6;\n",
              "    }\n",
              "\n",
              "    [theme=dark] .colab-df-convert {\n",
              "      background-color: #3B4455;\n",
              "      fill: #D2E3FC;\n",
              "    }\n",
              "\n",
              "    [theme=dark] .colab-df-convert:hover {\n",
              "      background-color: #434B5C;\n",
              "      box-shadow: 0px 1px 3px 1px rgba(0, 0, 0, 0.15);\n",
              "      filter: drop-shadow(0px 1px 2px rgba(0, 0, 0, 0.3));\n",
              "      fill: #FFFFFF;\n",
              "    }\n",
              "  </style>\n",
              "\n",
              "      <script>\n",
              "        const buttonEl =\n",
              "          document.querySelector('#df-e9df2830-e519-40f2-84fb-4eb606815b41 button.colab-df-convert');\n",
              "        buttonEl.style.display =\n",
              "          google.colab.kernel.accessAllowed ? 'block' : 'none';\n",
              "\n",
              "        async function convertToInteractive(key) {\n",
              "          const element = document.querySelector('#df-e9df2830-e519-40f2-84fb-4eb606815b41');\n",
              "          const dataTable =\n",
              "            await google.colab.kernel.invokeFunction('convertToInteractive',\n",
              "                                                     [key], {});\n",
              "          if (!dataTable) return;\n",
              "\n",
              "          const docLinkHtml = 'Like what you see? Visit the ' +\n",
              "            '<a target=\"_blank\" href=https://colab.research.google.com/notebooks/data_table.ipynb>data table notebook</a>'\n",
              "            + ' to learn more about interactive tables.';\n",
              "          element.innerHTML = '';\n",
              "          dataTable['output_type'] = 'display_data';\n",
              "          await google.colab.output.renderOutput(dataTable, element);\n",
              "          const docLink = document.createElement('div');\n",
              "          docLink.innerHTML = docLinkHtml;\n",
              "          element.appendChild(docLink);\n",
              "        }\n",
              "      </script>\n",
              "    </div>\n",
              "  </div>\n",
              "  "
            ]
          },
          "metadata": {},
          "execution_count": 42
        }
      ]
    },
    {
      "cell_type": "markdown",
      "source": [
        "## The IMMUNE decision model improved from 89.19% to 95.77% after fixing data imbalance problem. However, model didn't improve further after parameter optimization after data imbalance. Therefore, just resample the data is sufficient to maxmize model accuracy. In the final result, an optimized model after data resample correctly predicted 453 results and have 20 incorrect results. False negative and False positive are the same at 10"
      ],
      "metadata": {
        "id": "Nqk7zvMBhP8I"
      }
    }
  ]
}