{
  "nbformat": 4,
  "nbformat_minor": 0,
  "metadata": {
    "colab": {
      "name": "EmilyLiang-HW3.ipynb",
      "provenance": []
    },
    "kernelspec": {
      "name": "python3",
      "display_name": "Python 3"
    },
    "language_info": {
      "name": "python"
    }
  },
  "cells": [
    {
      "cell_type": "markdown",
      "source": [
        "### Using the machine learning algorithm: Decision Tree, and the  S1_Originaldata.csv database with cells into neoplastic astrocytes from the periphery, i.e., infiltrating neoplastic cells, and the tumor core, evaluate the performance of the classification with:\n",
        "\n",
        "**Part I**\n",
        "\n",
        "a) Parameter optimization \n",
        "\n",
        "b) Discuss the results obtained (different metrics) "
      ],
      "metadata": {
        "id": "OGeC9rIIEl8c"
      }
    },
    {
      "cell_type": "code",
      "execution_count": null,
      "metadata": {
        "id": "xN2CiIZPEgQh"
      },
      "outputs": [],
      "source": [
        "#Standard\n",
        "import pandas as pd\n",
        "import numpy as np\n",
        "\n",
        "#Visualizers\n",
        "import matplotlib.pyplot as plt\n",
        "import seaborn as sns\n",
        "from sklearn.tree import export_graphviz\n",
        "from yellowbrick.classifier import ConfusionMatrix\n",
        "\n",
        "#Metrics\n",
        "from sklearn.metrics import accuracy_score\n",
        "from sklearn.metrics import f1_score\n",
        "from sklearn.metrics import recall_score\n",
        "from sklearn.metrics import precision_score\n",
        "from sklearn.metrics import classification_report\n",
        "from sklearn.metrics import confusion_matrix\n",
        "from sklearn.metrics import plot_confusion_matrix\n",
        "\n",
        "#Metrics Additional\n",
        "from sklearn.metrics import cohen_kappa_score\n",
        "from sklearn.metrics import hamming_loss\n",
        "from sklearn.metrics import log_loss\n",
        "from sklearn.metrics import zero_one_loss\n",
        "from sklearn.metrics import matthews_corrcoef\n",
        "from sklearn.metrics import roc_auc_score\n",
        "\n",
        "#Preprocessing\n",
        "from sklearn import preprocessing\n",
        "from sklearn.preprocessing import StandardScaler\n",
        "from sklearn.model_selection import train_test_split\n",
        "from sklearn.model_selection import StratifiedKFold\n",
        "\n",
        "#Models\n",
        "from sklearn import model_selection\n",
        "from sklearn.tree import DecisionTreeClassifier #Model I will be using today\n",
        "from sklearn.linear_model import LogisticRegression\n",
        "from sklearn.neighbors import KNeighborsClassifier\n",
        "from sklearn.discriminant_analysis import LinearDiscriminantAnalysis\n",
        "from sklearn.naive_bayes import GaussianNB\n",
        "from sklearn.svm import SVC\n",
        "from sklearn.neural_network import MLPClassifier\n",
        "from sklearn.ensemble import RandomForestRegressor\n",
        "from sklearn.cluster import KMeans\n",
        "from sklearn.ensemble import RandomForestClassifier\n",
        "\n",
        "#Feature Selection\n",
        "import lightgbm as lgb\n",
        "\n",
        "#Sampling\n",
        "from sklearn.utils import resample\n",
        "\n",
        "#Tuning\n",
        "from sklearn.model_selection import GridSearchCV\n",
        "\n",
        "#Others\n",
        "import warnings\n",
        "warnings.filterwarnings('ignore')\n"
      ]
    },
    {
      "cell_type": "code",
      "source": [
        "df = pd.read_csv('/content/S1_Originaldata.csv')\n"
      ],
      "metadata": {
        "id": "FRx7gTbPE9GK"
      },
      "execution_count": null,
      "outputs": []
    },
    {
      "cell_type": "markdown",
      "source": [
        "### EDA"
      ],
      "metadata": {
        "id": "gSSRsaGPGGh1"
      }
    },
    {
      "cell_type": "code",
      "source": [
        "df.head(5)\n"
      ],
      "metadata": {
        "colab": {
          "base_uri": "https://localhost:8080/",
          "height": 317
        },
        "id": "YgaS-fjGFFer",
        "outputId": "a4c36aa1-7bca-4499-9555-a6b1bcc2c6fd"
      },
      "execution_count": null,
      "outputs": [
        {
          "output_type": "execute_result",
          "data": {
            "text/plain": [
              "             class  1/2-SBSRNA4  A1BG  A1BG-AS1  A1CF  A2LD1       A2M  A2ML1  \\\n",
              "0  Neoplastic_Core          0.0   0.0       0.0   0.0    0.0  0.000000    0.0   \n",
              "1  Neoplastic_Core          0.0   0.0       0.0   0.0    0.0  0.000000    0.0   \n",
              "2  Neoplastic_Core          0.0   0.0       0.0   0.0    0.0  3.812781    0.0   \n",
              "3  Neoplastic_Core          0.0   0.0       0.0   0.0    0.0  0.000000    0.0   \n",
              "4  Neoplastic_Core          0.0   0.0       0.0   0.0    0.0  0.000000    0.0   \n",
              "\n",
              "   A2MP1  A4GALT  ...  PPP1R2P3  PPP1R2P9  PPP1R32  PPP1R35  PPP1R36  PPP1R37  \\\n",
              "0    0.0       0  ...  0.000000         0      0.0      0.0      0.0      0.0   \n",
              "1    0.0       0  ...  1.487372         0      0.0      0.0      0.0      0.0   \n",
              "2    0.0       0  ...  0.000000         0      0.0      0.0      0.0      0.0   \n",
              "3    0.0       0  ...  0.000000         0      0.0      0.0      0.0      0.0   \n",
              "4    0.0       0  ...  0.000000         0      0.0      0.0      0.0      0.0   \n",
              "\n",
              "   PPP1R3A  PPP1R3B  PPP1R3C  PPP1R3D  \n",
              "0        0      0.0      0.0      0.0  \n",
              "1        0      0.0      0.0      0.0  \n",
              "2        0      0.0      0.0      0.0  \n",
              "3        0      0.0      0.0      0.0  \n",
              "4        0      0.0      0.0      0.0  \n",
              "\n",
              "[5 rows x 16384 columns]"
            ],
            "text/html": [
              "\n",
              "  <div id=\"df-bcda165c-4f89-4fdb-99e5-1c32d94f487c\">\n",
              "    <div class=\"colab-df-container\">\n",
              "      <div>\n",
              "<style scoped>\n",
              "    .dataframe tbody tr th:only-of-type {\n",
              "        vertical-align: middle;\n",
              "    }\n",
              "\n",
              "    .dataframe tbody tr th {\n",
              "        vertical-align: top;\n",
              "    }\n",
              "\n",
              "    .dataframe thead th {\n",
              "        text-align: right;\n",
              "    }\n",
              "</style>\n",
              "<table border=\"1\" class=\"dataframe\">\n",
              "  <thead>\n",
              "    <tr style=\"text-align: right;\">\n",
              "      <th></th>\n",
              "      <th>class</th>\n",
              "      <th>1/2-SBSRNA4</th>\n",
              "      <th>A1BG</th>\n",
              "      <th>A1BG-AS1</th>\n",
              "      <th>A1CF</th>\n",
              "      <th>A2LD1</th>\n",
              "      <th>A2M</th>\n",
              "      <th>A2ML1</th>\n",
              "      <th>A2MP1</th>\n",
              "      <th>A4GALT</th>\n",
              "      <th>...</th>\n",
              "      <th>PPP1R2P3</th>\n",
              "      <th>PPP1R2P9</th>\n",
              "      <th>PPP1R32</th>\n",
              "      <th>PPP1R35</th>\n",
              "      <th>PPP1R36</th>\n",
              "      <th>PPP1R37</th>\n",
              "      <th>PPP1R3A</th>\n",
              "      <th>PPP1R3B</th>\n",
              "      <th>PPP1R3C</th>\n",
              "      <th>PPP1R3D</th>\n",
              "    </tr>\n",
              "  </thead>\n",
              "  <tbody>\n",
              "    <tr>\n",
              "      <th>0</th>\n",
              "      <td>Neoplastic_Core</td>\n",
              "      <td>0.0</td>\n",
              "      <td>0.0</td>\n",
              "      <td>0.0</td>\n",
              "      <td>0.0</td>\n",
              "      <td>0.0</td>\n",
              "      <td>0.000000</td>\n",
              "      <td>0.0</td>\n",
              "      <td>0.0</td>\n",
              "      <td>0</td>\n",
              "      <td>...</td>\n",
              "      <td>0.000000</td>\n",
              "      <td>0</td>\n",
              "      <td>0.0</td>\n",
              "      <td>0.0</td>\n",
              "      <td>0.0</td>\n",
              "      <td>0.0</td>\n",
              "      <td>0</td>\n",
              "      <td>0.0</td>\n",
              "      <td>0.0</td>\n",
              "      <td>0.0</td>\n",
              "    </tr>\n",
              "    <tr>\n",
              "      <th>1</th>\n",
              "      <td>Neoplastic_Core</td>\n",
              "      <td>0.0</td>\n",
              "      <td>0.0</td>\n",
              "      <td>0.0</td>\n",
              "      <td>0.0</td>\n",
              "      <td>0.0</td>\n",
              "      <td>0.000000</td>\n",
              "      <td>0.0</td>\n",
              "      <td>0.0</td>\n",
              "      <td>0</td>\n",
              "      <td>...</td>\n",
              "      <td>1.487372</td>\n",
              "      <td>0</td>\n",
              "      <td>0.0</td>\n",
              "      <td>0.0</td>\n",
              "      <td>0.0</td>\n",
              "      <td>0.0</td>\n",
              "      <td>0</td>\n",
              "      <td>0.0</td>\n",
              "      <td>0.0</td>\n",
              "      <td>0.0</td>\n",
              "    </tr>\n",
              "    <tr>\n",
              "      <th>2</th>\n",
              "      <td>Neoplastic_Core</td>\n",
              "      <td>0.0</td>\n",
              "      <td>0.0</td>\n",
              "      <td>0.0</td>\n",
              "      <td>0.0</td>\n",
              "      <td>0.0</td>\n",
              "      <td>3.812781</td>\n",
              "      <td>0.0</td>\n",
              "      <td>0.0</td>\n",
              "      <td>0</td>\n",
              "      <td>...</td>\n",
              "      <td>0.000000</td>\n",
              "      <td>0</td>\n",
              "      <td>0.0</td>\n",
              "      <td>0.0</td>\n",
              "      <td>0.0</td>\n",
              "      <td>0.0</td>\n",
              "      <td>0</td>\n",
              "      <td>0.0</td>\n",
              "      <td>0.0</td>\n",
              "      <td>0.0</td>\n",
              "    </tr>\n",
              "    <tr>\n",
              "      <th>3</th>\n",
              "      <td>Neoplastic_Core</td>\n",
              "      <td>0.0</td>\n",
              "      <td>0.0</td>\n",
              "      <td>0.0</td>\n",
              "      <td>0.0</td>\n",
              "      <td>0.0</td>\n",
              "      <td>0.000000</td>\n",
              "      <td>0.0</td>\n",
              "      <td>0.0</td>\n",
              "      <td>0</td>\n",
              "      <td>...</td>\n",
              "      <td>0.000000</td>\n",
              "      <td>0</td>\n",
              "      <td>0.0</td>\n",
              "      <td>0.0</td>\n",
              "      <td>0.0</td>\n",
              "      <td>0.0</td>\n",
              "      <td>0</td>\n",
              "      <td>0.0</td>\n",
              "      <td>0.0</td>\n",
              "      <td>0.0</td>\n",
              "    </tr>\n",
              "    <tr>\n",
              "      <th>4</th>\n",
              "      <td>Neoplastic_Core</td>\n",
              "      <td>0.0</td>\n",
              "      <td>0.0</td>\n",
              "      <td>0.0</td>\n",
              "      <td>0.0</td>\n",
              "      <td>0.0</td>\n",
              "      <td>0.000000</td>\n",
              "      <td>0.0</td>\n",
              "      <td>0.0</td>\n",
              "      <td>0</td>\n",
              "      <td>...</td>\n",
              "      <td>0.000000</td>\n",
              "      <td>0</td>\n",
              "      <td>0.0</td>\n",
              "      <td>0.0</td>\n",
              "      <td>0.0</td>\n",
              "      <td>0.0</td>\n",
              "      <td>0</td>\n",
              "      <td>0.0</td>\n",
              "      <td>0.0</td>\n",
              "      <td>0.0</td>\n",
              "    </tr>\n",
              "  </tbody>\n",
              "</table>\n",
              "<p>5 rows × 16384 columns</p>\n",
              "</div>\n",
              "      <button class=\"colab-df-convert\" onclick=\"convertToInteractive('df-bcda165c-4f89-4fdb-99e5-1c32d94f487c')\"\n",
              "              title=\"Convert this dataframe to an interactive table.\"\n",
              "              style=\"display:none;\">\n",
              "        \n",
              "  <svg xmlns=\"http://www.w3.org/2000/svg\" height=\"24px\"viewBox=\"0 0 24 24\"\n",
              "       width=\"24px\">\n",
              "    <path d=\"M0 0h24v24H0V0z\" fill=\"none\"/>\n",
              "    <path d=\"M18.56 5.44l.94 2.06.94-2.06 2.06-.94-2.06-.94-.94-2.06-.94 2.06-2.06.94zm-11 1L8.5 8.5l.94-2.06 2.06-.94-2.06-.94L8.5 2.5l-.94 2.06-2.06.94zm10 10l.94 2.06.94-2.06 2.06-.94-2.06-.94-.94-2.06-.94 2.06-2.06.94z\"/><path d=\"M17.41 7.96l-1.37-1.37c-.4-.4-.92-.59-1.43-.59-.52 0-1.04.2-1.43.59L10.3 9.45l-7.72 7.72c-.78.78-.78 2.05 0 2.83L4 21.41c.39.39.9.59 1.41.59.51 0 1.02-.2 1.41-.59l7.78-7.78 2.81-2.81c.8-.78.8-2.07 0-2.86zM5.41 20L4 18.59l7.72-7.72 1.47 1.35L5.41 20z\"/>\n",
              "  </svg>\n",
              "      </button>\n",
              "      \n",
              "  <style>\n",
              "    .colab-df-container {\n",
              "      display:flex;\n",
              "      flex-wrap:wrap;\n",
              "      gap: 12px;\n",
              "    }\n",
              "\n",
              "    .colab-df-convert {\n",
              "      background-color: #E8F0FE;\n",
              "      border: none;\n",
              "      border-radius: 50%;\n",
              "      cursor: pointer;\n",
              "      display: none;\n",
              "      fill: #1967D2;\n",
              "      height: 32px;\n",
              "      padding: 0 0 0 0;\n",
              "      width: 32px;\n",
              "    }\n",
              "\n",
              "    .colab-df-convert:hover {\n",
              "      background-color: #E2EBFA;\n",
              "      box-shadow: 0px 1px 2px rgba(60, 64, 67, 0.3), 0px 1px 3px 1px rgba(60, 64, 67, 0.15);\n",
              "      fill: #174EA6;\n",
              "    }\n",
              "\n",
              "    [theme=dark] .colab-df-convert {\n",
              "      background-color: #3B4455;\n",
              "      fill: #D2E3FC;\n",
              "    }\n",
              "\n",
              "    [theme=dark] .colab-df-convert:hover {\n",
              "      background-color: #434B5C;\n",
              "      box-shadow: 0px 1px 3px 1px rgba(0, 0, 0, 0.15);\n",
              "      filter: drop-shadow(0px 1px 2px rgba(0, 0, 0, 0.3));\n",
              "      fill: #FFFFFF;\n",
              "    }\n",
              "  </style>\n",
              "\n",
              "      <script>\n",
              "        const buttonEl =\n",
              "          document.querySelector('#df-bcda165c-4f89-4fdb-99e5-1c32d94f487c button.colab-df-convert');\n",
              "        buttonEl.style.display =\n",
              "          google.colab.kernel.accessAllowed ? 'block' : 'none';\n",
              "\n",
              "        async function convertToInteractive(key) {\n",
              "          const element = document.querySelector('#df-bcda165c-4f89-4fdb-99e5-1c32d94f487c');\n",
              "          const dataTable =\n",
              "            await google.colab.kernel.invokeFunction('convertToInteractive',\n",
              "                                                     [key], {});\n",
              "          if (!dataTable) return;\n",
              "\n",
              "          const docLinkHtml = 'Like what you see? Visit the ' +\n",
              "            '<a target=\"_blank\" href=https://colab.research.google.com/notebooks/data_table.ipynb>data table notebook</a>'\n",
              "            + ' to learn more about interactive tables.';\n",
              "          element.innerHTML = '';\n",
              "          dataTable['output_type'] = 'display_data';\n",
              "          await google.colab.output.renderOutput(dataTable, element);\n",
              "          const docLink = document.createElement('div');\n",
              "          docLink.innerHTML = docLinkHtml;\n",
              "          element.appendChild(docLink);\n",
              "        }\n",
              "      </script>\n",
              "    </div>\n",
              "  </div>\n",
              "  "
            ]
          },
          "metadata": {},
          "execution_count": 3
        }
      ]
    },
    {
      "cell_type": "code",
      "source": [
        "#444 rows and 16384 columns\n",
        "\n",
        "df.shape  "
      ],
      "metadata": {
        "colab": {
          "base_uri": "https://localhost:8080/"
        },
        "id": "vf27FHd7FGbY",
        "outputId": "75e5546b-39b4-4e19-ad57-ae18726f7833"
      },
      "execution_count": null,
      "outputs": [
        {
          "output_type": "execute_result",
          "data": {
            "text/plain": [
              "(444, 16384)"
            ]
          },
          "metadata": {},
          "execution_count": 4
        }
      ]
    },
    {
      "cell_type": "code",
      "source": [
        "df.describe()"
      ],
      "metadata": {
        "colab": {
          "base_uri": "https://localhost:8080/",
          "height": 411
        },
        "id": "EyWMkN0YFK_Z",
        "outputId": "d6305623-17fc-4a37-daae-492321fffaff"
      },
      "execution_count": null,
      "outputs": [
        {
          "output_type": "execute_result",
          "data": {
            "text/plain": [
              "       1/2-SBSRNA4        A1BG    A1BG-AS1        A1CF       A2LD1  \\\n",
              "count   444.000000  444.000000  444.000000  444.000000  444.000000   \n",
              "mean      0.281286    1.300646    0.218221    0.043053    0.169951   \n",
              "std       1.448833    2.474125    1.103586    0.567969    1.023480   \n",
              "min       0.000000    0.000000    0.000000    0.000000    0.000000   \n",
              "25%       0.000000    0.000000    0.000000    0.000000    0.000000   \n",
              "50%       0.000000    0.000000    0.000000    0.000000    0.000000   \n",
              "75%       0.000000    0.000000    0.000000    0.000000    0.000000   \n",
              "max       9.515390    9.235368    8.587576    8.715006    9.315997   \n",
              "\n",
              "              A2M       A2ML1       A2MP1  A4GALT       A4GNT  ...  \\\n",
              "count  444.000000  444.000000  444.000000   444.0  444.000000  ...   \n",
              "mean     0.966699    0.308724    0.034910     0.0    0.019368  ...   \n",
              "std      2.856530    1.524655    0.468207     0.0    0.342199  ...   \n",
              "min      0.000000    0.000000    0.000000     0.0    0.000000  ...   \n",
              "25%      0.000000    0.000000    0.000000     0.0    0.000000  ...   \n",
              "50%      0.000000    0.000000    0.000000     0.0    0.000000  ...   \n",
              "75%      0.000000    0.000000    0.000000     0.0    0.000000  ...   \n",
              "max     14.432504    9.786054    7.939351     0.0    7.044394  ...   \n",
              "\n",
              "         PPP1R2P3  PPP1R2P9     PPP1R32     PPP1R35     PPP1R36     PPP1R37  \\\n",
              "count  444.000000     444.0  444.000000  444.000000  444.000000  444.000000   \n",
              "mean     0.129347       0.0    0.186652    1.500870    0.168991    0.059058   \n",
              "std      0.482201       0.0    1.083458    2.676177    1.034354    0.502183   \n",
              "min      0.000000       0.0    0.000000    0.000000    0.000000    0.000000   \n",
              "25%      0.000000       0.0    0.000000    0.000000    0.000000    0.000000   \n",
              "50%      0.000000       0.0    0.000000    0.000000    0.000000    0.000000   \n",
              "75%      0.000000       0.0    0.000000    2.762115    0.000000    0.000000   \n",
              "max      3.053072       0.0    8.149755   10.759567    8.607547    7.653209   \n",
              "\n",
              "       PPP1R3A     PPP1R3B     PPP1R3C     PPP1R3D  \n",
              "count    444.0  444.000000  444.000000  444.000000  \n",
              "mean       0.0    0.274012    0.578264    0.138385  \n",
              "std        0.0    1.252474    2.071382    0.950394  \n",
              "min        0.0    0.000000    0.000000    0.000000  \n",
              "25%        0.0    0.000000    0.000000    0.000000  \n",
              "50%        0.0    0.000000    0.000000    0.000000  \n",
              "75%        0.0    0.000000    0.000000    0.000000  \n",
              "max        0.0   10.029919   11.223894    9.566267  \n",
              "\n",
              "[8 rows x 16383 columns]"
            ],
            "text/html": [
              "\n",
              "  <div id=\"df-a1331ae2-812d-4990-a5d6-b187bf5466bc\">\n",
              "    <div class=\"colab-df-container\">\n",
              "      <div>\n",
              "<style scoped>\n",
              "    .dataframe tbody tr th:only-of-type {\n",
              "        vertical-align: middle;\n",
              "    }\n",
              "\n",
              "    .dataframe tbody tr th {\n",
              "        vertical-align: top;\n",
              "    }\n",
              "\n",
              "    .dataframe thead th {\n",
              "        text-align: right;\n",
              "    }\n",
              "</style>\n",
              "<table border=\"1\" class=\"dataframe\">\n",
              "  <thead>\n",
              "    <tr style=\"text-align: right;\">\n",
              "      <th></th>\n",
              "      <th>1/2-SBSRNA4</th>\n",
              "      <th>A1BG</th>\n",
              "      <th>A1BG-AS1</th>\n",
              "      <th>A1CF</th>\n",
              "      <th>A2LD1</th>\n",
              "      <th>A2M</th>\n",
              "      <th>A2ML1</th>\n",
              "      <th>A2MP1</th>\n",
              "      <th>A4GALT</th>\n",
              "      <th>A4GNT</th>\n",
              "      <th>...</th>\n",
              "      <th>PPP1R2P3</th>\n",
              "      <th>PPP1R2P9</th>\n",
              "      <th>PPP1R32</th>\n",
              "      <th>PPP1R35</th>\n",
              "      <th>PPP1R36</th>\n",
              "      <th>PPP1R37</th>\n",
              "      <th>PPP1R3A</th>\n",
              "      <th>PPP1R3B</th>\n",
              "      <th>PPP1R3C</th>\n",
              "      <th>PPP1R3D</th>\n",
              "    </tr>\n",
              "  </thead>\n",
              "  <tbody>\n",
              "    <tr>\n",
              "      <th>count</th>\n",
              "      <td>444.000000</td>\n",
              "      <td>444.000000</td>\n",
              "      <td>444.000000</td>\n",
              "      <td>444.000000</td>\n",
              "      <td>444.000000</td>\n",
              "      <td>444.000000</td>\n",
              "      <td>444.000000</td>\n",
              "      <td>444.000000</td>\n",
              "      <td>444.0</td>\n",
              "      <td>444.000000</td>\n",
              "      <td>...</td>\n",
              "      <td>444.000000</td>\n",
              "      <td>444.0</td>\n",
              "      <td>444.000000</td>\n",
              "      <td>444.000000</td>\n",
              "      <td>444.000000</td>\n",
              "      <td>444.000000</td>\n",
              "      <td>444.0</td>\n",
              "      <td>444.000000</td>\n",
              "      <td>444.000000</td>\n",
              "      <td>444.000000</td>\n",
              "    </tr>\n",
              "    <tr>\n",
              "      <th>mean</th>\n",
              "      <td>0.281286</td>\n",
              "      <td>1.300646</td>\n",
              "      <td>0.218221</td>\n",
              "      <td>0.043053</td>\n",
              "      <td>0.169951</td>\n",
              "      <td>0.966699</td>\n",
              "      <td>0.308724</td>\n",
              "      <td>0.034910</td>\n",
              "      <td>0.0</td>\n",
              "      <td>0.019368</td>\n",
              "      <td>...</td>\n",
              "      <td>0.129347</td>\n",
              "      <td>0.0</td>\n",
              "      <td>0.186652</td>\n",
              "      <td>1.500870</td>\n",
              "      <td>0.168991</td>\n",
              "      <td>0.059058</td>\n",
              "      <td>0.0</td>\n",
              "      <td>0.274012</td>\n",
              "      <td>0.578264</td>\n",
              "      <td>0.138385</td>\n",
              "    </tr>\n",
              "    <tr>\n",
              "      <th>std</th>\n",
              "      <td>1.448833</td>\n",
              "      <td>2.474125</td>\n",
              "      <td>1.103586</td>\n",
              "      <td>0.567969</td>\n",
              "      <td>1.023480</td>\n",
              "      <td>2.856530</td>\n",
              "      <td>1.524655</td>\n",
              "      <td>0.468207</td>\n",
              "      <td>0.0</td>\n",
              "      <td>0.342199</td>\n",
              "      <td>...</td>\n",
              "      <td>0.482201</td>\n",
              "      <td>0.0</td>\n",
              "      <td>1.083458</td>\n",
              "      <td>2.676177</td>\n",
              "      <td>1.034354</td>\n",
              "      <td>0.502183</td>\n",
              "      <td>0.0</td>\n",
              "      <td>1.252474</td>\n",
              "      <td>2.071382</td>\n",
              "      <td>0.950394</td>\n",
              "    </tr>\n",
              "    <tr>\n",
              "      <th>min</th>\n",
              "      <td>0.000000</td>\n",
              "      <td>0.000000</td>\n",
              "      <td>0.000000</td>\n",
              "      <td>0.000000</td>\n",
              "      <td>0.000000</td>\n",
              "      <td>0.000000</td>\n",
              "      <td>0.000000</td>\n",
              "      <td>0.000000</td>\n",
              "      <td>0.0</td>\n",
              "      <td>0.000000</td>\n",
              "      <td>...</td>\n",
              "      <td>0.000000</td>\n",
              "      <td>0.0</td>\n",
              "      <td>0.000000</td>\n",
              "      <td>0.000000</td>\n",
              "      <td>0.000000</td>\n",
              "      <td>0.000000</td>\n",
              "      <td>0.0</td>\n",
              "      <td>0.000000</td>\n",
              "      <td>0.000000</td>\n",
              "      <td>0.000000</td>\n",
              "    </tr>\n",
              "    <tr>\n",
              "      <th>25%</th>\n",
              "      <td>0.000000</td>\n",
              "      <td>0.000000</td>\n",
              "      <td>0.000000</td>\n",
              "      <td>0.000000</td>\n",
              "      <td>0.000000</td>\n",
              "      <td>0.000000</td>\n",
              "      <td>0.000000</td>\n",
              "      <td>0.000000</td>\n",
              "      <td>0.0</td>\n",
              "      <td>0.000000</td>\n",
              "      <td>...</td>\n",
              "      <td>0.000000</td>\n",
              "      <td>0.0</td>\n",
              "      <td>0.000000</td>\n",
              "      <td>0.000000</td>\n",
              "      <td>0.000000</td>\n",
              "      <td>0.000000</td>\n",
              "      <td>0.0</td>\n",
              "      <td>0.000000</td>\n",
              "      <td>0.000000</td>\n",
              "      <td>0.000000</td>\n",
              "    </tr>\n",
              "    <tr>\n",
              "      <th>50%</th>\n",
              "      <td>0.000000</td>\n",
              "      <td>0.000000</td>\n",
              "      <td>0.000000</td>\n",
              "      <td>0.000000</td>\n",
              "      <td>0.000000</td>\n",
              "      <td>0.000000</td>\n",
              "      <td>0.000000</td>\n",
              "      <td>0.000000</td>\n",
              "      <td>0.0</td>\n",
              "      <td>0.000000</td>\n",
              "      <td>...</td>\n",
              "      <td>0.000000</td>\n",
              "      <td>0.0</td>\n",
              "      <td>0.000000</td>\n",
              "      <td>0.000000</td>\n",
              "      <td>0.000000</td>\n",
              "      <td>0.000000</td>\n",
              "      <td>0.0</td>\n",
              "      <td>0.000000</td>\n",
              "      <td>0.000000</td>\n",
              "      <td>0.000000</td>\n",
              "    </tr>\n",
              "    <tr>\n",
              "      <th>75%</th>\n",
              "      <td>0.000000</td>\n",
              "      <td>0.000000</td>\n",
              "      <td>0.000000</td>\n",
              "      <td>0.000000</td>\n",
              "      <td>0.000000</td>\n",
              "      <td>0.000000</td>\n",
              "      <td>0.000000</td>\n",
              "      <td>0.000000</td>\n",
              "      <td>0.0</td>\n",
              "      <td>0.000000</td>\n",
              "      <td>...</td>\n",
              "      <td>0.000000</td>\n",
              "      <td>0.0</td>\n",
              "      <td>0.000000</td>\n",
              "      <td>2.762115</td>\n",
              "      <td>0.000000</td>\n",
              "      <td>0.000000</td>\n",
              "      <td>0.0</td>\n",
              "      <td>0.000000</td>\n",
              "      <td>0.000000</td>\n",
              "      <td>0.000000</td>\n",
              "    </tr>\n",
              "    <tr>\n",
              "      <th>max</th>\n",
              "      <td>9.515390</td>\n",
              "      <td>9.235368</td>\n",
              "      <td>8.587576</td>\n",
              "      <td>8.715006</td>\n",
              "      <td>9.315997</td>\n",
              "      <td>14.432504</td>\n",
              "      <td>9.786054</td>\n",
              "      <td>7.939351</td>\n",
              "      <td>0.0</td>\n",
              "      <td>7.044394</td>\n",
              "      <td>...</td>\n",
              "      <td>3.053072</td>\n",
              "      <td>0.0</td>\n",
              "      <td>8.149755</td>\n",
              "      <td>10.759567</td>\n",
              "      <td>8.607547</td>\n",
              "      <td>7.653209</td>\n",
              "      <td>0.0</td>\n",
              "      <td>10.029919</td>\n",
              "      <td>11.223894</td>\n",
              "      <td>9.566267</td>\n",
              "    </tr>\n",
              "  </tbody>\n",
              "</table>\n",
              "<p>8 rows × 16383 columns</p>\n",
              "</div>\n",
              "      <button class=\"colab-df-convert\" onclick=\"convertToInteractive('df-a1331ae2-812d-4990-a5d6-b187bf5466bc')\"\n",
              "              title=\"Convert this dataframe to an interactive table.\"\n",
              "              style=\"display:none;\">\n",
              "        \n",
              "  <svg xmlns=\"http://www.w3.org/2000/svg\" height=\"24px\"viewBox=\"0 0 24 24\"\n",
              "       width=\"24px\">\n",
              "    <path d=\"M0 0h24v24H0V0z\" fill=\"none\"/>\n",
              "    <path d=\"M18.56 5.44l.94 2.06.94-2.06 2.06-.94-2.06-.94-.94-2.06-.94 2.06-2.06.94zm-11 1L8.5 8.5l.94-2.06 2.06-.94-2.06-.94L8.5 2.5l-.94 2.06-2.06.94zm10 10l.94 2.06.94-2.06 2.06-.94-2.06-.94-.94-2.06-.94 2.06-2.06.94z\"/><path d=\"M17.41 7.96l-1.37-1.37c-.4-.4-.92-.59-1.43-.59-.52 0-1.04.2-1.43.59L10.3 9.45l-7.72 7.72c-.78.78-.78 2.05 0 2.83L4 21.41c.39.39.9.59 1.41.59.51 0 1.02-.2 1.41-.59l7.78-7.78 2.81-2.81c.8-.78.8-2.07 0-2.86zM5.41 20L4 18.59l7.72-7.72 1.47 1.35L5.41 20z\"/>\n",
              "  </svg>\n",
              "      </button>\n",
              "      \n",
              "  <style>\n",
              "    .colab-df-container {\n",
              "      display:flex;\n",
              "      flex-wrap:wrap;\n",
              "      gap: 12px;\n",
              "    }\n",
              "\n",
              "    .colab-df-convert {\n",
              "      background-color: #E8F0FE;\n",
              "      border: none;\n",
              "      border-radius: 50%;\n",
              "      cursor: pointer;\n",
              "      display: none;\n",
              "      fill: #1967D2;\n",
              "      height: 32px;\n",
              "      padding: 0 0 0 0;\n",
              "      width: 32px;\n",
              "    }\n",
              "\n",
              "    .colab-df-convert:hover {\n",
              "      background-color: #E2EBFA;\n",
              "      box-shadow: 0px 1px 2px rgba(60, 64, 67, 0.3), 0px 1px 3px 1px rgba(60, 64, 67, 0.15);\n",
              "      fill: #174EA6;\n",
              "    }\n",
              "\n",
              "    [theme=dark] .colab-df-convert {\n",
              "      background-color: #3B4455;\n",
              "      fill: #D2E3FC;\n",
              "    }\n",
              "\n",
              "    [theme=dark] .colab-df-convert:hover {\n",
              "      background-color: #434B5C;\n",
              "      box-shadow: 0px 1px 3px 1px rgba(0, 0, 0, 0.15);\n",
              "      filter: drop-shadow(0px 1px 2px rgba(0, 0, 0, 0.3));\n",
              "      fill: #FFFFFF;\n",
              "    }\n",
              "  </style>\n",
              "\n",
              "      <script>\n",
              "        const buttonEl =\n",
              "          document.querySelector('#df-a1331ae2-812d-4990-a5d6-b187bf5466bc button.colab-df-convert');\n",
              "        buttonEl.style.display =\n",
              "          google.colab.kernel.accessAllowed ? 'block' : 'none';\n",
              "\n",
              "        async function convertToInteractive(key) {\n",
              "          const element = document.querySelector('#df-a1331ae2-812d-4990-a5d6-b187bf5466bc');\n",
              "          const dataTable =\n",
              "            await google.colab.kernel.invokeFunction('convertToInteractive',\n",
              "                                                     [key], {});\n",
              "          if (!dataTable) return;\n",
              "\n",
              "          const docLinkHtml = 'Like what you see? Visit the ' +\n",
              "            '<a target=\"_blank\" href=https://colab.research.google.com/notebooks/data_table.ipynb>data table notebook</a>'\n",
              "            + ' to learn more about interactive tables.';\n",
              "          element.innerHTML = '';\n",
              "          dataTable['output_type'] = 'display_data';\n",
              "          await google.colab.output.renderOutput(dataTable, element);\n",
              "          const docLink = document.createElement('div');\n",
              "          docLink.innerHTML = docLinkHtml;\n",
              "          element.appendChild(docLink);\n",
              "        }\n",
              "      </script>\n",
              "    </div>\n",
              "  </div>\n",
              "  "
            ]
          },
          "metadata": {},
          "execution_count": 5
        }
      ]
    },
    {
      "cell_type": "code",
      "source": [
        "df.isna().sum()"
      ],
      "metadata": {
        "colab": {
          "base_uri": "https://localhost:8080/"
        },
        "id": "kpTBic0LxiHc",
        "outputId": "f4641e61-94fd-4891-8a81-6f6828188a00"
      },
      "execution_count": null,
      "outputs": [
        {
          "output_type": "execute_result",
          "data": {
            "text/plain": [
              "class          0\n",
              "1/2-SBSRNA4    0\n",
              "A1BG           0\n",
              "A1BG-AS1       0\n",
              "A1CF           0\n",
              "              ..\n",
              "PPP1R37        0\n",
              "PPP1R3A        0\n",
              "PPP1R3B        0\n",
              "PPP1R3C        0\n",
              "PPP1R3D        0\n",
              "Length: 16384, dtype: int64"
            ]
          },
          "metadata": {},
          "execution_count": 6
        }
      ]
    },
    {
      "cell_type": "code",
      "source": [
        "#Counts of classes in data. \n",
        "\n",
        "df['class'].value_counts()"
      ],
      "metadata": {
        "colab": {
          "base_uri": "https://localhost:8080/"
        },
        "id": "sYKTEqfkFO0q",
        "outputId": "7640c170-636f-41d4-8dcb-ec79729f7050"
      },
      "execution_count": null,
      "outputs": [
        {
          "output_type": "execute_result",
          "data": {
            "text/plain": [
              "Neoplastic_Core         386\n",
              "Neoplastic_Periphery     58\n",
              "Name: class, dtype: int64"
            ]
          },
          "metadata": {},
          "execution_count": 7
        }
      ]
    },
    {
      "cell_type": "code",
      "source": [
        "#Neoplastic_Core is alot more, consisting of 86.94% of the data\n",
        "\n",
        "df['class'].value_counts(normalize=True)*100"
      ],
      "metadata": {
        "colab": {
          "base_uri": "https://localhost:8080/"
        },
        "id": "j5T99exhFpzL",
        "outputId": "cbbc8c99-ae05-44cc-c8e7-e2cadd0908d5"
      },
      "execution_count": null,
      "outputs": [
        {
          "output_type": "execute_result",
          "data": {
            "text/plain": [
              "Neoplastic_Core         86.936937\n",
              "Neoplastic_Periphery    13.063063\n",
              "Name: class, dtype: float64"
            ]
          },
          "metadata": {},
          "execution_count": 8
        }
      ]
    },
    {
      "cell_type": "code",
      "source": [
        "print(\"Rows, Columns:\",df.shape)\n",
        "Classes = df.groupby('class').size()\n",
        "labels = Classes.index.values\n",
        "sizes = Classes.values\n",
        "muestra = []\n",
        "for k in range(0,labels.size):\n",
        "  texto = labels[k]+': '+str(sizes[k])+' samples\\n({:,.2f} %)'.format((100*sizes[k]/sum(sizes)))\n",
        "  muestra.append(texto)\n",
        "colors = ['#F4D03F','#27AE60']\n",
        "bbox_props = dict(boxstyle=\"square,pad=0.3\", fc=\"w\", ec=\"k\", lw=0.72)\n",
        "kw = dict(arrowprops=dict(arrowstyle=\"-\"),bbox=bbox_props, zorder=0, va=\"center\")\n",
        "fig,ax1 = plt.subplots(figsize=(18,9),ncols=1,nrows=1)\n",
        "wedges, texts = ax1.pie(sizes, shadow=True, colors=colors, startangle=90)\n",
        "ax1.axis('equal')  # Equal aspect ratio ensures that pie is drawn as a circle.\n",
        "\n",
        "for i, p in enumerate(wedges):\n",
        "    ang = (p.theta2 - p.theta1)/2. + p.theta1\n",
        "    y = np.sin(np.deg2rad(ang))\n",
        "    x = np.cos(np.deg2rad(ang))\n",
        "    horizontalalignment = {-1: \"right\", 1: \"left\"}[int(np.sign(x))]\n",
        "    connectionstyle = \"angle,angleA=0,angleB={}\".format(ang)\n",
        "    kw[\"arrowprops\"].update({\"connectionstyle\": connectionstyle})\n",
        "    ax1.annotate(muestra[i], xy=(x, y), xytext=(1.35*np.sign(x), 1.4*y),\n",
        "                horizontalalignment=horizontalalignment, **kw)\n",
        "plt.show()"
      ],
      "metadata": {
        "colab": {
          "base_uri": "https://localhost:8080/",
          "height": 639
        },
        "id": "HXb4wYlJFsov",
        "outputId": "76eee196-b3e4-4ec5-b474-03d04e538b94"
      },
      "execution_count": null,
      "outputs": [
        {
          "output_type": "stream",
          "name": "stdout",
          "text": [
            "Rows, Columns: (444, 16384)\n"
          ]
        },
        {
          "output_type": "display_data",
          "data": {
            "text/plain": [
              "<Figure size 1296x648 with 1 Axes>"
            ],
            "image/png": "[encoded data removed]"
          },
          "metadata": {}
        }
      ]
    },
    {
      "cell_type": "markdown",
      "source": [
        "### Data Split/Transform anbd Feature Selection"
      ],
      "metadata": {
        "id": "YEwFYQcXF36b"
      }
    },
    {
      "cell_type": "code",
      "source": [
        "X = df.drop(['class'], axis=1)\n",
        "y = df['class']"
      ],
      "metadata": {
        "id": "Zn2-rI7xJtAu"
      },
      "execution_count": null,
      "outputs": []
    },
    {
      "cell_type": "code",
      "source": [
        "# Splitting the dataset to Train and test\n",
        "from sklearn.model_selection import train_test_split\n",
        "X_train, X_test, y_train, y_test = train_test_split(X, y, test_size= 0.2, random_state= 42, stratify=y)\n",
        "\n",
        "#to know the shape of the train and test dataset.\n",
        "print(X_train.shape)\n",
        "print(y_train.shape)\n",
        "print(X_test.shape)\n",
        "print(y_test.shape)"
      ],
      "metadata": {
        "colab": {
          "base_uri": "https://localhost:8080/"
        },
        "id": "o3PTs--EFwPb",
        "outputId": "7c60daaf-6bed-4be7-b6ca-8af33c7c4fb3"
      },
      "execution_count": null,
      "outputs": [
        {
          "output_type": "stream",
          "name": "stdout",
          "text": [
            "(355, 16383)\n",
            "(355,)\n",
            "(89, 16383)\n",
            "(89,)\n"
          ]
        }
      ]
    },
    {
      "cell_type": "code",
      "source": [
        "# Feature importance \n",
        "\n",
        "feature_importances = np.zeros(X_train.shape[1])\n",
        "\n",
        "model = lgb.LGBMClassifier()"
      ],
      "metadata": {
        "id": "CdqOwQMWPuGb"
      },
      "execution_count": null,
      "outputs": []
    },
    {
      "cell_type": "code",
      "source": [
        "# Train using early stopping\n",
        "model.fit(X_train, y_train, early_stopping_rounds=100, eval_set = [(X_test, y_test)], verbose = 200)\n",
        "    \n",
        "# Record the feature importances\n",
        "feature_importances += model.feature_importances_"
      ],
      "metadata": {
        "colab": {
          "base_uri": "https://localhost:8080/"
        },
        "id": "7efF0B6DTxQw",
        "outputId": "4aed9117-29cc-4dd2-cf72-05c0cf0da754"
      },
      "execution_count": null,
      "outputs": [
        {
          "output_type": "stream",
          "name": "stdout",
          "text": [
            "Training until validation scores don't improve for 100 rounds.\n",
            "Did not meet early stopping. Best iteration is:\n",
            "[48]\tvalid_0's binary_logloss: 0.112143\n"
          ]
        }
      ]
    },
    {
      "cell_type": "code",
      "source": [
        "feature_importances = feature_importances / 2\n",
        "feature_importances = pd.DataFrame({'feature': list(X_train.columns), 'importance': feature_importances}).sort_values('importance', ascending = False)\n",
        "feature_importances.head(10)"
      ],
      "metadata": {
        "colab": {
          "base_uri": "https://localhost:8080/",
          "height": 363
        },
        "id": "qp5zbupOWAoL",
        "outputId": "47792df9-4b9e-4674-cbc7-1ab9808588a3"
      },
      "execution_count": null,
      "outputs": [
        {
          "output_type": "execute_result",
          "data": {
            "text/plain": [
              "        feature  importance\n",
              "1237     ATP1A2        31.0\n",
              "4040        CPE        20.0\n",
              "15528    PCSK1N        11.5\n",
              "1259      ATP5E         9.0\n",
              "16308      PPIA         7.0\n",
              "16227      POMP         5.5\n",
              "8853      ITM2B         5.0\n",
              "13474   MORF4L1         5.0\n",
              "13753  MTRNR2L8         4.5\n",
              "14092    NDUFA4         4.0"
            ],
            "text/html": [
              "\n",
              "  <div id=\"df-a1bdd0af-1632-4039-8e8b-581f64309393\">\n",
              "    <div class=\"colab-df-container\">\n",
              "      <div>\n",
              "<style scoped>\n",
              "    .dataframe tbody tr th:only-of-type {\n",
              "        vertical-align: middle;\n",
              "    }\n",
              "\n",
              "    .dataframe tbody tr th {\n",
              "        vertical-align: top;\n",
              "    }\n",
              "\n",
              "    .dataframe thead th {\n",
              "        text-align: right;\n",
              "    }\n",
              "</style>\n",
              "<table border=\"1\" class=\"dataframe\">\n",
              "  <thead>\n",
              "    <tr style=\"text-align: right;\">\n",
              "      <th></th>\n",
              "      <th>feature</th>\n",
              "      <th>importance</th>\n",
              "    </tr>\n",
              "  </thead>\n",
              "  <tbody>\n",
              "    <tr>\n",
              "      <th>1237</th>\n",
              "      <td>ATP1A2</td>\n",
              "      <td>31.0</td>\n",
              "    </tr>\n",
              "    <tr>\n",
              "      <th>4040</th>\n",
              "      <td>CPE</td>\n",
              "      <td>20.0</td>\n",
              "    </tr>\n",
              "    <tr>\n",
              "      <th>15528</th>\n",
              "      <td>PCSK1N</td>\n",
              "      <td>11.5</td>\n",
              "    </tr>\n",
              "    <tr>\n",
              "      <th>1259</th>\n",
              "      <td>ATP5E</td>\n",
              "      <td>9.0</td>\n",
              "    </tr>\n",
              "    <tr>\n",
              "      <th>16308</th>\n",
              "      <td>PPIA</td>\n",
              "      <td>7.0</td>\n",
              "    </tr>\n",
              "    <tr>\n",
              "      <th>16227</th>\n",
              "      <td>POMP</td>\n",
              "      <td>5.5</td>\n",
              "    </tr>\n",
              "    <tr>\n",
              "      <th>8853</th>\n",
              "      <td>ITM2B</td>\n",
              "      <td>5.0</td>\n",
              "    </tr>\n",
              "    <tr>\n",
              "      <th>13474</th>\n",
              "      <td>MORF4L1</td>\n",
              "      <td>5.0</td>\n",
              "    </tr>\n",
              "    <tr>\n",
              "      <th>13753</th>\n",
              "      <td>MTRNR2L8</td>\n",
              "      <td>4.5</td>\n",
              "    </tr>\n",
              "    <tr>\n",
              "      <th>14092</th>\n",
              "      <td>NDUFA4</td>\n",
              "      <td>4.0</td>\n",
              "    </tr>\n",
              "  </tbody>\n",
              "</table>\n",
              "</div>\n",
              "      <button class=\"colab-df-convert\" onclick=\"convertToInteractive('df-a1bdd0af-1632-4039-8e8b-581f64309393')\"\n",
              "              title=\"Convert this dataframe to an interactive table.\"\n",
              "              style=\"display:none;\">\n",
              "        \n",
              "  <svg xmlns=\"http://www.w3.org/2000/svg\" height=\"24px\"viewBox=\"0 0 24 24\"\n",
              "       width=\"24px\">\n",
              "    <path d=\"M0 0h24v24H0V0z\" fill=\"none\"/>\n",
              "    <path d=\"M18.56 5.44l.94 2.06.94-2.06 2.06-.94-2.06-.94-.94-2.06-.94 2.06-2.06.94zm-11 1L8.5 8.5l.94-2.06 2.06-.94-2.06-.94L8.5 2.5l-.94 2.06-2.06.94zm10 10l.94 2.06.94-2.06 2.06-.94-2.06-.94-.94-2.06-.94 2.06-2.06.94z\"/><path d=\"M17.41 7.96l-1.37-1.37c-.4-.4-.92-.59-1.43-.59-.52 0-1.04.2-1.43.59L10.3 9.45l-7.72 7.72c-.78.78-.78 2.05 0 2.83L4 21.41c.39.39.9.59 1.41.59.51 0 1.02-.2 1.41-.59l7.78-7.78 2.81-2.81c.8-.78.8-2.07 0-2.86zM5.41 20L4 18.59l7.72-7.72 1.47 1.35L5.41 20z\"/>\n",
              "  </svg>\n",
              "      </button>\n",
              "      \n",
              "  <style>\n",
              "    .colab-df-container {\n",
              "      display:flex;\n",
              "      flex-wrap:wrap;\n",
              "      gap: 12px;\n",
              "    }\n",
              "\n",
              "    .colab-df-convert {\n",
              "      background-color: #E8F0FE;\n",
              "      border: none;\n",
              "      border-radius: 50%;\n",
              "      cursor: pointer;\n",
              "      display: none;\n",
              "      fill: #1967D2;\n",
              "      height: 32px;\n",
              "      padding: 0 0 0 0;\n",
              "      width: 32px;\n",
              "    }\n",
              "\n",
              "    .colab-df-convert:hover {\n",
              "      background-color: #E2EBFA;\n",
              "      box-shadow: 0px 1px 2px rgba(60, 64, 67, 0.3), 0px 1px 3px 1px rgba(60, 64, 67, 0.15);\n",
              "      fill: #174EA6;\n",
              "    }\n",
              "\n",
              "    [theme=dark] .colab-df-convert {\n",
              "      background-color: #3B4455;\n",
              "      fill: #D2E3FC;\n",
              "    }\n",
              "\n",
              "    [theme=dark] .colab-df-convert:hover {\n",
              "      background-color: #434B5C;\n",
              "      box-shadow: 0px 1px 3px 1px rgba(0, 0, 0, 0.15);\n",
              "      filter: drop-shadow(0px 1px 2px rgba(0, 0, 0, 0.3));\n",
              "      fill: #FFFFFF;\n",
              "    }\n",
              "  </style>\n",
              "\n",
              "      <script>\n",
              "        const buttonEl =\n",
              "          document.querySelector('#df-a1bdd0af-1632-4039-8e8b-581f64309393 button.colab-df-convert');\n",
              "        buttonEl.style.display =\n",
              "          google.colab.kernel.accessAllowed ? 'block' : 'none';\n",
              "\n",
              "        async function convertToInteractive(key) {\n",
              "          const element = document.querySelector('#df-a1bdd0af-1632-4039-8e8b-581f64309393');\n",
              "          const dataTable =\n",
              "            await google.colab.kernel.invokeFunction('convertToInteractive',\n",
              "                                                     [key], {});\n",
              "          if (!dataTable) return;\n",
              "\n",
              "          const docLinkHtml = 'Like what you see? Visit the ' +\n",
              "            '<a target=\"_blank\" href=https://colab.research.google.com/notebooks/data_table.ipynb>data table notebook</a>'\n",
              "            + ' to learn more about interactive tables.';\n",
              "          element.innerHTML = '';\n",
              "          dataTable['output_type'] = 'display_data';\n",
              "          await google.colab.output.renderOutput(dataTable, element);\n",
              "          const docLink = document.createElement('div');\n",
              "          docLink.innerHTML = docLinkHtml;\n",
              "          element.appendChild(docLink);\n",
              "        }\n",
              "      </script>\n",
              "    </div>\n",
              "  </div>\n",
              "  "
            ]
          },
          "metadata": {},
          "execution_count": 14
        }
      ]
    },
    {
      "cell_type": "code",
      "source": [
        "# Find the features with zero importance\n",
        "zero_features = list(feature_importances[feature_importances['importance'] == 0.0]['feature'])\n",
        "print('There are %d features with 0.0 importance' % len(zero_features))\n",
        "feature_importances.tail(100)"
      ],
      "metadata": {
        "colab": {
          "base_uri": "https://localhost:8080/",
          "height": 441
        },
        "id": "OckEh_hnWDqZ",
        "outputId": "91dbb10d-a3a8-4d97-f79e-1d34ee9e6916"
      },
      "execution_count": null,
      "outputs": [
        {
          "output_type": "stream",
          "name": "stdout",
          "text": [
            "There are 16096 features with 0.0 importance\n"
          ]
        },
        {
          "output_type": "execute_result",
          "data": {
            "text/plain": [
              "       feature  importance\n",
              "5500    ELMOD1         0.0\n",
              "5501    ELMOD2         0.0\n",
              "5502    ELMOD3         0.0\n",
              "5503       ELN         0.0\n",
              "5504     ELOF1         0.0\n",
              "...        ...         ...\n",
              "5532      EML4         0.0\n",
              "5533      EML5         0.0\n",
              "5534      EML6         0.0\n",
              "5535      EMP1         0.0\n",
              "16382  PPP1R3D         0.0\n",
              "\n",
              "[100 rows x 2 columns]"
            ],
            "text/html": [
              "\n",
              "  <div id=\"df-eb06ae6a-072f-452d-994c-c1a781563649\">\n",
              "    <div class=\"colab-df-container\">\n",
              "      <div>\n",
              "<style scoped>\n",
              "    .dataframe tbody tr th:only-of-type {\n",
              "        vertical-align: middle;\n",
              "    }\n",
              "\n",
              "    .dataframe tbody tr th {\n",
              "        vertical-align: top;\n",
              "    }\n",
              "\n",
              "    .dataframe thead th {\n",
              "        text-align: right;\n",
              "    }\n",
              "</style>\n",
              "<table border=\"1\" class=\"dataframe\">\n",
              "  <thead>\n",
              "    <tr style=\"text-align: right;\">\n",
              "      <th></th>\n",
              "      <th>feature</th>\n",
              "      <th>importance</th>\n",
              "    </tr>\n",
              "  </thead>\n",
              "  <tbody>\n",
              "    <tr>\n",
              "      <th>5500</th>\n",
              "      <td>ELMOD1</td>\n",
              "      <td>0.0</td>\n",
              "    </tr>\n",
              "    <tr>\n",
              "      <th>5501</th>\n",
              "      <td>ELMOD2</td>\n",
              "      <td>0.0</td>\n",
              "    </tr>\n",
              "    <tr>\n",
              "      <th>5502</th>\n",
              "      <td>ELMOD3</td>\n",
              "      <td>0.0</td>\n",
              "    </tr>\n",
              "    <tr>\n",
              "      <th>5503</th>\n",
              "      <td>ELN</td>\n",
              "      <td>0.0</td>\n",
              "    </tr>\n",
              "    <tr>\n",
              "      <th>5504</th>\n",
              "      <td>ELOF1</td>\n",
              "      <td>0.0</td>\n",
              "    </tr>\n",
              "    <tr>\n",
              "      <th>...</th>\n",
              "      <td>...</td>\n",
              "      <td>...</td>\n",
              "    </tr>\n",
              "    <tr>\n",
              "      <th>5532</th>\n",
              "      <td>EML4</td>\n",
              "      <td>0.0</td>\n",
              "    </tr>\n",
              "    <tr>\n",
              "      <th>5533</th>\n",
              "      <td>EML5</td>\n",
              "      <td>0.0</td>\n",
              "    </tr>\n",
              "    <tr>\n",
              "      <th>5534</th>\n",
              "      <td>EML6</td>\n",
              "      <td>0.0</td>\n",
              "    </tr>\n",
              "    <tr>\n",
              "      <th>5535</th>\n",
              "      <td>EMP1</td>\n",
              "      <td>0.0</td>\n",
              "    </tr>\n",
              "    <tr>\n",
              "      <th>16382</th>\n",
              "      <td>PPP1R3D</td>\n",
              "      <td>0.0</td>\n",
              "    </tr>\n",
              "  </tbody>\n",
              "</table>\n",
              "<p>100 rows × 2 columns</p>\n",
              "</div>\n",
              "      <button class=\"colab-df-convert\" onclick=\"convertToInteractive('df-eb06ae6a-072f-452d-994c-c1a781563649')\"\n",
              "              title=\"Convert this dataframe to an interactive table.\"\n",
              "              style=\"display:none;\">\n",
              "        \n",
              "  <svg xmlns=\"http://www.w3.org/2000/svg\" height=\"24px\"viewBox=\"0 0 24 24\"\n",
              "       width=\"24px\">\n",
              "    <path d=\"M0 0h24v24H0V0z\" fill=\"none\"/>\n",
              "    <path d=\"M18.56 5.44l.94 2.06.94-2.06 2.06-.94-2.06-.94-.94-2.06-.94 2.06-2.06.94zm-11 1L8.5 8.5l.94-2.06 2.06-.94-2.06-.94L8.5 2.5l-.94 2.06-2.06.94zm10 10l.94 2.06.94-2.06 2.06-.94-2.06-.94-.94-2.06-.94 2.06-2.06.94z\"/><path d=\"M17.41 7.96l-1.37-1.37c-.4-.4-.92-.59-1.43-.59-.52 0-1.04.2-1.43.59L10.3 9.45l-7.72 7.72c-.78.78-.78 2.05 0 2.83L4 21.41c.39.39.9.59 1.41.59.51 0 1.02-.2 1.41-.59l7.78-7.78 2.81-2.81c.8-.78.8-2.07 0-2.86zM5.41 20L4 18.59l7.72-7.72 1.47 1.35L5.41 20z\"/>\n",
              "  </svg>\n",
              "      </button>\n",
              "      \n",
              "  <style>\n",
              "    .colab-df-container {\n",
              "      display:flex;\n",
              "      flex-wrap:wrap;\n",
              "      gap: 12px;\n",
              "    }\n",
              "\n",
              "    .colab-df-convert {\n",
              "      background-color: #E8F0FE;\n",
              "      border: none;\n",
              "      border-radius: 50%;\n",
              "      cursor: pointer;\n",
              "      display: none;\n",
              "      fill: #1967D2;\n",
              "      height: 32px;\n",
              "      padding: 0 0 0 0;\n",
              "      width: 32px;\n",
              "    }\n",
              "\n",
              "    .colab-df-convert:hover {\n",
              "      background-color: #E2EBFA;\n",
              "      box-shadow: 0px 1px 2px rgba(60, 64, 67, 0.3), 0px 1px 3px 1px rgba(60, 64, 67, 0.15);\n",
              "      fill: #174EA6;\n",
              "    }\n",
              "\n",
              "    [theme=dark] .colab-df-convert {\n",
              "      background-color: #3B4455;\n",
              "      fill: #D2E3FC;\n",
              "    }\n",
              "\n",
              "    [theme=dark] .colab-df-convert:hover {\n",
              "      background-color: #434B5C;\n",
              "      box-shadow: 0px 1px 3px 1px rgba(0, 0, 0, 0.15);\n",
              "      filter: drop-shadow(0px 1px 2px rgba(0, 0, 0, 0.3));\n",
              "      fill: #FFFFFF;\n",
              "    }\n",
              "  </style>\n",
              "\n",
              "      <script>\n",
              "        const buttonEl =\n",
              "          document.querySelector('#df-eb06ae6a-072f-452d-994c-c1a781563649 button.colab-df-convert');\n",
              "        buttonEl.style.display =\n",
              "          google.colab.kernel.accessAllowed ? 'block' : 'none';\n",
              "\n",
              "        async function convertToInteractive(key) {\n",
              "          const element = document.querySelector('#df-eb06ae6a-072f-452d-994c-c1a781563649');\n",
              "          const dataTable =\n",
              "            await google.colab.kernel.invokeFunction('convertToInteractive',\n",
              "                                                     [key], {});\n",
              "          if (!dataTable) return;\n",
              "\n",
              "          const docLinkHtml = 'Like what you see? Visit the ' +\n",
              "            '<a target=\"_blank\" href=https://colab.research.google.com/notebooks/data_table.ipynb>data table notebook</a>'\n",
              "            + ' to learn more about interactive tables.';\n",
              "          element.innerHTML = '';\n",
              "          dataTable['output_type'] = 'display_data';\n",
              "          await google.colab.output.renderOutput(dataTable, element);\n",
              "          const docLink = document.createElement('div');\n",
              "          docLink.innerHTML = docLinkHtml;\n",
              "          element.appendChild(docLink);\n",
              "        }\n",
              "      </script>\n",
              "    </div>\n",
              "  </div>\n",
              "  "
            ]
          },
          "metadata": {},
          "execution_count": 15
        }
      ]
    },
    {
      "cell_type": "code",
      "source": [
        "X_train = X_train.drop(columns = zero_features)\n",
        "X_test = X_test.drop(columns = zero_features)\n",
        "\n",
        "print('Training shape: ', X_train.shape)\n",
        "print('Testing shape: ', X_test.shape)"
      ],
      "metadata": {
        "colab": {
          "base_uri": "https://localhost:8080/"
        },
        "id": "XozKDUkwXzG9",
        "outputId": "a2762df3-173e-4d61-d087-87d737d0d003"
      },
      "execution_count": null,
      "outputs": [
        {
          "output_type": "stream",
          "name": "stdout",
          "text": [
            "Training shape:  (355, 287)\n",
            "Testing shape:  (89, 287)\n"
          ]
        }
      ]
    },
    {
      "cell_type": "code",
      "source": [
        "scaler = StandardScaler()\n",
        "scaler.fit(X_train)\n",
        "\n",
        "X_train = scaler.transform(X_train)\n",
        "X_test = scaler.transform(X_test)"
      ],
      "metadata": {
        "id": "Taka0IwjX7pc"
      },
      "execution_count": null,
      "outputs": []
    },
    {
      "cell_type": "markdown",
      "source": [
        "#### Decision Tree Before Optimization"
      ],
      "metadata": {
        "id": "qtMyA6FTpNeI"
      }
    },
    {
      "cell_type": "code",
      "source": [
        "tree = DecisionTreeClassifier() \n",
        "tree.fit(X_train, y_train)"
      ],
      "metadata": {
        "colab": {
          "base_uri": "https://localhost:8080/"
        },
        "id": "_Ld34tY5X_6E",
        "outputId": "0db7f4dc-d798-4e59-d58f-7072d40de4ae"
      },
      "execution_count": null,
      "outputs": [
        {
          "output_type": "execute_result",
          "data": {
            "text/plain": [
              "DecisionTreeClassifier()"
            ]
          },
          "metadata": {},
          "execution_count": 18
        }
      ]
    },
    {
      "cell_type": "code",
      "source": [
        "print(f'Decision tree has {tree.tree_.node_count} nodes with maximum depth {tree.tree_.max_depth}.') \n",
        "print(f'Model Accuracy: {tree.score(X_train, y_train)}')"
      ],
      "metadata": {
        "colab": {
          "base_uri": "https://localhost:8080/"
        },
        "id": "Xfv5mtoQYCWR",
        "outputId": "bb04ae6d-2723-485b-8120-ea88f2b68e71"
      },
      "execution_count": null,
      "outputs": [
        {
          "output_type": "stream",
          "name": "stdout",
          "text": [
            "Decision tree has 23 nodes with maximum depth 8.\n",
            "Model Accuracy: 1.0\n"
          ]
        }
      ]
    },
    {
      "cell_type": "code",
      "source": [
        "neighbors_setting = range(1,25)\n",
        "\n",
        "training_accuracy = []\n",
        "test_accuracy = []\n",
        "\n",
        "max_dep = range(1,25)\n",
        "\n",
        "for md in max_dep:\n",
        "    tree = DecisionTreeClassifier(max_depth=md,random_state=0)\n",
        "    tree.fit(X_train,y_train)\n",
        "    training_accuracy.append(tree.score(X_train, y_train))\n",
        "    test_accuracy.append(tree.score(X_test, y_test))\n",
        " \n",
        "plt.plot(max_dep,training_accuracy, label='Accuracy of the training set')\n",
        "plt.plot(neighbors_setting,test_accuracy, label='Accuracy of the test set')\n",
        "plt.ylabel('Accuracy')\n",
        "plt.xlabel('Max Depth')\n",
        "plt.legend()"
      ],
      "metadata": {
        "colab": {
          "base_uri": "https://localhost:8080/",
          "height": 296
        },
        "id": "nEL1r00XYDj2",
        "outputId": "3ba9796d-2b57-492b-ed72-f58800a2b934"
      },
      "execution_count": null,
      "outputs": [
        {
          "output_type": "execute_result",
          "data": {
            "text/plain": [
              "<matplotlib.legend.Legend at 0x7f69a6c6ff10>"
            ]
          },
          "metadata": {},
          "execution_count": 20
        },
        {
          "output_type": "display_data",
          "data": {
            "text/plain": [
              "<Figure size 432x288 with 1 Axes>"
            ],
            "image/png": "[encoded data removed]"
          },
          "metadata": {
            "needs_background": "light"
          }
        }
      ]
    },
    {
      "cell_type": "code",
      "source": [
        "#Classification Report\n",
        "\n",
        "y_pred = tree.predict(X_test) \n",
        "print(classification_report(y_test,y_pred))"
      ],
      "metadata": {
        "colab": {
          "base_uri": "https://localhost:8080/"
        },
        "id": "MITAs9HqYIwA",
        "outputId": "05dc129a-653b-4bf1-eaa2-d230a2c1e322"
      },
      "execution_count": null,
      "outputs": [
        {
          "output_type": "stream",
          "name": "stdout",
          "text": [
            "                      precision    recall  f1-score   support\n",
            "\n",
            "     Neoplastic_Core       0.91      0.94      0.92        77\n",
            "Neoplastic_Periphery       0.50      0.42      0.45        12\n",
            "\n",
            "            accuracy                           0.87        89\n",
            "           macro avg       0.71      0.68      0.69        89\n",
            "        weighted avg       0.86      0.87      0.86        89\n",
            "\n"
          ]
        }
      ]
    },
    {
      "cell_type": "code",
      "source": [
        "#Accuracy Score:\n",
        "score_tree = accuracy_score(y_test, y_pred)*100\n",
        "print(\"Accuracy score: %0.3f\" % score_tree)"
      ],
      "metadata": {
        "colab": {
          "base_uri": "https://localhost:8080/"
        },
        "id": "a217O4qtYO6F",
        "outputId": "95de8c9b-e601-4422-a4cc-fe49fad9f88f"
      },
      "execution_count": null,
      "outputs": [
        {
          "output_type": "stream",
          "name": "stdout",
          "text": [
            "Accuracy score: 86.517\n"
          ]
        }
      ]
    },
    {
      "cell_type": "code",
      "source": [
        "#Confusion Matrix\n",
        "\n",
        "def show_confusion_matrix(model, X_test, y_test):\n",
        "    class_names = model.classes_\n",
        "    fig, ax = plt.subplots(figsize=(4, 4), dpi=100)\n",
        "    ax.grid = False\n",
        "    plt.rcParams.update({'font.size': 12})\n",
        "    disp = plot_confusion_matrix(model, X_test, y_test,\n",
        "                                 display_labels=class_names,\n",
        "                                 cmap=plt.cm.Greens,\n",
        "                                 normalize=None,\n",
        "                                 ax=ax)\n",
        "    tick_marks = np.arange(len(class_names))\n",
        "    plt.xticks(tick_marks, class_names, rotation=45, ha='right')\n",
        "    disp.ax_.set_title(f'Confusion Matrix\\n{model}', size=11, y=1.05)\n",
        "    ax.tick_params(axis='both', which='major', labelsize=10)\n",
        "    plt.show();\n",
        "\n",
        "show_confusion_matrix(tree, X_test, y_test)"
      ],
      "metadata": {
        "colab": {
          "base_uri": "https://localhost:8080/",
          "height": 465
        },
        "id": "tnnk3bzAYV61",
        "outputId": "acbac764-8742-4515-ce3d-ab440a39e781"
      },
      "execution_count": null,
      "outputs": [
        {
          "output_type": "display_data",
          "data": {
            "text/plain": [
              "<Figure size 400x400 with 2 Axes>"
            ],
            "image/png": "[encoded data removed]"
          },
          "metadata": {
            "needs_background": "light"
          }
        }
      ]
    },
    {
      "cell_type": "code",
      "source": [
        "classifiers=[DecisionTreeClassifier()]\n",
        "\n",
        "classes = [\"Neoplastic_Core\", \"Neoplastic_Periphery\"]\n",
        "model = tree\n",
        "\n",
        "def CM_viz():    \n",
        "    def CM(model,classes):\n",
        "        visualizer = ConfusionMatrix(model, classes=classes, percent=True)\n",
        "        visualizer.fit(X_train, y_train)  # Fit the visualizer and the model\n",
        "        visualizer.score(X_test, y_test)  # Evaluate the model on the test data \n",
        "        return visualizer.poof()  \n",
        "    for name in classifiers:\n",
        "        ax = plt.subplot(1,1,1)\n",
        "        CM(name,classes)\n",
        "\n",
        "CM_viz()"
      ],
      "metadata": {
        "colab": {
          "base_uri": "https://localhost:8080/",
          "height": 293
        },
        "id": "RVMQyvlPFd10",
        "outputId": "90cbd227-9a4d-493e-e2d1-5020b1c612db"
      },
      "execution_count": null,
      "outputs": [
        {
          "output_type": "display_data",
          "data": {
            "text/plain": [
              "<Figure size 432x288 with 1 Axes>"
            ],
            "image/png": "[encoded data removed]"
          },
          "metadata": {
            "needs_background": "light"
          }
        }
      ]
    },
    {
      "cell_type": "code",
      "source": [
        "# Other Metrics\n",
        "model = tree\n",
        "\n",
        "def classifier_metrics():    \n",
        "    def metrics(model):\n",
        "        model.fit(X_train, y_train)  \n",
        "        y_pred = model.predict(X_test)\n",
        "        try: \n",
        "            y_prob = model.predict_proba(X_test)\n",
        "            log_metric = log_loss(y_test,y_prob)\n",
        "        except:\n",
        "            y_prob = \"Not probablistic\"\n",
        "            log_metric = 0\n",
        "        else:\n",
        "            y_pred = model.predict(X_test)\n",
        "        c_k_s=cohen_kappa_score(y_test,y_pred)\n",
        "        zero_met=zero_one_loss(y_test,y_pred)\n",
        "        hl=hamming_loss(y_test,y_pred)\n",
        "        mc=matthews_corrcoef(y_test,y_pred)\n",
        "        print('cohen_kappa_score: {0:.3f}'.format(c_k_s))\n",
        "        print('log_loss: {0:.3f}'.format(log_metric))\n",
        "        print('zero_one_loss: {0:.3f}'.format(zero_met))\n",
        "        print('hemming_loss: {0:.3f}'.format(hl))\n",
        "        print('matthews_corrcoef: {0:.3f}'.format(mc))\n",
        "    for name in classifiers:\n",
        "        print (str(name))\n",
        "        metrics(name)\n",
        "        print()"
      ],
      "metadata": {
        "id": "nLQIpphhYdMI"
      },
      "execution_count": null,
      "outputs": []
    },
    {
      "cell_type": "code",
      "source": [
        "classifier_metrics()"
      ],
      "metadata": {
        "colab": {
          "base_uri": "https://localhost:8080/"
        },
        "id": "RMABpLKiYd0h",
        "outputId": "7d78646c-866b-405c-c384-505b164851e1"
      },
      "execution_count": null,
      "outputs": [
        {
          "output_type": "stream",
          "name": "stdout",
          "text": [
            "DecisionTreeClassifier()\n",
            "cohen_kappa_score: 0.370\n",
            "log_loss: 5.433\n",
            "zero_one_loss: 0.157\n",
            "hemming_loss: 0.157\n",
            "matthews_corrcoef: 0.372\n",
            "\n"
          ]
        }
      ]
    },
    {
      "cell_type": "markdown",
      "source": [
        "### Decision Tree after Parameter Optimization"
      ],
      "metadata": {
        "id": "W1wpt6J2mZ8C"
      }
    },
    {
      "cell_type": "code",
      "source": [
        "param_grid = { 'max_depth': range(6,12), 'min_samples_leaf': range(2,10), \n",
        "               'max_leaf_nodes': range(23,30)}\n",
        "gs_dt = GridSearchCV(DecisionTreeClassifier(), param_grid, cv=10, n_jobs=-1)\n",
        "\n",
        "gs_dt = gs_dt.fit(X_train, y_train)"
      ],
      "metadata": {
        "id": "IGZ4raRJmeOT"
      },
      "execution_count": null,
      "outputs": []
    },
    {
      "cell_type": "code",
      "source": [
        "gs_dt.best_params_"
      ],
      "metadata": {
        "colab": {
          "base_uri": "https://localhost:8080/"
        },
        "id": "DkSMkKnT8OuE",
        "outputId": "9ccd073c-3de7-48ba-c09c-1e2ab28f7e51"
      },
      "execution_count": null,
      "outputs": [
        {
          "output_type": "execute_result",
          "data": {
            "text/plain": [
              "{'max_depth': 11, 'max_leaf_nodes': 24, 'min_samples_leaf': 2}"
            ]
          },
          "metadata": {},
          "execution_count": 30
        }
      ]
    },
    {
      "cell_type": "code",
      "source": [
        "# Using best_params_\n",
        "tree2 = DecisionTreeClassifier(max_depth=11, min_samples_leaf=2, max_leaf_nodes=24).fit(X_train,y_train)\n",
        "y_pred2 = tree2.predict(X_test)\n",
        "\n",
        "print(f'Model Accuracy: {tree2.score(X_train, y_train)}')"
      ],
      "metadata": {
        "colab": {
          "base_uri": "https://localhost:8080/"
        },
        "id": "y2aVFQQCsYr7",
        "outputId": "16406bbc-0a78-4178-84de-7419de64eb57"
      },
      "execution_count": null,
      "outputs": [
        {
          "output_type": "stream",
          "name": "stdout",
          "text": [
            "Model Accuracy: 0.9971830985915493\n"
          ]
        }
      ]
    },
    {
      "cell_type": "code",
      "source": [
        "#Prediction Accuracy Score:\n",
        "score_tree2 = accuracy_score(y_test, y_pred2)*100\n",
        "print(\"Accuracy score: %0.3f\" % score_tree2)"
      ],
      "metadata": {
        "colab": {
          "base_uri": "https://localhost:8080/"
        },
        "id": "HFwJV7hLtamr",
        "outputId": "0c9784ab-b9bb-4dbb-b887-d215103133ec"
      },
      "execution_count": null,
      "outputs": [
        {
          "output_type": "stream",
          "name": "stdout",
          "text": [
            "Accuracy score: 84.270\n"
          ]
        }
      ]
    },
    {
      "cell_type": "code",
      "source": [
        "#Classification Report\n",
        "classifiers=[DecisionTreeClassifier(max_depth=11, max_leaf_nodes=24, min_samples_leaf=2)]\n",
        "model = tree2\n",
        "\n",
        "print(classification_report(y_test,y_pred2))\n",
        "classifier_metrics()"
      ],
      "metadata": {
        "colab": {
          "base_uri": "https://localhost:8080/"
        },
        "id": "z_MPhXJw9O4U",
        "outputId": "f9941eac-131c-42a7-abd0-36d8c5f34392"
      },
      "execution_count": null,
      "outputs": [
        {
          "output_type": "stream",
          "name": "stdout",
          "text": [
            "                      precision    recall  f1-score   support\n",
            "\n",
            "     Neoplastic_Core       0.92      0.90      0.91        77\n",
            "Neoplastic_Periphery       0.43      0.50      0.46        12\n",
            "\n",
            "            accuracy                           0.84        89\n",
            "           macro avg       0.67      0.70      0.68        89\n",
            "        weighted avg       0.85      0.84      0.85        89\n",
            "\n",
            "DecisionTreeClassifier(max_depth=11, max_leaf_nodes=24, min_samples_leaf=2)\n",
            "cohen_kappa_score: 0.378\n",
            "log_loss: 4.665\n",
            "zero_one_loss: 0.135\n",
            "hemming_loss: 0.135\n",
            "matthews_corrcoef: 0.380\n",
            "\n"
          ]
        }
      ]
    },
    {
      "cell_type": "code",
      "source": [
        "show_confusion_matrix(tree2, X_test, y_test)"
      ],
      "metadata": {
        "colab": {
          "base_uri": "https://localhost:8080/",
          "height": 465
        },
        "id": "gkXLoz0F9UPT",
        "outputId": "f8c524df-9723-4655-db35-9da7fb71c9f3"
      },
      "execution_count": null,
      "outputs": [
        {
          "output_type": "display_data",
          "data": {
            "text/plain": [
              "<Figure size 400x400 with 2 Axes>"
            ],
            "image/png": "[encoded data removed]"
          },
          "metadata": {
            "needs_background": "light"
          }
        }
      ]
    },
    {
      "cell_type": "code",
      "source": [
        "classes = [\"Neoplastic_Core\", \"Neoplastic_Periphery\"]\n",
        "model = tree2\n",
        "\n",
        "def CM_viz():    \n",
        "    def CM(model,classes):\n",
        "        visualizer = ConfusionMatrix(model, classes=classes, percent=True)\n",
        "        visualizer.fit(X_train, y_train)  # Fit the visualizer and the model\n",
        "        visualizer.score(X_test, y_test)  # Evaluate the model on the test data \n",
        "        return visualizer.poof()  \n",
        "    for name in classifiers:\n",
        "        ax = plt.subplot(1,1,1)\n",
        "        CM(name,classes)\n",
        "\n",
        "CM_viz()"
      ],
      "metadata": {
        "colab": {
          "base_uri": "https://localhost:8080/",
          "height": 293
        },
        "id": "nQz0Puxu9hQN",
        "outputId": "50bc9bb4-8ede-4943-aaa8-29614dbf0043"
      },
      "execution_count": null,
      "outputs": [
        {
          "output_type": "display_data",
          "data": {
            "text/plain": [
              "<Figure size 432x288 with 1 Axes>"
            ],
            "image/png": "[encoded data removed]"
          },
          "metadata": {
            "needs_background": "light"
          }
        }
      ]
    },
    {
      "cell_type": "markdown",
      "source": [
        "# Summary\n",
        "\n",
        "#### The model is begin with EDA. In the EDA phase, I discovered there are 16383 feature columns. I applied feature importance and feature selection to narrow down to 287 feature columns. For this dataset, it's possible to check for high collinearity first during the feature selection process (I didn't do this step).\n",
        "\n",
        "#### The first desicion tree model w/o parameter optimization have Decision tree has 23 nodes with maximum depth 8 with a accuracy score of 87%. The score is good. The model is able to identified 72 true positive or at 94%, but the false positive is 7 or at 50%, which is not a low number. \n",
        "\n",
        "#### The Cohen Kappa Score is 0.370. The cks is metric for evaluating multi-class classifiers on imbalanced datasets. Generally closer the score is to one, better the classifier. In this case, 0.370 is on a mid-low end. MCC or Mathews Correlation Coefficient is 0.372, a coefficient of +1 represents a perfect prediction, 0 is similar to a random prediction and −1 indicates an inverse prediction. In this case, it's more of toward random prediciton.\n",
        "\n",
        "#### After **parameter optimization**, I used {'max_depth': 11, 'max_leaf_nodes': 24, 'min_samples_leaf': 2} to the second model. The prediction accuracy score is lower at 84%. **Also,** the second model identified 69 true positive or at 94%. The false positive is 6 or at 58%, which is a higher number than the first model. Cohen kappa score is 0.378 and MCC is 380, slightly better than the first model. \n",
        "\n",
        "#### My final thought is that parameter optimization did not improve the model. I think a better method is to investigate features further. Feature engineering and selecting subsets of features can increase the model and prediction accuracy. \n",
        "\n",
        "\n"
      ],
      "metadata": {
        "id": "rMr4Cnv2AEIU"
      }
    }
  ]
}