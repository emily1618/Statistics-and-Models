{
  "nbformat": 4,
  "nbformat_minor": 0,
  "metadata": {
    "colab": {
      "name": "EmilyLiang-HW4.ipynb",
      "provenance": []
    },
    "kernelspec": {
      "name": "python3",
      "display_name": "Python 3"
    },
    "language_info": {
      "name": "python"
    }
  },
  "cells": [
    {
      "cell_type": "markdown",
      "source": [
        "### Using the machine learning algorithm: Decision Tree, and the  S1_Originaldata.csv database with cells into neoplastic astrocytes from the periphery, i.e., infiltrating neoplastic cells, and the tumor core, evaluate the performance of the classification with:\n",
        "\n",
        "**Part II**\n",
        "\n",
        "a) Apply some technique to solve the class imbalance problem present in \n",
        "the database, and evaluate the performance \n",
        "\n",
        "b) Discuss the results obtained (different metrics) "
      ],
      "metadata": {
        "id": "6aopJ9gxpaWB"
      }
    },
    {
      "cell_type": "code",
      "execution_count": 63,
      "metadata": {
        "id": "17rPThouogxg"
      },
      "outputs": [],
      "source": [
        "#Standard\n",
        "import pandas as pd\n",
        "import numpy as np\n",
        "\n",
        "#Visualizers\n",
        "import matplotlib.pyplot as plt\n",
        "import seaborn as sns\n",
        "from sklearn.tree import export_graphviz\n",
        "from yellowbrick.classifier import ConfusionMatrix\n",
        "from yellowbrick.classifier import ClassPredictionError\n",
        "%matplotlib inline\n",
        "\n",
        "#Metrics\n",
        "from sklearn.metrics import accuracy_score\n",
        "from sklearn.metrics import f1_score\n",
        "from sklearn.metrics import recall_score\n",
        "from sklearn.metrics import precision_score\n",
        "from sklearn.metrics import classification_report\n",
        "from sklearn.metrics import confusion_matrix\n",
        "from sklearn.metrics import plot_confusion_matrix\n",
        "\n",
        "#Metrics Additional\n",
        "from sklearn.metrics import cohen_kappa_score\n",
        "from sklearn.metrics import hamming_loss\n",
        "from sklearn.metrics import log_loss\n",
        "from sklearn.metrics import zero_one_loss\n",
        "from sklearn.metrics import matthews_corrcoef\n",
        "from sklearn.metrics import roc_auc_score\n",
        "\n",
        "#Preprocessing\n",
        "from sklearn import preprocessing\n",
        "from sklearn.preprocessing import StandardScaler\n",
        "from sklearn.model_selection import train_test_split\n",
        "from sklearn.model_selection import StratifiedKFold\n",
        "\n",
        "#Models\n",
        "from sklearn import model_selection\n",
        "from sklearn.tree import DecisionTreeClassifier #Model I will be using today\n",
        "from sklearn.linear_model import LogisticRegression\n",
        "from sklearn.neighbors import KNeighborsClassifier\n",
        "from sklearn.discriminant_analysis import LinearDiscriminantAnalysis\n",
        "from sklearn.naive_bayes import GaussianNB\n",
        "from sklearn.svm import SVC\n",
        "from sklearn.neural_network import MLPClassifier\n",
        "from sklearn.ensemble import RandomForestRegressor\n",
        "from sklearn.cluster import KMeans\n",
        "from sklearn.ensemble import RandomForestClassifier\n",
        "\n",
        "#Feature Selection\n",
        "import lightgbm as lgb\n",
        "\n",
        "#Sampling\n",
        "from sklearn.utils import resample\n",
        "\n",
        "#Tuning\n",
        "from sklearn.model_selection import GridSearchCV\n",
        "\n",
        "#Others\n",
        "import warnings\n",
        "warnings.filterwarnings('ignore')\n"
      ]
    },
    {
      "cell_type": "markdown",
      "source": [
        "### EDA"
      ],
      "metadata": {
        "id": "fHnwHmQaqRY3"
      }
    },
    {
      "cell_type": "code",
      "source": [
        "df = pd.read_csv('/content/S1_Originaldata.csv')"
      ],
      "metadata": {
        "id": "XbIrA6cWqQ7r"
      },
      "execution_count": 2,
      "outputs": []
    },
    {
      "cell_type": "code",
      "source": [
        "df.head(5)"
      ],
      "metadata": {
        "colab": {
          "base_uri": "https://localhost:8080/",
          "height": 317
        },
        "id": "7KSVOYg5rDYE",
        "outputId": "4f17ae60-cc4a-4619-b03b-0e632e0452f8"
      },
      "execution_count": 3,
      "outputs": [
        {
          "output_type": "execute_result",
          "data": {
            "text/plain": [
              "             class  1/2-SBSRNA4  A1BG  A1BG-AS1  A1CF  A2LD1       A2M  A2ML1  \\\n",
              "0  Neoplastic_Core          0.0   0.0       0.0   0.0    0.0  0.000000    0.0   \n",
              "1  Neoplastic_Core          0.0   0.0       0.0   0.0    0.0  0.000000    0.0   \n",
              "2  Neoplastic_Core          0.0   0.0       0.0   0.0    0.0  3.812781    0.0   \n",
              "3  Neoplastic_Core          0.0   0.0       0.0   0.0    0.0  0.000000    0.0   \n",
              "4  Neoplastic_Core          0.0   0.0       0.0   0.0    0.0  0.000000    0.0   \n",
              "\n",
              "   A2MP1  A4GALT  ...  PPP1R2P3  PPP1R2P9  PPP1R32  PPP1R35  PPP1R36  PPP1R37  \\\n",
              "0    0.0       0  ...  0.000000         0      0.0      0.0      0.0      0.0   \n",
              "1    0.0       0  ...  1.487372         0      0.0      0.0      0.0      0.0   \n",
              "2    0.0       0  ...  0.000000         0      0.0      0.0      0.0      0.0   \n",
              "3    0.0       0  ...  0.000000         0      0.0      0.0      0.0      0.0   \n",
              "4    0.0       0  ...  0.000000         0      0.0      0.0      0.0      0.0   \n",
              "\n",
              "   PPP1R3A  PPP1R3B  PPP1R3C  PPP1R3D  \n",
              "0        0      0.0      0.0      0.0  \n",
              "1        0      0.0      0.0      0.0  \n",
              "2        0      0.0      0.0      0.0  \n",
              "3        0      0.0      0.0      0.0  \n",
              "4        0      0.0      0.0      0.0  \n",
              "\n",
              "[5 rows x 16384 columns]"
            ],
            "text/html": [
              "\n",
              "  <div id=\"df-018a7fd3-31cb-43a6-9e75-c1cccaa21be7\">\n",
              "    <div class=\"colab-df-container\">\n",
              "      <div>\n",
              "<style scoped>\n",
              "    .dataframe tbody tr th:only-of-type {\n",
              "        vertical-align: middle;\n",
              "    }\n",
              "\n",
              "    .dataframe tbody tr th {\n",
              "        vertical-align: top;\n",
              "    }\n",
              "\n",
              "    .dataframe thead th {\n",
              "        text-align: right;\n",
              "    }\n",
              "</style>\n",
              "<table border=\"1\" class=\"dataframe\">\n",
              "  <thead>\n",
              "    <tr style=\"text-align: right;\">\n",
              "      <th></th>\n",
              "      <th>class</th>\n",
              "      <th>1/2-SBSRNA4</th>\n",
              "      <th>A1BG</th>\n",
              "      <th>A1BG-AS1</th>\n",
              "      <th>A1CF</th>\n",
              "      <th>A2LD1</th>\n",
              "      <th>A2M</th>\n",
              "      <th>A2ML1</th>\n",
              "      <th>A2MP1</th>\n",
              "      <th>A4GALT</th>\n",
              "      <th>...</th>\n",
              "      <th>PPP1R2P3</th>\n",
              "      <th>PPP1R2P9</th>\n",
              "      <th>PPP1R32</th>\n",
              "      <th>PPP1R35</th>\n",
              "      <th>PPP1R36</th>\n",
              "      <th>PPP1R37</th>\n",
              "      <th>PPP1R3A</th>\n",
              "      <th>PPP1R3B</th>\n",
              "      <th>PPP1R3C</th>\n",
              "      <th>PPP1R3D</th>\n",
              "    </tr>\n",
              "  </thead>\n",
              "  <tbody>\n",
              "    <tr>\n",
              "      <th>0</th>\n",
              "      <td>Neoplastic_Core</td>\n",
              "      <td>0.0</td>\n",
              "      <td>0.0</td>\n",
              "      <td>0.0</td>\n",
              "      <td>0.0</td>\n",
              "      <td>0.0</td>\n",
              "      <td>0.000000</td>\n",
              "      <td>0.0</td>\n",
              "      <td>0.0</td>\n",
              "      <td>0</td>\n",
              "      <td>...</td>\n",
              "      <td>0.000000</td>\n",
              "      <td>0</td>\n",
              "      <td>0.0</td>\n",
              "      <td>0.0</td>\n",
              "      <td>0.0</td>\n",
              "      <td>0.0</td>\n",
              "      <td>0</td>\n",
              "      <td>0.0</td>\n",
              "      <td>0.0</td>\n",
              "      <td>0.0</td>\n",
              "    </tr>\n",
              "    <tr>\n",
              "      <th>1</th>\n",
              "      <td>Neoplastic_Core</td>\n",
              "      <td>0.0</td>\n",
              "      <td>0.0</td>\n",
              "      <td>0.0</td>\n",
              "      <td>0.0</td>\n",
              "      <td>0.0</td>\n",
              "      <td>0.000000</td>\n",
              "      <td>0.0</td>\n",
              "      <td>0.0</td>\n",
              "      <td>0</td>\n",
              "      <td>...</td>\n",
              "      <td>1.487372</td>\n",
              "      <td>0</td>\n",
              "      <td>0.0</td>\n",
              "      <td>0.0</td>\n",
              "      <td>0.0</td>\n",
              "      <td>0.0</td>\n",
              "      <td>0</td>\n",
              "      <td>0.0</td>\n",
              "      <td>0.0</td>\n",
              "      <td>0.0</td>\n",
              "    </tr>\n",
              "    <tr>\n",
              "      <th>2</th>\n",
              "      <td>Neoplastic_Core</td>\n",
              "      <td>0.0</td>\n",
              "      <td>0.0</td>\n",
              "      <td>0.0</td>\n",
              "      <td>0.0</td>\n",
              "      <td>0.0</td>\n",
              "      <td>3.812781</td>\n",
              "      <td>0.0</td>\n",
              "      <td>0.0</td>\n",
              "      <td>0</td>\n",
              "      <td>...</td>\n",
              "      <td>0.000000</td>\n",
              "      <td>0</td>\n",
              "      <td>0.0</td>\n",
              "      <td>0.0</td>\n",
              "      <td>0.0</td>\n",
              "      <td>0.0</td>\n",
              "      <td>0</td>\n",
              "      <td>0.0</td>\n",
              "      <td>0.0</td>\n",
              "      <td>0.0</td>\n",
              "    </tr>\n",
              "    <tr>\n",
              "      <th>3</th>\n",
              "      <td>Neoplastic_Core</td>\n",
              "      <td>0.0</td>\n",
              "      <td>0.0</td>\n",
              "      <td>0.0</td>\n",
              "      <td>0.0</td>\n",
              "      <td>0.0</td>\n",
              "      <td>0.000000</td>\n",
              "      <td>0.0</td>\n",
              "      <td>0.0</td>\n",
              "      <td>0</td>\n",
              "      <td>...</td>\n",
              "      <td>0.000000</td>\n",
              "      <td>0</td>\n",
              "      <td>0.0</td>\n",
              "      <td>0.0</td>\n",
              "      <td>0.0</td>\n",
              "      <td>0.0</td>\n",
              "      <td>0</td>\n",
              "      <td>0.0</td>\n",
              "      <td>0.0</td>\n",
              "      <td>0.0</td>\n",
              "    </tr>\n",
              "    <tr>\n",
              "      <th>4</th>\n",
              "      <td>Neoplastic_Core</td>\n",
              "      <td>0.0</td>\n",
              "      <td>0.0</td>\n",
              "      <td>0.0</td>\n",
              "      <td>0.0</td>\n",
              "      <td>0.0</td>\n",
              "      <td>0.000000</td>\n",
              "      <td>0.0</td>\n",
              "      <td>0.0</td>\n",
              "      <td>0</td>\n",
              "      <td>...</td>\n",
              "      <td>0.000000</td>\n",
              "      <td>0</td>\n",
              "      <td>0.0</td>\n",
              "      <td>0.0</td>\n",
              "      <td>0.0</td>\n",
              "      <td>0.0</td>\n",
              "      <td>0</td>\n",
              "      <td>0.0</td>\n",
              "      <td>0.0</td>\n",
              "      <td>0.0</td>\n",
              "    </tr>\n",
              "  </tbody>\n",
              "</table>\n",
              "<p>5 rows × 16384 columns</p>\n",
              "</div>\n",
              "      <button class=\"colab-df-convert\" onclick=\"convertToInteractive('df-018a7fd3-31cb-43a6-9e75-c1cccaa21be7')\"\n",
              "              title=\"Convert this dataframe to an interactive table.\"\n",
              "              style=\"display:none;\">\n",
              "        \n",
              "  <svg xmlns=\"http://www.w3.org/2000/svg\" height=\"24px\"viewBox=\"0 0 24 24\"\n",
              "       width=\"24px\">\n",
              "    <path d=\"M0 0h24v24H0V0z\" fill=\"none\"/>\n",
              "    <path d=\"M18.56 5.44l.94 2.06.94-2.06 2.06-.94-2.06-.94-.94-2.06-.94 2.06-2.06.94zm-11 1L8.5 8.5l.94-2.06 2.06-.94-2.06-.94L8.5 2.5l-.94 2.06-2.06.94zm10 10l.94 2.06.94-2.06 2.06-.94-2.06-.94-.94-2.06-.94 2.06-2.06.94z\"/><path d=\"M17.41 7.96l-1.37-1.37c-.4-.4-.92-.59-1.43-.59-.52 0-1.04.2-1.43.59L10.3 9.45l-7.72 7.72c-.78.78-.78 2.05 0 2.83L4 21.41c.39.39.9.59 1.41.59.51 0 1.02-.2 1.41-.59l7.78-7.78 2.81-2.81c.8-.78.8-2.07 0-2.86zM5.41 20L4 18.59l7.72-7.72 1.47 1.35L5.41 20z\"/>\n",
              "  </svg>\n",
              "      </button>\n",
              "      \n",
              "  <style>\n",
              "    .colab-df-container {\n",
              "      display:flex;\n",
              "      flex-wrap:wrap;\n",
              "      gap: 12px;\n",
              "    }\n",
              "\n",
              "    .colab-df-convert {\n",
              "      background-color: #E8F0FE;\n",
              "      border: none;\n",
              "      border-radius: 50%;\n",
              "      cursor: pointer;\n",
              "      display: none;\n",
              "      fill: #1967D2;\n",
              "      height: 32px;\n",
              "      padding: 0 0 0 0;\n",
              "      width: 32px;\n",
              "    }\n",
              "\n",
              "    .colab-df-convert:hover {\n",
              "      background-color: #E2EBFA;\n",
              "      box-shadow: 0px 1px 2px rgba(60, 64, 67, 0.3), 0px 1px 3px 1px rgba(60, 64, 67, 0.15);\n",
              "      fill: #174EA6;\n",
              "    }\n",
              "\n",
              "    [theme=dark] .colab-df-convert {\n",
              "      background-color: #3B4455;\n",
              "      fill: #D2E3FC;\n",
              "    }\n",
              "\n",
              "    [theme=dark] .colab-df-convert:hover {\n",
              "      background-color: #434B5C;\n",
              "      box-shadow: 0px 1px 3px 1px rgba(0, 0, 0, 0.15);\n",
              "      filter: drop-shadow(0px 1px 2px rgba(0, 0, 0, 0.3));\n",
              "      fill: #FFFFFF;\n",
              "    }\n",
              "  </style>\n",
              "\n",
              "      <script>\n",
              "        const buttonEl =\n",
              "          document.querySelector('#df-018a7fd3-31cb-43a6-9e75-c1cccaa21be7 button.colab-df-convert');\n",
              "        buttonEl.style.display =\n",
              "          google.colab.kernel.accessAllowed ? 'block' : 'none';\n",
              "\n",
              "        async function convertToInteractive(key) {\n",
              "          const element = document.querySelector('#df-018a7fd3-31cb-43a6-9e75-c1cccaa21be7');\n",
              "          const dataTable =\n",
              "            await google.colab.kernel.invokeFunction('convertToInteractive',\n",
              "                                                     [key], {});\n",
              "          if (!dataTable) return;\n",
              "\n",
              "          const docLinkHtml = 'Like what you see? Visit the ' +\n",
              "            '<a target=\"_blank\" href=https://colab.research.google.com/notebooks/data_table.ipynb>data table notebook</a>'\n",
              "            + ' to learn more about interactive tables.';\n",
              "          element.innerHTML = '';\n",
              "          dataTable['output_type'] = 'display_data';\n",
              "          await google.colab.output.renderOutput(dataTable, element);\n",
              "          const docLink = document.createElement('div');\n",
              "          docLink.innerHTML = docLinkHtml;\n",
              "          element.appendChild(docLink);\n",
              "        }\n",
              "      </script>\n",
              "    </div>\n",
              "  </div>\n",
              "  "
            ]
          },
          "metadata": {},
          "execution_count": 3
        }
      ]
    },
    {
      "cell_type": "code",
      "source": [
        "#444 rows and 16384 columns\n",
        "\n",
        "df.shape  "
      ],
      "metadata": {
        "colab": {
          "base_uri": "https://localhost:8080/"
        },
        "id": "BAC-qL0zrG5w",
        "outputId": "ddb152a6-aa3c-4e8e-f5ef-83205585ed21"
      },
      "execution_count": 4,
      "outputs": [
        {
          "output_type": "execute_result",
          "data": {
            "text/plain": [
              "(444, 16384)"
            ]
          },
          "metadata": {},
          "execution_count": 4
        }
      ]
    },
    {
      "cell_type": "code",
      "source": [
        "df.describe()"
      ],
      "metadata": {
        "colab": {
          "base_uri": "https://localhost:8080/",
          "height": 411
        },
        "id": "hnLlNsnHrNwB",
        "outputId": "ab20737f-6974-4859-b61f-eaa9e9fe2384"
      },
      "execution_count": 5,
      "outputs": [
        {
          "output_type": "execute_result",
          "data": {
            "text/plain": [
              "       1/2-SBSRNA4        A1BG    A1BG-AS1        A1CF       A2LD1  \\\n",
              "count   444.000000  444.000000  444.000000  444.000000  444.000000   \n",
              "mean      0.281286    1.300646    0.218221    0.043053    0.169951   \n",
              "std       1.448833    2.474125    1.103586    0.567969    1.023480   \n",
              "min       0.000000    0.000000    0.000000    0.000000    0.000000   \n",
              "25%       0.000000    0.000000    0.000000    0.000000    0.000000   \n",
              "50%       0.000000    0.000000    0.000000    0.000000    0.000000   \n",
              "75%       0.000000    0.000000    0.000000    0.000000    0.000000   \n",
              "max       9.515390    9.235368    8.587576    8.715006    9.315997   \n",
              "\n",
              "              A2M       A2ML1       A2MP1  A4GALT       A4GNT  ...  \\\n",
              "count  444.000000  444.000000  444.000000   444.0  444.000000  ...   \n",
              "mean     0.966699    0.308724    0.034910     0.0    0.019368  ...   \n",
              "std      2.856530    1.524655    0.468207     0.0    0.342199  ...   \n",
              "min      0.000000    0.000000    0.000000     0.0    0.000000  ...   \n",
              "25%      0.000000    0.000000    0.000000     0.0    0.000000  ...   \n",
              "50%      0.000000    0.000000    0.000000     0.0    0.000000  ...   \n",
              "75%      0.000000    0.000000    0.000000     0.0    0.000000  ...   \n",
              "max     14.432504    9.786054    7.939351     0.0    7.044394  ...   \n",
              "\n",
              "         PPP1R2P3  PPP1R2P9     PPP1R32     PPP1R35     PPP1R36     PPP1R37  \\\n",
              "count  444.000000     444.0  444.000000  444.000000  444.000000  444.000000   \n",
              "mean     0.129347       0.0    0.186652    1.500870    0.168991    0.059058   \n",
              "std      0.482201       0.0    1.083458    2.676177    1.034354    0.502183   \n",
              "min      0.000000       0.0    0.000000    0.000000    0.000000    0.000000   \n",
              "25%      0.000000       0.0    0.000000    0.000000    0.000000    0.000000   \n",
              "50%      0.000000       0.0    0.000000    0.000000    0.000000    0.000000   \n",
              "75%      0.000000       0.0    0.000000    2.762115    0.000000    0.000000   \n",
              "max      3.053072       0.0    8.149755   10.759567    8.607547    7.653209   \n",
              "\n",
              "       PPP1R3A     PPP1R3B     PPP1R3C     PPP1R3D  \n",
              "count    444.0  444.000000  444.000000  444.000000  \n",
              "mean       0.0    0.274012    0.578264    0.138385  \n",
              "std        0.0    1.252474    2.071382    0.950394  \n",
              "min        0.0    0.000000    0.000000    0.000000  \n",
              "25%        0.0    0.000000    0.000000    0.000000  \n",
              "50%        0.0    0.000000    0.000000    0.000000  \n",
              "75%        0.0    0.000000    0.000000    0.000000  \n",
              "max        0.0   10.029919   11.223894    9.566267  \n",
              "\n",
              "[8 rows x 16383 columns]"
            ],
            "text/html": [
              "\n",
              "  <div id=\"df-c3928731-7231-43da-9cdb-c72ba9e58ce5\">\n",
              "    <div class=\"colab-df-container\">\n",
              "      <div>\n",
              "<style scoped>\n",
              "    .dataframe tbody tr th:only-of-type {\n",
              "        vertical-align: middle;\n",
              "    }\n",
              "\n",
              "    .dataframe tbody tr th {\n",
              "        vertical-align: top;\n",
              "    }\n",
              "\n",
              "    .dataframe thead th {\n",
              "        text-align: right;\n",
              "    }\n",
              "</style>\n",
              "<table border=\"1\" class=\"dataframe\">\n",
              "  <thead>\n",
              "    <tr style=\"text-align: right;\">\n",
              "      <th></th>\n",
              "      <th>1/2-SBSRNA4</th>\n",
              "      <th>A1BG</th>\n",
              "      <th>A1BG-AS1</th>\n",
              "      <th>A1CF</th>\n",
              "      <th>A2LD1</th>\n",
              "      <th>A2M</th>\n",
              "      <th>A2ML1</th>\n",
              "      <th>A2MP1</th>\n",
              "      <th>A4GALT</th>\n",
              "      <th>A4GNT</th>\n",
              "      <th>...</th>\n",
              "      <th>PPP1R2P3</th>\n",
              "      <th>PPP1R2P9</th>\n",
              "      <th>PPP1R32</th>\n",
              "      <th>PPP1R35</th>\n",
              "      <th>PPP1R36</th>\n",
              "      <th>PPP1R37</th>\n",
              "      <th>PPP1R3A</th>\n",
              "      <th>PPP1R3B</th>\n",
              "      <th>PPP1R3C</th>\n",
              "      <th>PPP1R3D</th>\n",
              "    </tr>\n",
              "  </thead>\n",
              "  <tbody>\n",
              "    <tr>\n",
              "      <th>count</th>\n",
              "      <td>444.000000</td>\n",
              "      <td>444.000000</td>\n",
              "      <td>444.000000</td>\n",
              "      <td>444.000000</td>\n",
              "      <td>444.000000</td>\n",
              "      <td>444.000000</td>\n",
              "      <td>444.000000</td>\n",
              "      <td>444.000000</td>\n",
              "      <td>444.0</td>\n",
              "      <td>444.000000</td>\n",
              "      <td>...</td>\n",
              "      <td>444.000000</td>\n",
              "      <td>444.0</td>\n",
              "      <td>444.000000</td>\n",
              "      <td>444.000000</td>\n",
              "      <td>444.000000</td>\n",
              "      <td>444.000000</td>\n",
              "      <td>444.0</td>\n",
              "      <td>444.000000</td>\n",
              "      <td>444.000000</td>\n",
              "      <td>444.000000</td>\n",
              "    </tr>\n",
              "    <tr>\n",
              "      <th>mean</th>\n",
              "      <td>0.281286</td>\n",
              "      <td>1.300646</td>\n",
              "      <td>0.218221</td>\n",
              "      <td>0.043053</td>\n",
              "      <td>0.169951</td>\n",
              "      <td>0.966699</td>\n",
              "      <td>0.308724</td>\n",
              "      <td>0.034910</td>\n",
              "      <td>0.0</td>\n",
              "      <td>0.019368</td>\n",
              "      <td>...</td>\n",
              "      <td>0.129347</td>\n",
              "      <td>0.0</td>\n",
              "      <td>0.186652</td>\n",
              "      <td>1.500870</td>\n",
              "      <td>0.168991</td>\n",
              "      <td>0.059058</td>\n",
              "      <td>0.0</td>\n",
              "      <td>0.274012</td>\n",
              "      <td>0.578264</td>\n",
              "      <td>0.138385</td>\n",
              "    </tr>\n",
              "    <tr>\n",
              "      <th>std</th>\n",
              "      <td>1.448833</td>\n",
              "      <td>2.474125</td>\n",
              "      <td>1.103586</td>\n",
              "      <td>0.567969</td>\n",
              "      <td>1.023480</td>\n",
              "      <td>2.856530</td>\n",
              "      <td>1.524655</td>\n",
              "      <td>0.468207</td>\n",
              "      <td>0.0</td>\n",
              "      <td>0.342199</td>\n",
              "      <td>...</td>\n",
              "      <td>0.482201</td>\n",
              "      <td>0.0</td>\n",
              "      <td>1.083458</td>\n",
              "      <td>2.676177</td>\n",
              "      <td>1.034354</td>\n",
              "      <td>0.502183</td>\n",
              "      <td>0.0</td>\n",
              "      <td>1.252474</td>\n",
              "      <td>2.071382</td>\n",
              "      <td>0.950394</td>\n",
              "    </tr>\n",
              "    <tr>\n",
              "      <th>min</th>\n",
              "      <td>0.000000</td>\n",
              "      <td>0.000000</td>\n",
              "      <td>0.000000</td>\n",
              "      <td>0.000000</td>\n",
              "      <td>0.000000</td>\n",
              "      <td>0.000000</td>\n",
              "      <td>0.000000</td>\n",
              "      <td>0.000000</td>\n",
              "      <td>0.0</td>\n",
              "      <td>0.000000</td>\n",
              "      <td>...</td>\n",
              "      <td>0.000000</td>\n",
              "      <td>0.0</td>\n",
              "      <td>0.000000</td>\n",
              "      <td>0.000000</td>\n",
              "      <td>0.000000</td>\n",
              "      <td>0.000000</td>\n",
              "      <td>0.0</td>\n",
              "      <td>0.000000</td>\n",
              "      <td>0.000000</td>\n",
              "      <td>0.000000</td>\n",
              "    </tr>\n",
              "    <tr>\n",
              "      <th>25%</th>\n",
              "      <td>0.000000</td>\n",
              "      <td>0.000000</td>\n",
              "      <td>0.000000</td>\n",
              "      <td>0.000000</td>\n",
              "      <td>0.000000</td>\n",
              "      <td>0.000000</td>\n",
              "      <td>0.000000</td>\n",
              "      <td>0.000000</td>\n",
              "      <td>0.0</td>\n",
              "      <td>0.000000</td>\n",
              "      <td>...</td>\n",
              "      <td>0.000000</td>\n",
              "      <td>0.0</td>\n",
              "      <td>0.000000</td>\n",
              "      <td>0.000000</td>\n",
              "      <td>0.000000</td>\n",
              "      <td>0.000000</td>\n",
              "      <td>0.0</td>\n",
              "      <td>0.000000</td>\n",
              "      <td>0.000000</td>\n",
              "      <td>0.000000</td>\n",
              "    </tr>\n",
              "    <tr>\n",
              "      <th>50%</th>\n",
              "      <td>0.000000</td>\n",
              "      <td>0.000000</td>\n",
              "      <td>0.000000</td>\n",
              "      <td>0.000000</td>\n",
              "      <td>0.000000</td>\n",
              "      <td>0.000000</td>\n",
              "      <td>0.000000</td>\n",
              "      <td>0.000000</td>\n",
              "      <td>0.0</td>\n",
              "      <td>0.000000</td>\n",
              "      <td>...</td>\n",
              "      <td>0.000000</td>\n",
              "      <td>0.0</td>\n",
              "      <td>0.000000</td>\n",
              "      <td>0.000000</td>\n",
              "      <td>0.000000</td>\n",
              "      <td>0.000000</td>\n",
              "      <td>0.0</td>\n",
              "      <td>0.000000</td>\n",
              "      <td>0.000000</td>\n",
              "      <td>0.000000</td>\n",
              "    </tr>\n",
              "    <tr>\n",
              "      <th>75%</th>\n",
              "      <td>0.000000</td>\n",
              "      <td>0.000000</td>\n",
              "      <td>0.000000</td>\n",
              "      <td>0.000000</td>\n",
              "      <td>0.000000</td>\n",
              "      <td>0.000000</td>\n",
              "      <td>0.000000</td>\n",
              "      <td>0.000000</td>\n",
              "      <td>0.0</td>\n",
              "      <td>0.000000</td>\n",
              "      <td>...</td>\n",
              "      <td>0.000000</td>\n",
              "      <td>0.0</td>\n",
              "      <td>0.000000</td>\n",
              "      <td>2.762115</td>\n",
              "      <td>0.000000</td>\n",
              "      <td>0.000000</td>\n",
              "      <td>0.0</td>\n",
              "      <td>0.000000</td>\n",
              "      <td>0.000000</td>\n",
              "      <td>0.000000</td>\n",
              "    </tr>\n",
              "    <tr>\n",
              "      <th>max</th>\n",
              "      <td>9.515390</td>\n",
              "      <td>9.235368</td>\n",
              "      <td>8.587576</td>\n",
              "      <td>8.715006</td>\n",
              "      <td>9.315997</td>\n",
              "      <td>14.432504</td>\n",
              "      <td>9.786054</td>\n",
              "      <td>7.939351</td>\n",
              "      <td>0.0</td>\n",
              "      <td>7.044394</td>\n",
              "      <td>...</td>\n",
              "      <td>3.053072</td>\n",
              "      <td>0.0</td>\n",
              "      <td>8.149755</td>\n",
              "      <td>10.759567</td>\n",
              "      <td>8.607547</td>\n",
              "      <td>7.653209</td>\n",
              "      <td>0.0</td>\n",
              "      <td>10.029919</td>\n",
              "      <td>11.223894</td>\n",
              "      <td>9.566267</td>\n",
              "    </tr>\n",
              "  </tbody>\n",
              "</table>\n",
              "<p>8 rows × 16383 columns</p>\n",
              "</div>\n",
              "      <button class=\"colab-df-convert\" onclick=\"convertToInteractive('df-c3928731-7231-43da-9cdb-c72ba9e58ce5')\"\n",
              "              title=\"Convert this dataframe to an interactive table.\"\n",
              "              style=\"display:none;\">\n",
              "        \n",
              "  <svg xmlns=\"http://www.w3.org/2000/svg\" height=\"24px\"viewBox=\"0 0 24 24\"\n",
              "       width=\"24px\">\n",
              "    <path d=\"M0 0h24v24H0V0z\" fill=\"none\"/>\n",
              "    <path d=\"M18.56 5.44l.94 2.06.94-2.06 2.06-.94-2.06-.94-.94-2.06-.94 2.06-2.06.94zm-11 1L8.5 8.5l.94-2.06 2.06-.94-2.06-.94L8.5 2.5l-.94 2.06-2.06.94zm10 10l.94 2.06.94-2.06 2.06-.94-2.06-.94-.94-2.06-.94 2.06-2.06.94z\"/><path d=\"M17.41 7.96l-1.37-1.37c-.4-.4-.92-.59-1.43-.59-.52 0-1.04.2-1.43.59L10.3 9.45l-7.72 7.72c-.78.78-.78 2.05 0 2.83L4 21.41c.39.39.9.59 1.41.59.51 0 1.02-.2 1.41-.59l7.78-7.78 2.81-2.81c.8-.78.8-2.07 0-2.86zM5.41 20L4 18.59l7.72-7.72 1.47 1.35L5.41 20z\"/>\n",
              "  </svg>\n",
              "      </button>\n",
              "      \n",
              "  <style>\n",
              "    .colab-df-container {\n",
              "      display:flex;\n",
              "      flex-wrap:wrap;\n",
              "      gap: 12px;\n",
              "    }\n",
              "\n",
              "    .colab-df-convert {\n",
              "      background-color: #E8F0FE;\n",
              "      border: none;\n",
              "      border-radius: 50%;\n",
              "      cursor: pointer;\n",
              "      display: none;\n",
              "      fill: #1967D2;\n",
              "      height: 32px;\n",
              "      padding: 0 0 0 0;\n",
              "      width: 32px;\n",
              "    }\n",
              "\n",
              "    .colab-df-convert:hover {\n",
              "      background-color: #E2EBFA;\n",
              "      box-shadow: 0px 1px 2px rgba(60, 64, 67, 0.3), 0px 1px 3px 1px rgba(60, 64, 67, 0.15);\n",
              "      fill: #174EA6;\n",
              "    }\n",
              "\n",
              "    [theme=dark] .colab-df-convert {\n",
              "      background-color: #3B4455;\n",
              "      fill: #D2E3FC;\n",
              "    }\n",
              "\n",
              "    [theme=dark] .colab-df-convert:hover {\n",
              "      background-color: #434B5C;\n",
              "      box-shadow: 0px 1px 3px 1px rgba(0, 0, 0, 0.15);\n",
              "      filter: drop-shadow(0px 1px 2px rgba(0, 0, 0, 0.3));\n",
              "      fill: #FFFFFF;\n",
              "    }\n",
              "  </style>\n",
              "\n",
              "      <script>\n",
              "        const buttonEl =\n",
              "          document.querySelector('#df-c3928731-7231-43da-9cdb-c72ba9e58ce5 button.colab-df-convert');\n",
              "        buttonEl.style.display =\n",
              "          google.colab.kernel.accessAllowed ? 'block' : 'none';\n",
              "\n",
              "        async function convertToInteractive(key) {\n",
              "          const element = document.querySelector('#df-c3928731-7231-43da-9cdb-c72ba9e58ce5');\n",
              "          const dataTable =\n",
              "            await google.colab.kernel.invokeFunction('convertToInteractive',\n",
              "                                                     [key], {});\n",
              "          if (!dataTable) return;\n",
              "\n",
              "          const docLinkHtml = 'Like what you see? Visit the ' +\n",
              "            '<a target=\"_blank\" href=https://colab.research.google.com/notebooks/data_table.ipynb>data table notebook</a>'\n",
              "            + ' to learn more about interactive tables.';\n",
              "          element.innerHTML = '';\n",
              "          dataTable['output_type'] = 'display_data';\n",
              "          await google.colab.output.renderOutput(dataTable, element);\n",
              "          const docLink = document.createElement('div');\n",
              "          docLink.innerHTML = docLinkHtml;\n",
              "          element.appendChild(docLink);\n",
              "        }\n",
              "      </script>\n",
              "    </div>\n",
              "  </div>\n",
              "  "
            ]
          },
          "metadata": {},
          "execution_count": 5
        }
      ]
    },
    {
      "cell_type": "code",
      "source": [
        "df.isna().sum()"
      ],
      "metadata": {
        "colab": {
          "base_uri": "https://localhost:8080/"
        },
        "id": "smV6eXzeGWpo",
        "outputId": "fe074caf-34a2-4faa-cd55-27bae3ff49dc"
      },
      "execution_count": 6,
      "outputs": [
        {
          "output_type": "execute_result",
          "data": {
            "text/plain": [
              "class          0\n",
              "1/2-SBSRNA4    0\n",
              "A1BG           0\n",
              "A1BG-AS1       0\n",
              "A1CF           0\n",
              "              ..\n",
              "PPP1R37        0\n",
              "PPP1R3A        0\n",
              "PPP1R3B        0\n",
              "PPP1R3C        0\n",
              "PPP1R3D        0\n",
              "Length: 16384, dtype: int64"
            ]
          },
          "metadata": {},
          "execution_count": 6
        }
      ]
    },
    {
      "cell_type": "code",
      "source": [
        "#Counts of classes in data. \n",
        "\n",
        "df['class'].value_counts()"
      ],
      "metadata": {
        "colab": {
          "base_uri": "https://localhost:8080/"
        },
        "id": "ojCt_H0Nridz",
        "outputId": "d948381b-f5e1-4467-ab21-ea3bc017f5b6"
      },
      "execution_count": 7,
      "outputs": [
        {
          "output_type": "execute_result",
          "data": {
            "text/plain": [
              "Neoplastic_Core         386\n",
              "Neoplastic_Periphery     58\n",
              "Name: class, dtype: int64"
            ]
          },
          "metadata": {},
          "execution_count": 7
        }
      ]
    },
    {
      "cell_type": "code",
      "source": [
        "#Neoplastic_Core is alot more, consisting of 86.94% of the data\n",
        "\n",
        "df['class'].value_counts(normalize=True)*100"
      ],
      "metadata": {
        "colab": {
          "base_uri": "https://localhost:8080/"
        },
        "id": "skYwxFZFrrXT",
        "outputId": "83a1c84e-486e-49ac-d7d1-2eb7273f6149"
      },
      "execution_count": 8,
      "outputs": [
        {
          "output_type": "execute_result",
          "data": {
            "text/plain": [
              "Neoplastic_Core         86.936937\n",
              "Neoplastic_Periphery    13.063063\n",
              "Name: class, dtype: float64"
            ]
          },
          "metadata": {},
          "execution_count": 8
        }
      ]
    },
    {
      "cell_type": "code",
      "source": [
        "print(\"Rows, Columns:\",df.shape)\n",
        "Classes = df.groupby('class').size()\n",
        "labels = Classes.index.values\n",
        "sizes = Classes.values\n",
        "muestra = []\n",
        "for k in range(0,labels.size):\n",
        "  texto = labels[k]+': '+str(sizes[k])+' samples\\n({:,.2f} %)'.format((100*sizes[k]/sum(sizes)))\n",
        "  muestra.append(texto)\n",
        "colors = ['#F4D03F','#27AE60']\n",
        "bbox_props = dict(boxstyle=\"square,pad=0.3\", fc=\"w\", ec=\"k\", lw=0.72)\n",
        "kw = dict(arrowprops=dict(arrowstyle=\"-\"),bbox=bbox_props, zorder=0, va=\"center\")\n",
        "fig,ax1 = plt.subplots(figsize=(18,9),ncols=1,nrows=1)\n",
        "wedges, texts = ax1.pie(sizes, shadow=True, colors=colors, startangle=90)\n",
        "ax1.axis('equal')  # Equal aspect ratio ensures that pie is drawn as a circle.\n",
        "\n",
        "for i, p in enumerate(wedges):\n",
        "    ang = (p.theta2 - p.theta1)/2. + p.theta1\n",
        "    y = np.sin(np.deg2rad(ang))\n",
        "    x = np.cos(np.deg2rad(ang))\n",
        "    horizontalalignment = {-1: \"right\", 1: \"left\"}[int(np.sign(x))]\n",
        "    connectionstyle = \"angle,angleA=0,angleB={}\".format(ang)\n",
        "    kw[\"arrowprops\"].update({\"connectionstyle\": connectionstyle})\n",
        "    ax1.annotate(muestra[i], xy=(x, y), xytext=(1.35*np.sign(x), 1.4*y),\n",
        "                horizontalalignment=horizontalalignment, **kw)\n",
        "plt.show()"
      ],
      "metadata": {
        "colab": {
          "base_uri": "https://localhost:8080/",
          "height": 639
        },
        "id": "ZCeiEXqHr0eL",
        "outputId": "92b38f68-96a6-4c20-e56b-3bdc93d61608"
      },
      "execution_count": 9,
      "outputs": [
        {
          "output_type": "stream",
          "name": "stdout",
          "text": [
            "Rows, Columns: (444, 16384)\n"
          ]
        },
        {
          "output_type": "display_data",
          "data": {
            "text/plain": [
              "<Figure size 1296x648 with 1 Axes>"
            ],
            "image/png": "[encoded data removed]"
          },
          "metadata": {}
        }
      ]
    },
    {
      "cell_type": "markdown",
      "source": [
        "### Data Split/Transform and Feature Selection"
      ],
      "metadata": {
        "id": "UhdWUhDTXLSh"
      }
    },
    {
      "cell_type": "code",
      "source": [
        "X = df.drop(['class'], axis=1)\n",
        "y = df['class']\n",
        "\n",
        "X_train, X_test, y_train, y_test = train_test_split(X, y, test_size= 0.2, random_state= 42, stratify=y)\n",
        "\n",
        "#to know the shape of the train and test dataset.\n",
        "print(X_train.shape)\n",
        "print(y_train.shape)\n",
        "print(X_test.shape)\n",
        "print(y_test.shape)"
      ],
      "metadata": {
        "colab": {
          "base_uri": "https://localhost:8080/"
        },
        "id": "_jQ0WGCgXNml",
        "outputId": "5a82a067-7c61-4ef3-f6d8-f702a1d4fae0"
      },
      "execution_count": 11,
      "outputs": [
        {
          "output_type": "stream",
          "name": "stdout",
          "text": [
            "(355, 16383)\n",
            "(355,)\n",
            "(89, 16383)\n",
            "(89,)\n"
          ]
        }
      ]
    },
    {
      "cell_type": "code",
      "source": [
        "# Feature importance \n",
        "\n",
        "feature_importances = np.zeros(X_train.shape[1])\n",
        "\n",
        "model = lgb.LGBMClassifier()\n",
        "model.fit(X_train, y_train, early_stopping_rounds=100, eval_set = [(X_test, y_test)], verbose = 200)\n",
        "    \n",
        "# Record the feature importances\n",
        "feature_importances += model.feature_importances_\n",
        "\n",
        "# Top features\n",
        "feature_importances = feature_importances / 2\n",
        "feature_importances = pd.DataFrame({'feature': list(X_train.columns), 'importance': feature_importances}).sort_values('importance', ascending = False)\n",
        "feature_importances.head(10)\n",
        "\n",
        "# Find the features with zero importance\n",
        "zero_features = list(feature_importances[feature_importances['importance'] == 0.0]['feature'])\n",
        "print('There are %d features with 0.0 importance' % len(zero_features))\n",
        "feature_importances.tail(100)"
      ],
      "metadata": {
        "colab": {
          "base_uri": "https://localhost:8080/",
          "height": 493
        },
        "id": "1PC_CSS8XVV9",
        "outputId": "7e9e90c5-78db-4f83-e0b9-8ba83e59db3b"
      },
      "execution_count": 12,
      "outputs": [
        {
          "output_type": "stream",
          "name": "stdout",
          "text": [
            "Training until validation scores don't improve for 100 rounds.\n",
            "Did not meet early stopping. Best iteration is:\n",
            "[48]\tvalid_0's binary_logloss: 0.112143\n",
            "There are 16096 features with 0.0 importance\n"
          ]
        },
        {
          "output_type": "execute_result",
          "data": {
            "text/plain": [
              "       feature  importance\n",
              "5500    ELMOD1         0.0\n",
              "5501    ELMOD2         0.0\n",
              "5502    ELMOD3         0.0\n",
              "5503       ELN         0.0\n",
              "5504     ELOF1         0.0\n",
              "...        ...         ...\n",
              "5532      EML4         0.0\n",
              "5533      EML5         0.0\n",
              "5534      EML6         0.0\n",
              "5535      EMP1         0.0\n",
              "16382  PPP1R3D         0.0\n",
              "\n",
              "[100 rows x 2 columns]"
            ],
            "text/html": [
              "\n",
              "  <div id=\"df-c352aabb-f32f-48da-a3d1-a98dc93cc47e\">\n",
              "    <div class=\"colab-df-container\">\n",
              "      <div>\n",
              "<style scoped>\n",
              "    .dataframe tbody tr th:only-of-type {\n",
              "        vertical-align: middle;\n",
              "    }\n",
              "\n",
              "    .dataframe tbody tr th {\n",
              "        vertical-align: top;\n",
              "    }\n",
              "\n",
              "    .dataframe thead th {\n",
              "        text-align: right;\n",
              "    }\n",
              "</style>\n",
              "<table border=\"1\" class=\"dataframe\">\n",
              "  <thead>\n",
              "    <tr style=\"text-align: right;\">\n",
              "      <th></th>\n",
              "      <th>feature</th>\n",
              "      <th>importance</th>\n",
              "    </tr>\n",
              "  </thead>\n",
              "  <tbody>\n",
              "    <tr>\n",
              "      <th>5500</th>\n",
              "      <td>ELMOD1</td>\n",
              "      <td>0.0</td>\n",
              "    </tr>\n",
              "    <tr>\n",
              "      <th>5501</th>\n",
              "      <td>ELMOD2</td>\n",
              "      <td>0.0</td>\n",
              "    </tr>\n",
              "    <tr>\n",
              "      <th>5502</th>\n",
              "      <td>ELMOD3</td>\n",
              "      <td>0.0</td>\n",
              "    </tr>\n",
              "    <tr>\n",
              "      <th>5503</th>\n",
              "      <td>ELN</td>\n",
              "      <td>0.0</td>\n",
              "    </tr>\n",
              "    <tr>\n",
              "      <th>5504</th>\n",
              "      <td>ELOF1</td>\n",
              "      <td>0.0</td>\n",
              "    </tr>\n",
              "    <tr>\n",
              "      <th>...</th>\n",
              "      <td>...</td>\n",
              "      <td>...</td>\n",
              "    </tr>\n",
              "    <tr>\n",
              "      <th>5532</th>\n",
              "      <td>EML4</td>\n",
              "      <td>0.0</td>\n",
              "    </tr>\n",
              "    <tr>\n",
              "      <th>5533</th>\n",
              "      <td>EML5</td>\n",
              "      <td>0.0</td>\n",
              "    </tr>\n",
              "    <tr>\n",
              "      <th>5534</th>\n",
              "      <td>EML6</td>\n",
              "      <td>0.0</td>\n",
              "    </tr>\n",
              "    <tr>\n",
              "      <th>5535</th>\n",
              "      <td>EMP1</td>\n",
              "      <td>0.0</td>\n",
              "    </tr>\n",
              "    <tr>\n",
              "      <th>16382</th>\n",
              "      <td>PPP1R3D</td>\n",
              "      <td>0.0</td>\n",
              "    </tr>\n",
              "  </tbody>\n",
              "</table>\n",
              "<p>100 rows × 2 columns</p>\n",
              "</div>\n",
              "      <button class=\"colab-df-convert\" onclick=\"convertToInteractive('df-c352aabb-f32f-48da-a3d1-a98dc93cc47e')\"\n",
              "              title=\"Convert this dataframe to an interactive table.\"\n",
              "              style=\"display:none;\">\n",
              "        \n",
              "  <svg xmlns=\"http://www.w3.org/2000/svg\" height=\"24px\"viewBox=\"0 0 24 24\"\n",
              "       width=\"24px\">\n",
              "    <path d=\"M0 0h24v24H0V0z\" fill=\"none\"/>\n",
              "    <path d=\"M18.56 5.44l.94 2.06.94-2.06 2.06-.94-2.06-.94-.94-2.06-.94 2.06-2.06.94zm-11 1L8.5 8.5l.94-2.06 2.06-.94-2.06-.94L8.5 2.5l-.94 2.06-2.06.94zm10 10l.94 2.06.94-2.06 2.06-.94-2.06-.94-.94-2.06-.94 2.06-2.06.94z\"/><path d=\"M17.41 7.96l-1.37-1.37c-.4-.4-.92-.59-1.43-.59-.52 0-1.04.2-1.43.59L10.3 9.45l-7.72 7.72c-.78.78-.78 2.05 0 2.83L4 21.41c.39.39.9.59 1.41.59.51 0 1.02-.2 1.41-.59l7.78-7.78 2.81-2.81c.8-.78.8-2.07 0-2.86zM5.41 20L4 18.59l7.72-7.72 1.47 1.35L5.41 20z\"/>\n",
              "  </svg>\n",
              "      </button>\n",
              "      \n",
              "  <style>\n",
              "    .colab-df-container {\n",
              "      display:flex;\n",
              "      flex-wrap:wrap;\n",
              "      gap: 12px;\n",
              "    }\n",
              "\n",
              "    .colab-df-convert {\n",
              "      background-color: #E8F0FE;\n",
              "      border: none;\n",
              "      border-radius: 50%;\n",
              "      cursor: pointer;\n",
              "      display: none;\n",
              "      fill: #1967D2;\n",
              "      height: 32px;\n",
              "      padding: 0 0 0 0;\n",
              "      width: 32px;\n",
              "    }\n",
              "\n",
              "    .colab-df-convert:hover {\n",
              "      background-color: #E2EBFA;\n",
              "      box-shadow: 0px 1px 2px rgba(60, 64, 67, 0.3), 0px 1px 3px 1px rgba(60, 64, 67, 0.15);\n",
              "      fill: #174EA6;\n",
              "    }\n",
              "\n",
              "    [theme=dark] .colab-df-convert {\n",
              "      background-color: #3B4455;\n",
              "      fill: #D2E3FC;\n",
              "    }\n",
              "\n",
              "    [theme=dark] .colab-df-convert:hover {\n",
              "      background-color: #434B5C;\n",
              "      box-shadow: 0px 1px 3px 1px rgba(0, 0, 0, 0.15);\n",
              "      filter: drop-shadow(0px 1px 2px rgba(0, 0, 0, 0.3));\n",
              "      fill: #FFFFFF;\n",
              "    }\n",
              "  </style>\n",
              "\n",
              "      <script>\n",
              "        const buttonEl =\n",
              "          document.querySelector('#df-c352aabb-f32f-48da-a3d1-a98dc93cc47e button.colab-df-convert');\n",
              "        buttonEl.style.display =\n",
              "          google.colab.kernel.accessAllowed ? 'block' : 'none';\n",
              "\n",
              "        async function convertToInteractive(key) {\n",
              "          const element = document.querySelector('#df-c352aabb-f32f-48da-a3d1-a98dc93cc47e');\n",
              "          const dataTable =\n",
              "            await google.colab.kernel.invokeFunction('convertToInteractive',\n",
              "                                                     [key], {});\n",
              "          if (!dataTable) return;\n",
              "\n",
              "          const docLinkHtml = 'Like what you see? Visit the ' +\n",
              "            '<a target=\"_blank\" href=https://colab.research.google.com/notebooks/data_table.ipynb>data table notebook</a>'\n",
              "            + ' to learn more about interactive tables.';\n",
              "          element.innerHTML = '';\n",
              "          dataTable['output_type'] = 'display_data';\n",
              "          await google.colab.output.renderOutput(dataTable, element);\n",
              "          const docLink = document.createElement('div');\n",
              "          docLink.innerHTML = docLinkHtml;\n",
              "          element.appendChild(docLink);\n",
              "        }\n",
              "      </script>\n",
              "    </div>\n",
              "  </div>\n",
              "  "
            ]
          },
          "metadata": {},
          "execution_count": 12
        }
      ]
    },
    {
      "cell_type": "code",
      "source": [
        "# Drop the unimportant features\n",
        "\n",
        "X_train = X_train.drop(columns = zero_features)\n",
        "X_test = X_test.drop(columns = zero_features)\n",
        "\n",
        "print('Training shape: ', X_train.shape)\n",
        "print('Testing shape: ', X_test.shape)\n",
        "\n",
        "#Fit the data\n",
        "scaler = StandardScaler()\n",
        "scaler.fit(X_train)\n",
        "\n",
        "X_train = scaler.transform(X_train)\n",
        "X_test = scaler.transform(X_test)"
      ],
      "metadata": {
        "colab": {
          "base_uri": "https://localhost:8080/"
        },
        "id": "DTZXUQ3hXnHH",
        "outputId": "db048097-d375-454d-db7b-6882a8353ef5"
      },
      "execution_count": 13,
      "outputs": [
        {
          "output_type": "stream",
          "name": "stdout",
          "text": [
            "Training shape:  (355, 287)\n",
            "Testing shape:  (89, 287)\n"
          ]
        }
      ]
    },
    {
      "cell_type": "markdown",
      "source": [
        "### Decision Tree Before Resampling"
      ],
      "metadata": {
        "id": "hwFIjKVnIUv8"
      }
    },
    {
      "cell_type": "code",
      "source": [
        "tree = DecisionTreeClassifier() \n",
        "tree.fit(X_train, y_train)\n",
        "\n",
        "print(f'Decision tree has {tree.tree_.node_count} nodes with maximum depth {tree.tree_.max_depth}.') \n",
        "print(f'Model Accuracy: {tree.score(X_train, y_train)}')"
      ],
      "metadata": {
        "colab": {
          "base_uri": "https://localhost:8080/"
        },
        "id": "8GIVkC1oIWI9",
        "outputId": "94ccf65a-ad20-4a51-e849-15fcc4a5ea56"
      },
      "execution_count": 15,
      "outputs": [
        {
          "output_type": "stream",
          "name": "stdout",
          "text": [
            "Decision tree has 23 nodes with maximum depth 8.\n",
            "Model Accuracy: 1.0\n"
          ]
        }
      ]
    },
    {
      "cell_type": "code",
      "source": [
        "neighbors_setting = range(1,25)\n",
        "\n",
        "training_accuracy = []\n",
        "test_accuracy = []\n",
        "\n",
        "max_dep = range(1,25)\n",
        "\n",
        "for md in max_dep:\n",
        "    tree = DecisionTreeClassifier(max_depth=md,random_state=0)\n",
        "    tree.fit(X_train,y_train)\n",
        "    training_accuracy.append(tree.score(X_train, y_train))\n",
        "    test_accuracy.append(tree.score(X_test, y_test))\n",
        " \n",
        "plt.plot(max_dep,training_accuracy, label='Accuracy of the training set')\n",
        "plt.plot(neighbors_setting,test_accuracy, label='Accuracy of the test set')\n",
        "plt.ylabel('Accuracy')\n",
        "plt.xlabel('Max Depth')\n",
        "plt.legend()"
      ],
      "metadata": {
        "colab": {
          "base_uri": "https://localhost:8080/",
          "height": 296
        },
        "id": "dEMj2d1uIcI0",
        "outputId": "7afd8ed2-3121-43ab-9d10-e235c9db7b50"
      },
      "execution_count": 16,
      "outputs": [
        {
          "output_type": "execute_result",
          "data": {
            "text/plain": [
              "<matplotlib.legend.Legend at 0x7f48484dc1d0>"
            ]
          },
          "metadata": {},
          "execution_count": 16
        },
        {
          "output_type": "display_data",
          "data": {
            "text/plain": [
              "<Figure size 432x288 with 1 Axes>"
            ],
            "image/png": "[encoded data removed]"
          },
          "metadata": {
            "needs_background": "light"
          }
        }
      ]
    },
    {
      "cell_type": "code",
      "source": [
        "#Classification Report\n",
        "\n",
        "y_pred = tree.predict(X_test) \n",
        "print(classification_report(y_test,y_pred))"
      ],
      "metadata": {
        "colab": {
          "base_uri": "https://localhost:8080/"
        },
        "id": "h3cYP7wEIqXd",
        "outputId": "8e81c47f-39ca-4ad6-c83f-1373623265e0"
      },
      "execution_count": 17,
      "outputs": [
        {
          "output_type": "stream",
          "name": "stdout",
          "text": [
            "                      precision    recall  f1-score   support\n",
            "\n",
            "     Neoplastic_Core       0.91      0.94      0.92        77\n",
            "Neoplastic_Periphery       0.50      0.42      0.45        12\n",
            "\n",
            "            accuracy                           0.87        89\n",
            "           macro avg       0.71      0.68      0.69        89\n",
            "        weighted avg       0.86      0.87      0.86        89\n",
            "\n"
          ]
        }
      ]
    },
    {
      "cell_type": "code",
      "source": [
        "#Accuracy Score:\n",
        "score_tree = accuracy_score(y_test, y_pred)*100\n",
        "print(\"Accuracy score: %0.3f\" % score_tree)"
      ],
      "metadata": {
        "colab": {
          "base_uri": "https://localhost:8080/"
        },
        "id": "fyqclJICIr8Z",
        "outputId": "6565a95e-239e-4891-aed6-c962dd1af4f4"
      },
      "execution_count": 18,
      "outputs": [
        {
          "output_type": "stream",
          "name": "stdout",
          "text": [
            "Accuracy score: 86.517\n"
          ]
        }
      ]
    },
    {
      "cell_type": "code",
      "source": [
        "#Other Metrics\n",
        "classifiers=[DecisionTreeClassifier()]\n",
        "\n",
        "model = tree\n",
        "\n",
        "def classifier_metrics():    \n",
        "    def metrics(model):\n",
        "        model.fit(X_train, y_train)  \n",
        "        y_pred = model.predict(X_test)\n",
        "        try: \n",
        "            y_prob = model.predict_proba(X_test)\n",
        "            log_metric = log_loss(y_test,y_prob)\n",
        "        except:\n",
        "            y_prob = \"Not probablistic\"\n",
        "            log_metric = 0\n",
        "        else:\n",
        "            y_pred = model.predict(X_test)\n",
        "        c_k_s=cohen_kappa_score(y_test,y_pred)\n",
        "        zero_met=zero_one_loss(y_test,y_pred)\n",
        "        hl=hamming_loss(y_test,y_pred)\n",
        "        mc=matthews_corrcoef(y_test,y_pred)\n",
        "        print('cohen_kappa_score: {0:.3f}'.format(c_k_s))\n",
        "        print('log_loss: {0:.3f}'.format(log_metric))\n",
        "        print('zero_one_loss: {0:.3f}'.format(zero_met))\n",
        "        print('hemming_loss: {0:.3f}'.format(hl))\n",
        "        print('matthews_corrcoef: {0:.3f}'.format(mc))\n",
        "    for name in classifiers:\n",
        "        print (str(name))\n",
        "        metrics(name)\n",
        "        print()\n",
        "\n",
        "classifier_metrics()"
      ],
      "metadata": {
        "colab": {
          "base_uri": "https://localhost:8080/"
        },
        "id": "9rOW2uM7YbLu",
        "outputId": "06729ef2-9bf4-47d7-85a3-5c9cb7031db3"
      },
      "execution_count": 23,
      "outputs": [
        {
          "output_type": "stream",
          "name": "stdout",
          "text": [
            "DecisionTreeClassifier()\n",
            "cohen_kappa_score: 0.378\n",
            "log_loss: 4.657\n",
            "zero_one_loss: 0.135\n",
            "hemming_loss: 0.135\n",
            "matthews_corrcoef: 0.380\n",
            "\n"
          ]
        }
      ]
    },
    {
      "cell_type": "code",
      "source": [
        "#Confusion Matrix\n",
        "\n",
        "def show_confusion_matrix(model, X_test, y_test):\n",
        "    class_names = model.classes_\n",
        "    fig, ax = plt.subplots(figsize=(4, 4), dpi=100)\n",
        "    ax.grid = False\n",
        "    plt.rcParams.update({'font.size': 12})\n",
        "    disp = plot_confusion_matrix(model, X_test, y_test,\n",
        "                                 display_labels=class_names,\n",
        "                                 cmap=plt.cm.Greens,\n",
        "                                 normalize=None,\n",
        "                                 ax=ax)\n",
        "    tick_marks = np.arange(len(class_names))\n",
        "    plt.xticks(tick_marks, class_names, rotation=45, ha='right')\n",
        "    disp.ax_.set_title(f'Confusion Matrix\\n{model}', size=11, y=1.05)\n",
        "    ax.tick_params(axis='both', which='major', labelsize=10)\n",
        "    plt.show();\n",
        "\n",
        "show_confusion_matrix(tree, X_test, y_test)"
      ],
      "metadata": {
        "colab": {
          "base_uri": "https://localhost:8080/",
          "height": 465
        },
        "id": "pFtTQnCqYGhH",
        "outputId": "c018e8c0-7294-4572-8d60-eed50b12f3cc"
      },
      "execution_count": 19,
      "outputs": [
        {
          "output_type": "display_data",
          "data": {
            "text/plain": [
              "<Figure size 400x400 with 2 Axes>"
            ],
            "image/png": "[encoded data removed]"
          },
          "metadata": {
            "needs_background": "light"
          }
        }
      ]
    },
    {
      "cell_type": "code",
      "source": [
        "classes = [\"Neoplastic_Core\", \"Neoplastic_Periphery\"]\n",
        "model = tree\n",
        "\n",
        "def CM_viz():    \n",
        "    def CM(model,classes):\n",
        "        visualizer = ConfusionMatrix(model, classes=classes, percent=True)\n",
        "        visualizer.fit(X_train, y_train)  # Fit the visualizer and the model\n",
        "        visualizer.score(X_test, y_test)  # Evaluate the model on the test data \n",
        "        return visualizer.poof()  \n",
        "    for name in classifiers:\n",
        "        ax = plt.subplot(1,1,1)\n",
        "        CM(name,classes)\n",
        "\n",
        "CM_viz()"
      ],
      "metadata": {
        "colab": {
          "base_uri": "https://localhost:8080/",
          "height": 293
        },
        "id": "mD1X-8xEYNOg",
        "outputId": "8f064811-57e0-451c-e33c-1578ad782fe7"
      },
      "execution_count": 24,
      "outputs": [
        {
          "output_type": "display_data",
          "data": {
            "text/plain": [
              "<Figure size 432x288 with 1 Axes>"
            ],
            "image/png": "[encoded data removed]"
          },
          "metadata": {
            "needs_background": "light"
          }
        }
      ]
    },
    {
      "cell_type": "code",
      "source": [
        "classes = [\"Neoplastic_Core\", \"Neoplastic_Periphery\"]\n",
        "model = tree\n",
        "\n",
        "def CPE_viz():    \n",
        "    def CPE(model,classes):\n",
        "        visualizer = ClassPredictionError(model, classes=classes)\n",
        "        visualizer.fit(X_train, y_train)  # Fit the visualizer and the model\n",
        "        visualizer.score(X_test, y_test)  # Evaluate the model on the test data \n",
        "        return visualizer.poof()  \n",
        "    for name in classifiers:\n",
        "        ax = plt.subplot(1,1,1)\n",
        "        CPE(name,classes)\n",
        "\n",
        "CPE_viz()\n",
        "\n"
      ],
      "metadata": {
        "colab": {
          "base_uri": "https://localhost:8080/",
          "height": 287
        },
        "id": "SNOSyZrEfxep",
        "outputId": "5f0c2da2-e992-4100-820c-2da03d72cf17"
      },
      "execution_count": 62,
      "outputs": [
        {
          "output_type": "display_data",
          "data": {
            "text/plain": [
              "<Figure size 432x288 with 1 Axes>"
            ],
            "image/png": "[encoded data removed]"
          },
          "metadata": {
            "needs_background": "light"
          }
        }
      ]
    },
    {
      "cell_type": "markdown",
      "source": [
        "### Resample\n",
        "\n",
        "Because there is 386 samples of Neoplastic_Core vs 58 samples of Neoplastic_Periphery, there is an imbalance problem and we will need to resample the data"
      ],
      "metadata": {
        "id": "UoyiOv4Ys4xv"
      }
    },
    {
      "cell_type": "code",
      "source": [
        "df_resample = pd.read_csv('/content/S1_Originaldata.csv')"
      ],
      "metadata": {
        "id": "b90OireWYxch"
      },
      "execution_count": 26,
      "outputs": []
    },
    {
      "cell_type": "code",
      "source": [
        "df_class1 = resample(df_resample[df_resample['class']=='Neoplastic_Core'],\n",
        "               replace=True,\n",
        "               n_samples=386,\n",
        "               random_state=123)\n",
        "\n",
        "df_class2 = resample(df_resample[df_resample['class']=='Neoplastic_Periphery'],\n",
        "               replace=True,\n",
        "               n_samples=386,\n",
        "               random_state=123)\n",
        "\n",
        "df_resample= pd.concat([df_class1, df_class2])\n",
        "df_resample['class'].value_counts()"
      ],
      "metadata": {
        "colab": {
          "base_uri": "https://localhost:8080/"
        },
        "id": "PIy2HmUar_lK",
        "outputId": "4dea44ec-7253-481d-f0c3-e225a46af094"
      },
      "execution_count": 27,
      "outputs": [
        {
          "output_type": "execute_result",
          "data": {
            "text/plain": [
              "Neoplastic_Core         386\n",
              "Neoplastic_Periphery    386\n",
              "Name: class, dtype: int64"
            ]
          },
          "metadata": {},
          "execution_count": 27
        }
      ]
    },
    {
      "cell_type": "code",
      "source": [
        "df_resample['class'].value_counts().plot(kind='bar', \n",
        "color = ['#F4D03F','#27AE60'], title='Distribution of Samples by Class');"
      ],
      "metadata": {
        "colab": {
          "base_uri": "https://localhost:8080/",
          "height": 366
        },
        "id": "tSRCsoO82EHC",
        "outputId": "f06b7133-27c1-425f-8a61-75ff3616b966"
      },
      "execution_count": 28,
      "outputs": [
        {
          "output_type": "display_data",
          "data": {
            "text/plain": [
              "<Figure size 432x288 with 1 Axes>"
            ],
            "image/png": "[encoded data removed]"
          },
          "metadata": {
            "needs_background": "light"
          }
        }
      ]
    },
    {
      "cell_type": "markdown",
      "source": [
        "### Resample Data Split/Transform and Feature Selection"
      ],
      "metadata": {
        "id": "W0VscYt8uoX5"
      }
    },
    {
      "cell_type": "code",
      "source": [
        "X_resample = df_resample.drop(['class'], axis=1)\n",
        "y_resample = df_resample['class']"
      ],
      "metadata": {
        "id": "e2sKXbIAuEwB"
      },
      "execution_count": 32,
      "outputs": []
    },
    {
      "cell_type": "code",
      "execution_count": 33,
      "metadata": {
        "id": "convenient-liabilities",
        "colab": {
          "base_uri": "https://localhost:8080/"
        },
        "outputId": "e2eccaab-bb32-45e0-e50d-4bbbbf11b7c4"
      },
      "outputs": [
        {
          "output_type": "stream",
          "name": "stdout",
          "text": [
            "(617, 16383)\n",
            "(617,)\n",
            "(155, 16383)\n",
            "(155,)\n"
          ]
        }
      ],
      "source": [
        "# Splitting the dataset to Train and test\n",
        "from sklearn.model_selection import train_test_split\n",
        "X_train, X_test, y_train, y_test = train_test_split(X_resample, y_resample, test_size= 0.2, random_state= 42, stratify=y)\n",
        "\n",
        "#to know the shape of the train and test dataset.\n",
        "print(X_train.shape)\n",
        "print(y_train.shape)\n",
        "print(X_test.shape)\n",
        "print(y_test.shape)"
      ]
    },
    {
      "cell_type": "code",
      "source": [
        "# Feature importance \n",
        "\n",
        "feature_importances = np.zeros(X_train.shape[1])\n",
        "\n",
        "model = lgb.LGBMClassifier()\n",
        "model.fit(X_train, y_train, early_stopping_rounds=100, eval_set = [(X_test, y_test)], verbose = 200)\n",
        "    \n",
        "# Record the feature importances\n",
        "feature_importances += model.feature_importances_\n",
        "\n",
        "# Top features\n",
        "feature_importances = feature_importances / 2\n",
        "feature_importances = pd.DataFrame({'feature': list(X_train.columns), 'importance': feature_importances}).sort_values('importance', ascending = False)\n",
        "feature_importances.head(10)\n",
        "\n",
        "# Find the features with zero importance\n",
        "zero_features = list(feature_importances[feature_importances['importance'] == 0.0]['feature'])\n",
        "print('There are %d features with 0.0 importance' % len(zero_features))\n",
        "feature_importances.tail(100)"
      ],
      "metadata": {
        "colab": {
          "base_uri": "https://localhost:8080/",
          "height": 493
        },
        "id": "dBFNxeXwZmGF",
        "outputId": "7ffa0066-c38c-4c1d-c43d-67ee9809a652"
      },
      "execution_count": 34,
      "outputs": [
        {
          "output_type": "stream",
          "name": "stdout",
          "text": [
            "Training until validation scores don't improve for 100 rounds.\n",
            "Did not meet early stopping. Best iteration is:\n",
            "[95]\tvalid_0's binary_logloss: 0.0163836\n",
            "There are 15405 features with 0.0 importance\n"
          ]
        },
        {
          "output_type": "execute_result",
          "data": {
            "text/plain": [
              "       feature  importance\n",
              "5712      ESX1         0.0\n",
              "5713     ESYT1         0.0\n",
              "5714     ESYT2         0.0\n",
              "5715     ESYT3         0.0\n",
              "5716     ETAA1         0.0\n",
              "...        ...         ...\n",
              "5748      EXD3         0.0\n",
              "5749      EXO1         0.0\n",
              "5750     EXOC1         0.0\n",
              "5751     EXOC2         0.0\n",
              "16382  PPP1R3D         0.0\n",
              "\n",
              "[100 rows x 2 columns]"
            ],
            "text/html": [
              "\n",
              "  <div id=\"df-1c644c0a-ea40-4e7b-815e-ab8c43ec7cf8\">\n",
              "    <div class=\"colab-df-container\">\n",
              "      <div>\n",
              "<style scoped>\n",
              "    .dataframe tbody tr th:only-of-type {\n",
              "        vertical-align: middle;\n",
              "    }\n",
              "\n",
              "    .dataframe tbody tr th {\n",
              "        vertical-align: top;\n",
              "    }\n",
              "\n",
              "    .dataframe thead th {\n",
              "        text-align: right;\n",
              "    }\n",
              "</style>\n",
              "<table border=\"1\" class=\"dataframe\">\n",
              "  <thead>\n",
              "    <tr style=\"text-align: right;\">\n",
              "      <th></th>\n",
              "      <th>feature</th>\n",
              "      <th>importance</th>\n",
              "    </tr>\n",
              "  </thead>\n",
              "  <tbody>\n",
              "    <tr>\n",
              "      <th>5712</th>\n",
              "      <td>ESX1</td>\n",
              "      <td>0.0</td>\n",
              "    </tr>\n",
              "    <tr>\n",
              "      <th>5713</th>\n",
              "      <td>ESYT1</td>\n",
              "      <td>0.0</td>\n",
              "    </tr>\n",
              "    <tr>\n",
              "      <th>5714</th>\n",
              "      <td>ESYT2</td>\n",
              "      <td>0.0</td>\n",
              "    </tr>\n",
              "    <tr>\n",
              "      <th>5715</th>\n",
              "      <td>ESYT3</td>\n",
              "      <td>0.0</td>\n",
              "    </tr>\n",
              "    <tr>\n",
              "      <th>5716</th>\n",
              "      <td>ETAA1</td>\n",
              "      <td>0.0</td>\n",
              "    </tr>\n",
              "    <tr>\n",
              "      <th>...</th>\n",
              "      <td>...</td>\n",
              "      <td>...</td>\n",
              "    </tr>\n",
              "    <tr>\n",
              "      <th>5748</th>\n",
              "      <td>EXD3</td>\n",
              "      <td>0.0</td>\n",
              "    </tr>\n",
              "    <tr>\n",
              "      <th>5749</th>\n",
              "      <td>EXO1</td>\n",
              "      <td>0.0</td>\n",
              "    </tr>\n",
              "    <tr>\n",
              "      <th>5750</th>\n",
              "      <td>EXOC1</td>\n",
              "      <td>0.0</td>\n",
              "    </tr>\n",
              "    <tr>\n",
              "      <th>5751</th>\n",
              "      <td>EXOC2</td>\n",
              "      <td>0.0</td>\n",
              "    </tr>\n",
              "    <tr>\n",
              "      <th>16382</th>\n",
              "      <td>PPP1R3D</td>\n",
              "      <td>0.0</td>\n",
              "    </tr>\n",
              "  </tbody>\n",
              "</table>\n",
              "<p>100 rows × 2 columns</p>\n",
              "</div>\n",
              "      <button class=\"colab-df-convert\" onclick=\"convertToInteractive('df-1c644c0a-ea40-4e7b-815e-ab8c43ec7cf8')\"\n",
              "              title=\"Convert this dataframe to an interactive table.\"\n",
              "              style=\"display:none;\">\n",
              "        \n",
              "  <svg xmlns=\"http://www.w3.org/2000/svg\" height=\"24px\"viewBox=\"0 0 24 24\"\n",
              "       width=\"24px\">\n",
              "    <path d=\"M0 0h24v24H0V0z\" fill=\"none\"/>\n",
              "    <path d=\"M18.56 5.44l.94 2.06.94-2.06 2.06-.94-2.06-.94-.94-2.06-.94 2.06-2.06.94zm-11 1L8.5 8.5l.94-2.06 2.06-.94-2.06-.94L8.5 2.5l-.94 2.06-2.06.94zm10 10l.94 2.06.94-2.06 2.06-.94-2.06-.94-.94-2.06-.94 2.06-2.06.94z\"/><path d=\"M17.41 7.96l-1.37-1.37c-.4-.4-.92-.59-1.43-.59-.52 0-1.04.2-1.43.59L10.3 9.45l-7.72 7.72c-.78.78-.78 2.05 0 2.83L4 21.41c.39.39.9.59 1.41.59.51 0 1.02-.2 1.41-.59l7.78-7.78 2.81-2.81c.8-.78.8-2.07 0-2.86zM5.41 20L4 18.59l7.72-7.72 1.47 1.35L5.41 20z\"/>\n",
              "  </svg>\n",
              "      </button>\n",
              "      \n",
              "  <style>\n",
              "    .colab-df-container {\n",
              "      display:flex;\n",
              "      flex-wrap:wrap;\n",
              "      gap: 12px;\n",
              "    }\n",
              "\n",
              "    .colab-df-convert {\n",
              "      background-color: #E8F0FE;\n",
              "      border: none;\n",
              "      border-radius: 50%;\n",
              "      cursor: pointer;\n",
              "      display: none;\n",
              "      fill: #1967D2;\n",
              "      height: 32px;\n",
              "      padding: 0 0 0 0;\n",
              "      width: 32px;\n",
              "    }\n",
              "\n",
              "    .colab-df-convert:hover {\n",
              "      background-color: #E2EBFA;\n",
              "      box-shadow: 0px 1px 2px rgba(60, 64, 67, 0.3), 0px 1px 3px 1px rgba(60, 64, 67, 0.15);\n",
              "      fill: #174EA6;\n",
              "    }\n",
              "\n",
              "    [theme=dark] .colab-df-convert {\n",
              "      background-color: #3B4455;\n",
              "      fill: #D2E3FC;\n",
              "    }\n",
              "\n",
              "    [theme=dark] .colab-df-convert:hover {\n",
              "      background-color: #434B5C;\n",
              "      box-shadow: 0px 1px 3px 1px rgba(0, 0, 0, 0.15);\n",
              "      filter: drop-shadow(0px 1px 2px rgba(0, 0, 0, 0.3));\n",
              "      fill: #FFFFFF;\n",
              "    }\n",
              "  </style>\n",
              "\n",
              "      <script>\n",
              "        const buttonEl =\n",
              "          document.querySelector('#df-1c644c0a-ea40-4e7b-815e-ab8c43ec7cf8 button.colab-df-convert');\n",
              "        buttonEl.style.display =\n",
              "          google.colab.kernel.accessAllowed ? 'block' : 'none';\n",
              "\n",
              "        async function convertToInteractive(key) {\n",
              "          const element = document.querySelector('#df-1c644c0a-ea40-4e7b-815e-ab8c43ec7cf8');\n",
              "          const dataTable =\n",
              "            await google.colab.kernel.invokeFunction('convertToInteractive',\n",
              "                                                     [key], {});\n",
              "          if (!dataTable) return;\n",
              "\n",
              "          const docLinkHtml = 'Like what you see? Visit the ' +\n",
              "            '<a target=\"_blank\" href=https://colab.research.google.com/notebooks/data_table.ipynb>data table notebook</a>'\n",
              "            + ' to learn more about interactive tables.';\n",
              "          element.innerHTML = '';\n",
              "          dataTable['output_type'] = 'display_data';\n",
              "          await google.colab.output.renderOutput(dataTable, element);\n",
              "          const docLink = document.createElement('div');\n",
              "          docLink.innerHTML = docLinkHtml;\n",
              "          element.appendChild(docLink);\n",
              "        }\n",
              "      </script>\n",
              "    </div>\n",
              "  </div>\n",
              "  "
            ]
          },
          "metadata": {},
          "execution_count": 34
        }
      ]
    },
    {
      "cell_type": "code",
      "source": [
        "# Drop the unimportant features\n",
        "\n",
        "X_train = X_train.drop(columns = zero_features)\n",
        "X_test = X_test.drop(columns = zero_features)\n",
        "\n",
        "print('Training shape: ', X_train.shape)\n",
        "print('Testing shape: ', X_test.shape)\n",
        "\n",
        "#Fit the data\n",
        "scaler = StandardScaler()\n",
        "scaler.fit(X_train)\n",
        "\n",
        "X_train = scaler.transform(X_train)\n",
        "X_test = scaler.transform(X_test)"
      ],
      "metadata": {
        "colab": {
          "base_uri": "https://localhost:8080/"
        },
        "id": "ZkbQQA-ZZ5Q0",
        "outputId": "46904a7c-3ce0-4c6e-94f3-d4a1ba0dded7"
      },
      "execution_count": 35,
      "outputs": [
        {
          "output_type": "stream",
          "name": "stdout",
          "text": [
            "Training shape:  (617, 978)\n",
            "Testing shape:  (155, 978)\n"
          ]
        }
      ]
    },
    {
      "cell_type": "markdown",
      "source": [
        "### Decision Tree After Resample"
      ],
      "metadata": {
        "id": "0orkfKWnxpUg"
      }
    },
    {
      "cell_type": "code",
      "source": [
        "tree_resample = DecisionTreeClassifier() \n",
        "tree_resample.fit(X_train, y_train)"
      ],
      "metadata": {
        "colab": {
          "base_uri": "https://localhost:8080/"
        },
        "id": "YydJHG57xqwT",
        "outputId": "cdb30e77-e76c-4a59-847a-38e528391ab7"
      },
      "execution_count": 36,
      "outputs": [
        {
          "output_type": "execute_result",
          "data": {
            "text/plain": [
              "DecisionTreeClassifier()"
            ]
          },
          "metadata": {},
          "execution_count": 36
        }
      ]
    },
    {
      "cell_type": "code",
      "source": [
        "print(f'Decision tree has {tree_resample .tree_.node_count} nodes with maximum depth {tree_resample .tree_.max_depth}.') \n",
        "print(f'Model Accuracy: {tree_resample .score(X_train, y_train)}')"
      ],
      "metadata": {
        "colab": {
          "base_uri": "https://localhost:8080/"
        },
        "id": "qcPMzfHxxuNx",
        "outputId": "ed37b6a5-7914-4535-d734-44f47c55a79a"
      },
      "execution_count": 37,
      "outputs": [
        {
          "output_type": "stream",
          "name": "stdout",
          "text": [
            "Decision tree has 23 nodes with maximum depth 7.\n",
            "Model Accuracy: 1.0\n"
          ]
        }
      ]
    },
    {
      "cell_type": "code",
      "source": [
        "neighbors_setting = range(1,30)\n",
        "\n",
        "training_accuracy = []\n",
        "test_accuracy = []\n",
        "\n",
        "max_dep = range(1,30)\n",
        "\n",
        "for md in max_dep:\n",
        "    tree = DecisionTreeClassifier(max_depth=md)\n",
        "    tree.fit(X_train,y_train)\n",
        "    training_accuracy.append(tree.score(X_train, y_train))\n",
        "    test_accuracy.append(tree.score(X_test, y_test))\n",
        " \n",
        "plt.plot(max_dep,training_accuracy, label='Accuracy of the training set')\n",
        "plt.plot(neighbors_setting,test_accuracy, label='Accuracy of the test set')\n",
        "plt.ylabel('Accuracy')\n",
        "plt.xlabel('Max Depth')\n",
        "plt.legend()"
      ],
      "metadata": {
        "colab": {
          "base_uri": "https://localhost:8080/",
          "height": 296
        },
        "id": "uC5tQYeG6OWL",
        "outputId": "b91419a5-6eda-4da7-ee4a-4cf3532534b1"
      },
      "execution_count": 46,
      "outputs": [
        {
          "output_type": "execute_result",
          "data": {
            "text/plain": [
              "<matplotlib.legend.Legend at 0x7f48425ca450>"
            ]
          },
          "metadata": {},
          "execution_count": 46
        },
        {
          "output_type": "display_data",
          "data": {
            "text/plain": [
              "<Figure size 432x288 with 1 Axes>"
            ],
            "image/png": "[encoded data removed]"
          },
          "metadata": {
            "needs_background": "light"
          }
        }
      ]
    },
    {
      "cell_type": "markdown",
      "source": [
        "### Accuracy, CM and Classification Report After Resample"
      ],
      "metadata": {
        "id": "JHQEIV-VzxXm"
      }
    },
    {
      "cell_type": "code",
      "source": [
        "#Classification Report\n",
        "\n",
        "y_pred_resample = tree_resample.predict(X_test) \n",
        "print(classification_report(y_test,y_pred_resample))"
      ],
      "metadata": {
        "colab": {
          "base_uri": "https://localhost:8080/"
        },
        "id": "E5t1SZQfz0bN",
        "outputId": "72eb18de-3c1e-4f73-9963-2faea15c8cd5"
      },
      "execution_count": 45,
      "outputs": [
        {
          "output_type": "stream",
          "name": "stdout",
          "text": [
            "                      precision    recall  f1-score   support\n",
            "\n",
            "     Neoplastic_Core       1.00      0.99      0.99        78\n",
            "Neoplastic_Periphery       0.99      1.00      0.99        77\n",
            "\n",
            "            accuracy                           0.99       155\n",
            "           macro avg       0.99      0.99      0.99       155\n",
            "        weighted avg       0.99      0.99      0.99       155\n",
            "\n"
          ]
        }
      ]
    },
    {
      "cell_type": "code",
      "source": [
        "#Accuracy Score:\n",
        "score_tree_resample = accuracy_score(y_test, y_pred_resample)*100\n",
        "print(\"Accuracy score: %0.3f\" % score_tree_resample)\n"
      ],
      "metadata": {
        "colab": {
          "base_uri": "https://localhost:8080/"
        },
        "id": "JqpVj5L91DcI",
        "outputId": "5fc106fc-44d8-444f-d6ef-5b23a6ef0e22"
      },
      "execution_count": 47,
      "outputs": [
        {
          "output_type": "stream",
          "name": "stdout",
          "text": [
            "Accuracy score: 99.355\n"
          ]
        }
      ]
    },
    {
      "cell_type": "code",
      "source": [
        "#Other Metrics\n",
        "classifiers=[DecisionTreeClassifier()]\n",
        "\n",
        "model = tree_resample\n",
        "\n",
        "def classifier_metrics():    \n",
        "    def metrics(model):\n",
        "        model.fit(X_train, y_train)  \n",
        "        y_pred = model.predict(X_test)\n",
        "        try: \n",
        "            y_prob = model.predict_proba(X_test)\n",
        "            log_metric = log_loss(y_test,y_prob)\n",
        "        except:\n",
        "            y_prob = \"Not probablistic\"\n",
        "            log_metric = 0\n",
        "        else:\n",
        "            y_pred_resample = model.predict(X_test)\n",
        "        c_k_s=cohen_kappa_score(y_test,y_pred)\n",
        "        zero_met=zero_one_loss(y_test,y_pred)\n",
        "        hl=hamming_loss(y_test,y_pred)\n",
        "        mc=matthews_corrcoef(y_test,y_pred)\n",
        "        print('cohen_kappa_score: {0:.3f}'.format(c_k_s))\n",
        "        print('log_loss: {0:.3f}'.format(log_metric))\n",
        "        print('zero_one_loss: {0:.3f}'.format(zero_met))\n",
        "        print('hemming_loss: {0:.3f}'.format(hl))\n",
        "        print('matthews_corrcoef: {0:.3f}'.format(mc))\n",
        "    for name in classifiers:\n",
        "        print (str(name))\n",
        "        metrics(name)\n",
        "        print()\n",
        "\n",
        "classifier_metrics()"
      ],
      "metadata": {
        "colab": {
          "base_uri": "https://localhost:8080/"
        },
        "id": "G2ZshwRacKXx",
        "outputId": "406f3d0a-9aaf-4e1e-9dbd-b639d99086d4"
      },
      "execution_count": 52,
      "outputs": [
        {
          "output_type": "stream",
          "name": "stdout",
          "text": [
            "DecisionTreeClassifier()\n",
            "cohen_kappa_score: 0.987\n",
            "log_loss: 0.223\n",
            "zero_one_loss: 0.006\n",
            "hemming_loss: 0.006\n",
            "matthews_corrcoef: 0.987\n",
            "\n"
          ]
        }
      ]
    },
    {
      "cell_type": "code",
      "source": [
        "#Crosstab\n",
        "\n",
        "xtab_TREE=pd.crosstab(y_test, tree_resample.predict(X_test), rownames=['True'], colnames=['Predicted'], margins=True)\n",
        "display(xtab_TREE)"
      ],
      "metadata": {
        "colab": {
          "base_uri": "https://localhost:8080/",
          "height": 174
        },
        "id": "P7_o0Yjd2tJQ",
        "outputId": "69979aed-9a9d-42c2-cc2d-b492c9750e74"
      },
      "execution_count": 55,
      "outputs": [
        {
          "output_type": "display_data",
          "data": {
            "text/plain": [
              "Predicted             Neoplastic_Core  Neoplastic_Periphery  All\n",
              "True                                                            \n",
              "Neoplastic_Core                    77                     1   78\n",
              "Neoplastic_Periphery                0                    77   77\n",
              "All                                77                    78  155"
            ],
            "text/html": [
              "\n",
              "  <div id=\"df-2476d27f-1ec2-476f-b2a4-dcf11fb9af28\">\n",
              "    <div class=\"colab-df-container\">\n",
              "      <div>\n",
              "<style scoped>\n",
              "    .dataframe tbody tr th:only-of-type {\n",
              "        vertical-align: middle;\n",
              "    }\n",
              "\n",
              "    .dataframe tbody tr th {\n",
              "        vertical-align: top;\n",
              "    }\n",
              "\n",
              "    .dataframe thead th {\n",
              "        text-align: right;\n",
              "    }\n",
              "</style>\n",
              "<table border=\"1\" class=\"dataframe\">\n",
              "  <thead>\n",
              "    <tr style=\"text-align: right;\">\n",
              "      <th>Predicted</th>\n",
              "      <th>Neoplastic_Core</th>\n",
              "      <th>Neoplastic_Periphery</th>\n",
              "      <th>All</th>\n",
              "    </tr>\n",
              "    <tr>\n",
              "      <th>True</th>\n",
              "      <th></th>\n",
              "      <th></th>\n",
              "      <th></th>\n",
              "    </tr>\n",
              "  </thead>\n",
              "  <tbody>\n",
              "    <tr>\n",
              "      <th>Neoplastic_Core</th>\n",
              "      <td>77</td>\n",
              "      <td>1</td>\n",
              "      <td>78</td>\n",
              "    </tr>\n",
              "    <tr>\n",
              "      <th>Neoplastic_Periphery</th>\n",
              "      <td>0</td>\n",
              "      <td>77</td>\n",
              "      <td>77</td>\n",
              "    </tr>\n",
              "    <tr>\n",
              "      <th>All</th>\n",
              "      <td>77</td>\n",
              "      <td>78</td>\n",
              "      <td>155</td>\n",
              "    </tr>\n",
              "  </tbody>\n",
              "</table>\n",
              "</div>\n",
              "      <button class=\"colab-df-convert\" onclick=\"convertToInteractive('df-2476d27f-1ec2-476f-b2a4-dcf11fb9af28')\"\n",
              "              title=\"Convert this dataframe to an interactive table.\"\n",
              "              style=\"display:none;\">\n",
              "        \n",
              "  <svg xmlns=\"http://www.w3.org/2000/svg\" height=\"24px\"viewBox=\"0 0 24 24\"\n",
              "       width=\"24px\">\n",
              "    <path d=\"M0 0h24v24H0V0z\" fill=\"none\"/>\n",
              "    <path d=\"M18.56 5.44l.94 2.06.94-2.06 2.06-.94-2.06-.94-.94-2.06-.94 2.06-2.06.94zm-11 1L8.5 8.5l.94-2.06 2.06-.94-2.06-.94L8.5 2.5l-.94 2.06-2.06.94zm10 10l.94 2.06.94-2.06 2.06-.94-2.06-.94-.94-2.06-.94 2.06-2.06.94z\"/><path d=\"M17.41 7.96l-1.37-1.37c-.4-.4-.92-.59-1.43-.59-.52 0-1.04.2-1.43.59L10.3 9.45l-7.72 7.72c-.78.78-.78 2.05 0 2.83L4 21.41c.39.39.9.59 1.41.59.51 0 1.02-.2 1.41-.59l7.78-7.78 2.81-2.81c.8-.78.8-2.07 0-2.86zM5.41 20L4 18.59l7.72-7.72 1.47 1.35L5.41 20z\"/>\n",
              "  </svg>\n",
              "      </button>\n",
              "      \n",
              "  <style>\n",
              "    .colab-df-container {\n",
              "      display:flex;\n",
              "      flex-wrap:wrap;\n",
              "      gap: 12px;\n",
              "    }\n",
              "\n",
              "    .colab-df-convert {\n",
              "      background-color: #E8F0FE;\n",
              "      border: none;\n",
              "      border-radius: 50%;\n",
              "      cursor: pointer;\n",
              "      display: none;\n",
              "      fill: #1967D2;\n",
              "      height: 32px;\n",
              "      padding: 0 0 0 0;\n",
              "      width: 32px;\n",
              "    }\n",
              "\n",
              "    .colab-df-convert:hover {\n",
              "      background-color: #E2EBFA;\n",
              "      box-shadow: 0px 1px 2px rgba(60, 64, 67, 0.3), 0px 1px 3px 1px rgba(60, 64, 67, 0.15);\n",
              "      fill: #174EA6;\n",
              "    }\n",
              "\n",
              "    [theme=dark] .colab-df-convert {\n",
              "      background-color: #3B4455;\n",
              "      fill: #D2E3FC;\n",
              "    }\n",
              "\n",
              "    [theme=dark] .colab-df-convert:hover {\n",
              "      background-color: #434B5C;\n",
              "      box-shadow: 0px 1px 3px 1px rgba(0, 0, 0, 0.15);\n",
              "      filter: drop-shadow(0px 1px 2px rgba(0, 0, 0, 0.3));\n",
              "      fill: #FFFFFF;\n",
              "    }\n",
              "  </style>\n",
              "\n",
              "      <script>\n",
              "        const buttonEl =\n",
              "          document.querySelector('#df-2476d27f-1ec2-476f-b2a4-dcf11fb9af28 button.colab-df-convert');\n",
              "        buttonEl.style.display =\n",
              "          google.colab.kernel.accessAllowed ? 'block' : 'none';\n",
              "\n",
              "        async function convertToInteractive(key) {\n",
              "          const element = document.querySelector('#df-2476d27f-1ec2-476f-b2a4-dcf11fb9af28');\n",
              "          const dataTable =\n",
              "            await google.colab.kernel.invokeFunction('convertToInteractive',\n",
              "                                                     [key], {});\n",
              "          if (!dataTable) return;\n",
              "\n",
              "          const docLinkHtml = 'Like what you see? Visit the ' +\n",
              "            '<a target=\"_blank\" href=https://colab.research.google.com/notebooks/data_table.ipynb>data table notebook</a>'\n",
              "            + ' to learn more about interactive tables.';\n",
              "          element.innerHTML = '';\n",
              "          dataTable['output_type'] = 'display_data';\n",
              "          await google.colab.output.renderOutput(dataTable, element);\n",
              "          const docLink = document.createElement('div');\n",
              "          docLink.innerHTML = docLinkHtml;\n",
              "          element.appendChild(docLink);\n",
              "        }\n",
              "      </script>\n",
              "    </div>\n",
              "  </div>\n",
              "  "
            ]
          },
          "metadata": {}
        }
      ]
    },
    {
      "cell_type": "code",
      "source": [
        "#Confusion Matrix\n",
        "\n",
        "def show_confusion_matrix(model, X_test, y_test):\n",
        "    class_names = model.classes_\n",
        "    fig, ax = plt.subplots(figsize=(4, 4), dpi=100)\n",
        "    ax.grid = False\n",
        "    plt.rcParams.update({'font.size': 15})\n",
        "    disp = plot_confusion_matrix(model, X_test, y_test,\n",
        "                                 display_labels=class_names,\n",
        "                                 cmap=plt.cm.Greens,\n",
        "                                 normalize=None,\n",
        "                                 ax=ax)\n",
        "    tick_marks = np.arange(len(class_names))\n",
        "    plt.xticks(tick_marks, class_names, rotation=45, ha='right')\n",
        "    disp.ax_.set_title(f'Confusion Matrix\\n{model}', size=11, y=1.05)\n",
        "    ax.tick_params(axis='both', which='major', labelsize=10)\n",
        "    plt.show();\n",
        "\n",
        "show_confusion_matrix(tree_resample, X_test, y_test)"
      ],
      "metadata": {
        "colab": {
          "base_uri": "https://localhost:8080/",
          "height": 465
        },
        "id": "1Pmqh0793cXF",
        "outputId": "de40e59d-ce28-429e-9e22-1dd5bb95d4e9"
      },
      "execution_count": 75,
      "outputs": [
        {
          "output_type": "display_data",
          "data": {
            "text/plain": [
              "<Figure size 400x400 with 2 Axes>"
            ],
            "image/png": "[encoded data removed]"
          },
          "metadata": {
            "needs_background": "light"
          }
        }
      ]
    },
    {
      "cell_type": "code",
      "source": [
        "classes = [\"Neoplastic_Core\", \"Neoplastic_Periphery\"]\n",
        "model = tree_resample\n",
        "\n",
        "def CM_viz():    \n",
        "    def CM(model,classes):\n",
        "        visualizer = ConfusionMatrix(model, classes=classes, percent=True)\n",
        "        visualizer.fit(X_train, y_train)  # Fit the visualizer and the model\n",
        "        visualizer.score(X_test, y_test)  # Evaluate the model on the test data \n",
        "        return visualizer.poof()  \n",
        "    for name in classifiers:\n",
        "        ax = plt.subplot(1,1,1)\n",
        "        CM(name,classes)\n",
        "\n",
        "CM_viz()"
      ],
      "metadata": {
        "colab": {
          "base_uri": "https://localhost:8080/",
          "height": 287
        },
        "id": "AWjJjJQpc8Kj",
        "outputId": "dbcea8d4-fcc5-4367-a5b1-01368a4340b7"
      },
      "execution_count": 56,
      "outputs": [
        {
          "output_type": "display_data",
          "data": {
            "text/plain": [
              "<Figure size 432x288 with 1 Axes>"
            ],
            "image/png": "[encoded data removed]"
          },
          "metadata": {
            "needs_background": "light"
          }
        }
      ]
    },
    {
      "cell_type": "markdown",
      "source": [
        "### Parameter Optimization"
      ],
      "metadata": {
        "id": "AmyLkHNJngbw"
      }
    },
    {
      "cell_type": "code",
      "source": [
        "param_grid = { 'max_depth': range(7,12), 'min_samples_leaf': range(2,10), \n",
        "               'max_leaf_nodes': range(23,30)}\n",
        "gs_dt = GridSearchCV(DecisionTreeClassifier(), param_grid, cv=5, n_jobs=-1)\n",
        "\n",
        "gs_dt = gs_dt.fit(X_train, y_train)"
      ],
      "metadata": {
        "id": "FhwhQh8CnkRj"
      },
      "execution_count": 70,
      "outputs": []
    },
    {
      "cell_type": "code",
      "source": [
        "gs_dt.best_params_"
      ],
      "metadata": {
        "colab": {
          "base_uri": "https://localhost:8080/"
        },
        "id": "TDGrhnt3oIbG",
        "outputId": "6e9f1ce6-b9a9-4848-ac14-e7220db10e1e"
      },
      "execution_count": 71,
      "outputs": [
        {
          "output_type": "execute_result",
          "data": {
            "text/plain": [
              "{'max_depth': 8, 'max_leaf_nodes': 27, 'min_samples_leaf': 2}"
            ]
          },
          "metadata": {},
          "execution_count": 71
        }
      ]
    },
    {
      "cell_type": "code",
      "source": [
        "# Using best_params_\n",
        "tree_po = DecisionTreeClassifier(max_depth=8, min_samples_leaf=2, max_leaf_nodes=27).fit(X_train,y_train)\n",
        "y_pred_po = tree_po.predict(X_test)\n",
        "\n",
        "print(f'Model Accuracy: {tree_po.score(X_train, y_train)}')"
      ],
      "metadata": {
        "colab": {
          "base_uri": "https://localhost:8080/"
        },
        "id": "9F1eNKFuoJYE",
        "outputId": "6ebef62b-fc83-402e-95be-a871ecd6c242"
      },
      "execution_count": 72,
      "outputs": [
        {
          "output_type": "stream",
          "name": "stdout",
          "text": [
            "Model Accuracy: 0.9983792544570502\n"
          ]
        }
      ]
    },
    {
      "cell_type": "code",
      "source": [
        "#Prediction Accuracy Score:\n",
        "score_tree_po = accuracy_score(y_test, y_pred_po)*100\n",
        "print(\"Accuracy score: %0.3f\" % score_tree_po)"
      ],
      "metadata": {
        "colab": {
          "base_uri": "https://localhost:8080/"
        },
        "id": "jjghBdYgpGD-",
        "outputId": "cd4d1e90-77e9-4668-e15b-20d0a8c18b85"
      },
      "execution_count": 73,
      "outputs": [
        {
          "output_type": "stream",
          "name": "stdout",
          "text": [
            "Accuracy score: 98.710\n"
          ]
        }
      ]
    },
    {
      "cell_type": "code",
      "source": [
        "#Crosstab\n",
        "\n",
        "xtab_TREE=pd.crosstab(y_test, tree_po.predict(X_test), rownames=['True'], colnames=['Predicted'], margins=True)\n",
        "display(xtab_TREE)"
      ],
      "metadata": {
        "colab": {
          "base_uri": "https://localhost:8080/",
          "height": 174
        },
        "id": "SOEJ3dU7pmu5",
        "outputId": "961ba63f-ae77-45d5-d95e-1e1e160e510b"
      },
      "execution_count": 74,
      "outputs": [
        {
          "output_type": "display_data",
          "data": {
            "text/plain": [
              "Predicted             Neoplastic_Core  Neoplastic_Periphery  All\n",
              "True                                                            \n",
              "Neoplastic_Core                    78                     0   78\n",
              "Neoplastic_Periphery                2                    75   77\n",
              "All                                80                    75  155"
            ],
            "text/html": [
              "\n",
              "  <div id=\"df-4cfd1de4-033b-4dad-8481-0a5d050dae90\">\n",
              "    <div class=\"colab-df-container\">\n",
              "      <div>\n",
              "<style scoped>\n",
              "    .dataframe tbody tr th:only-of-type {\n",
              "        vertical-align: middle;\n",
              "    }\n",
              "\n",
              "    .dataframe tbody tr th {\n",
              "        vertical-align: top;\n",
              "    }\n",
              "\n",
              "    .dataframe thead th {\n",
              "        text-align: right;\n",
              "    }\n",
              "</style>\n",
              "<table border=\"1\" class=\"dataframe\">\n",
              "  <thead>\n",
              "    <tr style=\"text-align: right;\">\n",
              "      <th>Predicted</th>\n",
              "      <th>Neoplastic_Core</th>\n",
              "      <th>Neoplastic_Periphery</th>\n",
              "      <th>All</th>\n",
              "    </tr>\n",
              "    <tr>\n",
              "      <th>True</th>\n",
              "      <th></th>\n",
              "      <th></th>\n",
              "      <th></th>\n",
              "    </tr>\n",
              "  </thead>\n",
              "  <tbody>\n",
              "    <tr>\n",
              "      <th>Neoplastic_Core</th>\n",
              "      <td>78</td>\n",
              "      <td>0</td>\n",
              "      <td>78</td>\n",
              "    </tr>\n",
              "    <tr>\n",
              "      <th>Neoplastic_Periphery</th>\n",
              "      <td>2</td>\n",
              "      <td>75</td>\n",
              "      <td>77</td>\n",
              "    </tr>\n",
              "    <tr>\n",
              "      <th>All</th>\n",
              "      <td>80</td>\n",
              "      <td>75</td>\n",
              "      <td>155</td>\n",
              "    </tr>\n",
              "  </tbody>\n",
              "</table>\n",
              "</div>\n",
              "      <button class=\"colab-df-convert\" onclick=\"convertToInteractive('df-4cfd1de4-033b-4dad-8481-0a5d050dae90')\"\n",
              "              title=\"Convert this dataframe to an interactive table.\"\n",
              "              style=\"display:none;\">\n",
              "        \n",
              "  <svg xmlns=\"http://www.w3.org/2000/svg\" height=\"24px\"viewBox=\"0 0 24 24\"\n",
              "       width=\"24px\">\n",
              "    <path d=\"M0 0h24v24H0V0z\" fill=\"none\"/>\n",
              "    <path d=\"M18.56 5.44l.94 2.06.94-2.06 2.06-.94-2.06-.94-.94-2.06-.94 2.06-2.06.94zm-11 1L8.5 8.5l.94-2.06 2.06-.94-2.06-.94L8.5 2.5l-.94 2.06-2.06.94zm10 10l.94 2.06.94-2.06 2.06-.94-2.06-.94-.94-2.06-.94 2.06-2.06.94z\"/><path d=\"M17.41 7.96l-1.37-1.37c-.4-.4-.92-.59-1.43-.59-.52 0-1.04.2-1.43.59L10.3 9.45l-7.72 7.72c-.78.78-.78 2.05 0 2.83L4 21.41c.39.39.9.59 1.41.59.51 0 1.02-.2 1.41-.59l7.78-7.78 2.81-2.81c.8-.78.8-2.07 0-2.86zM5.41 20L4 18.59l7.72-7.72 1.47 1.35L5.41 20z\"/>\n",
              "  </svg>\n",
              "      </button>\n",
              "      \n",
              "  <style>\n",
              "    .colab-df-container {\n",
              "      display:flex;\n",
              "      flex-wrap:wrap;\n",
              "      gap: 12px;\n",
              "    }\n",
              "\n",
              "    .colab-df-convert {\n",
              "      background-color: #E8F0FE;\n",
              "      border: none;\n",
              "      border-radius: 50%;\n",
              "      cursor: pointer;\n",
              "      display: none;\n",
              "      fill: #1967D2;\n",
              "      height: 32px;\n",
              "      padding: 0 0 0 0;\n",
              "      width: 32px;\n",
              "    }\n",
              "\n",
              "    .colab-df-convert:hover {\n",
              "      background-color: #E2EBFA;\n",
              "      box-shadow: 0px 1px 2px rgba(60, 64, 67, 0.3), 0px 1px 3px 1px rgba(60, 64, 67, 0.15);\n",
              "      fill: #174EA6;\n",
              "    }\n",
              "\n",
              "    [theme=dark] .colab-df-convert {\n",
              "      background-color: #3B4455;\n",
              "      fill: #D2E3FC;\n",
              "    }\n",
              "\n",
              "    [theme=dark] .colab-df-convert:hover {\n",
              "      background-color: #434B5C;\n",
              "      box-shadow: 0px 1px 3px 1px rgba(0, 0, 0, 0.15);\n",
              "      filter: drop-shadow(0px 1px 2px rgba(0, 0, 0, 0.3));\n",
              "      fill: #FFFFFF;\n",
              "    }\n",
              "  </style>\n",
              "\n",
              "      <script>\n",
              "        const buttonEl =\n",
              "          document.querySelector('#df-4cfd1de4-033b-4dad-8481-0a5d050dae90 button.colab-df-convert');\n",
              "        buttonEl.style.display =\n",
              "          google.colab.kernel.accessAllowed ? 'block' : 'none';\n",
              "\n",
              "        async function convertToInteractive(key) {\n",
              "          const element = document.querySelector('#df-4cfd1de4-033b-4dad-8481-0a5d050dae90');\n",
              "          const dataTable =\n",
              "            await google.colab.kernel.invokeFunction('convertToInteractive',\n",
              "                                                     [key], {});\n",
              "          if (!dataTable) return;\n",
              "\n",
              "          const docLinkHtml = 'Like what you see? Visit the ' +\n",
              "            '<a target=\"_blank\" href=https://colab.research.google.com/notebooks/data_table.ipynb>data table notebook</a>'\n",
              "            + ' to learn more about interactive tables.';\n",
              "          element.innerHTML = '';\n",
              "          dataTable['output_type'] = 'display_data';\n",
              "          await google.colab.output.renderOutput(dataTable, element);\n",
              "          const docLink = document.createElement('div');\n",
              "          docLink.innerHTML = docLinkHtml;\n",
              "          element.appendChild(docLink);\n",
              "        }\n",
              "      </script>\n",
              "    </div>\n",
              "  </div>\n",
              "  "
            ]
          },
          "metadata": {}
        }
      ]
    },
    {
      "cell_type": "markdown",
      "source": [
        "# Summary\n",
        "\n",
        "The model begins with EDA. In the EDA phase, I discovered there are 16383 feature columns. I applied feature importance and feature selection to narrow it down to 287 feature columns. For this dataset, it's possible to check for high collinearity first before the feature selection process, but I don't think it's necessary given we will resample the data set later.\n",
        "\n",
        "The first decision tree model w/o resamples have 23 nodes with a maximum depth of 8 with an accuracy score of 87%. The score is good. The model is able to identify 72 true positives or at 94%, but the false positive is 7 or at 58%, which is not a low number. \n",
        "\n",
        "The Cohen Kappa Score is 0.378. The cks is a metric for evaluating multi-class classifiers on imbalanced datasets. Generally closer the score is to one, the better the classifier. In this case, 0.378 is on a mid-low end. MCC or Mathews Correlation Coefficient is 0.380, a coefficient of +1 represents a perfect prediction, 0 is similar to a random prediction and −1 indicates an inverse prediction. In this case, it's more of toward random prediction.\n",
        "\n",
        "The dataset has an imbalance problem, so I resample the data. After **data resample** and feature selection, the dataset is narrowed down to 978 features. I used {'max_depth': 7, 'max_leaf_nodes': 23, 'min_samples_leaf': 2} to the second model. The prediction accuracy score is higher at 99%. Also, the second model identified 77 true positive or at 99%. The false positive is 0 or at 0%. Cohen kappa score is 0.987 and MCC is .987, which is much better than the first model. \n",
        "\n",
        "Parameter optimization didn't improve the model. In my case, the parameters actually decreased the accuracy score. I think if you need to improve the model further, then I will have to take a lot more time to experiment with the parameters. \n",
        "\n",
        "My final thought is that resampling the data definitely help with the model accuracy. **However**, the model score seems **too good to be true**. This may be an **overfitting** issue after the data is resampled."
      ],
      "metadata": {
        "id": "3ridx4DI7mme"
      }
    }
  ]
}