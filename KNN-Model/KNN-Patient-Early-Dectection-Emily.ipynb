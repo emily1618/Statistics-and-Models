{
  "nbformat": 4,
  "nbformat_minor": 0,
  "metadata": {
    "colab": {
      "name": "EmilyTingLiang_Exam1.ipynb",
      "provenance": []
    },
    "kernelspec": {
      "name": "python3",
      "display_name": "Python 3"
    },
    "language_info": {
      "name": "python"
    }
  },
  "cells": [
    {
      "cell_type": "code",
      "execution_count": 150,
      "metadata": {
        "id": "USF5qsiw5S8E"
      },
      "outputs": [],
      "source": [
        "# Import libraries\n",
        "\n",
        "import pandas as pd\n",
        "import numpy as np\n",
        "import matplotlib.pyplot as plt\n",
        "from sklearn import model_selection\n",
        "from sklearn.metrics import classification_report, confusion_matrix, accuracy_score, precision_score, recall_score, f1_score\n",
        "from sklearn.neighbors import KNeighborsClassifier\n",
        "from sklearn.naive_bayes import GaussianNB\n",
        "import seaborn as sns\n"
      ]
    },
    {
      "cell_type": "markdown",
      "source": [
        "##Use the K-NN machine learning algorithm to Classify Single Cell RNA-seq in Glioblastoma patients using the Data_Glioblastoma5Patients_SC.csv database"
      ],
      "metadata": {
        "id": "d7zf49Y200j-"
      }
    },
    {
      "cell_type": "markdown",
      "source": [
        "###Exploratory Data Analysis"
      ],
      "metadata": {
        "id": "zZYDLh4g07qV"
      }
    },
    {
      "cell_type": "code",
      "source": [
        "df = pd.read_csv('/content/Data_Glioblastoma5Patients_SC.csv')\n",
        "df.head(5)"
      ],
      "metadata": {
        "colab": {
          "base_uri": "https://localhost:8080/",
          "height": 311
        },
        "id": "BwAW5DbF1Fu0",
        "outputId": "3886a665-5f28-4eda-a8d2-17ab3300584f"
      },
      "execution_count": 151,
      "outputs": [
        {
          "output_type": "execute_result",
          "data": {
            "text/html": [
              "\n",
              "  <div id=\"df-4b9eb09e-9aee-4e93-b572-8b791801cad4\">\n",
              "    <div class=\"colab-df-container\">\n",
              "      <div>\n",
              "<style scoped>\n",
              "    .dataframe tbody tr th:only-of-type {\n",
              "        vertical-align: middle;\n",
              "    }\n",
              "\n",
              "    .dataframe tbody tr th {\n",
              "        vertical-align: top;\n",
              "    }\n",
              "\n",
              "    .dataframe thead th {\n",
              "        text-align: right;\n",
              "    }\n",
              "</style>\n",
              "<table border=\"1\" class=\"dataframe\">\n",
              "  <thead>\n",
              "    <tr style=\"text-align: right;\">\n",
              "      <th></th>\n",
              "      <th>A2M</th>\n",
              "      <th>AAAS</th>\n",
              "      <th>AAK1</th>\n",
              "      <th>AAMP</th>\n",
              "      <th>AARS</th>\n",
              "      <th>AARSD1</th>\n",
              "      <th>AASDH</th>\n",
              "      <th>AASDHPPT</th>\n",
              "      <th>AASS</th>\n",
              "      <th>AATF</th>\n",
              "      <th>ABAT</th>\n",
              "      <th>ABCA1</th>\n",
              "      <th>ABCA8</th>\n",
              "      <th>ABCB6</th>\n",
              "      <th>ABCC3</th>\n",
              "      <th>ABCC5</th>\n",
              "      <th>ABCC9</th>\n",
              "      <th>ABCD2</th>\n",
              "      <th>ABCD3</th>\n",
              "      <th>ABCD4</th>\n",
              "      <th>ABCE1</th>\n",
              "      <th>ABCF2</th>\n",
              "      <th>ABCF3</th>\n",
              "      <th>ABHD2</th>\n",
              "      <th>ABHD4</th>\n",
              "      <th>ABHD5</th>\n",
              "      <th>ABHD14B</th>\n",
              "      <th>ABI1</th>\n",
              "      <th>ABI2</th>\n",
              "      <th>ABL2</th>\n",
              "      <th>ABLIM1</th>\n",
              "      <th>ABR</th>\n",
              "      <th>ABT1</th>\n",
              "      <th>ACAA2</th>\n",
              "      <th>ACACA</th>\n",
              "      <th>ACAD8</th>\n",
              "      <th>ACAD9</th>\n",
              "      <th>ACAD10</th>\n",
              "      <th>ACAD11</th>\n",
              "      <th>ACADM</th>\n",
              "      <th>...</th>\n",
              "      <th>ZNF770</th>\n",
              "      <th>ZNF772</th>\n",
              "      <th>ZNF773</th>\n",
              "      <th>ZNF776</th>\n",
              "      <th>ZNF780A</th>\n",
              "      <th>ZNF791</th>\n",
              "      <th>ZNF793</th>\n",
              "      <th>ZNF805</th>\n",
              "      <th>ZNF808</th>\n",
              "      <th>ZNF814</th>\n",
              "      <th>ZNF816</th>\n",
              "      <th>ZNF829</th>\n",
              "      <th>ZNF830</th>\n",
              "      <th>ZNF841</th>\n",
              "      <th>ZNF844</th>\n",
              "      <th>ZNF850</th>\n",
              "      <th>ZNF862</th>\n",
              "      <th>ZNF880</th>\n",
              "      <th>ZNF883</th>\n",
              "      <th>ZNFX1</th>\n",
              "      <th>ZNFX1-AS1</th>\n",
              "      <th>ZNHIT1</th>\n",
              "      <th>ZNHIT3</th>\n",
              "      <th>ZNHIT6</th>\n",
              "      <th>ZNRF2P1</th>\n",
              "      <th>ZRANB2</th>\n",
              "      <th>ZSCAN12</th>\n",
              "      <th>ZSCAN21</th>\n",
              "      <th>ZSCAN22</th>\n",
              "      <th>ZSCAN30</th>\n",
              "      <th>ZSWIM6</th>\n",
              "      <th>ZSWIM7</th>\n",
              "      <th>ZUFSP</th>\n",
              "      <th>ZW10</th>\n",
              "      <th>ZWILCH</th>\n",
              "      <th>ZXDC</th>\n",
              "      <th>ZYG11B</th>\n",
              "      <th>ZYX</th>\n",
              "      <th>ZZZ3</th>\n",
              "      <th>Classes</th>\n",
              "    </tr>\n",
              "  </thead>\n",
              "  <tbody>\n",
              "    <tr>\n",
              "      <th>0</th>\n",
              "      <td>-3.80147</td>\n",
              "      <td>-3.889900</td>\n",
              "      <td>-3.985616</td>\n",
              "      <td>2.651558</td>\n",
              "      <td>2.170748</td>\n",
              "      <td>-2.550822</td>\n",
              "      <td>4.807330</td>\n",
              "      <td>3.961170</td>\n",
              "      <td>-0.192665</td>\n",
              "      <td>3.614482</td>\n",
              "      <td>3.145744</td>\n",
              "      <td>-6.300596</td>\n",
              "      <td>-1.037896</td>\n",
              "      <td>-1.697449</td>\n",
              "      <td>0.281673</td>\n",
              "      <td>-3.483732</td>\n",
              "      <td>0.366422</td>\n",
              "      <td>-1.758436</td>\n",
              "      <td>2.328579</td>\n",
              "      <td>3.569519</td>\n",
              "      <td>3.058874</td>\n",
              "      <td>-5.020620</td>\n",
              "      <td>3.455095</td>\n",
              "      <td>5.360829</td>\n",
              "      <td>-3.132973</td>\n",
              "      <td>-1.776082</td>\n",
              "      <td>-1.114214</td>\n",
              "      <td>-3.618139</td>\n",
              "      <td>3.375385</td>\n",
              "      <td>-2.839989</td>\n",
              "      <td>4.980708</td>\n",
              "      <td>0.847203</td>\n",
              "      <td>-2.501893</td>\n",
              "      <td>4.321275</td>\n",
              "      <td>-2.578574</td>\n",
              "      <td>-3.251265</td>\n",
              "      <td>-0.977721</td>\n",
              "      <td>6.692785</td>\n",
              "      <td>4.391413</td>\n",
              "      <td>-4.407349</td>\n",
              "      <td>...</td>\n",
              "      <td>-1.928611</td>\n",
              "      <td>-2.381917</td>\n",
              "      <td>-2.019576</td>\n",
              "      <td>3.752837</td>\n",
              "      <td>-2.109785</td>\n",
              "      <td>-4.327689</td>\n",
              "      <td>-3.576037</td>\n",
              "      <td>-3.931553</td>\n",
              "      <td>4.193754</td>\n",
              "      <td>-3.781160</td>\n",
              "      <td>-0.768254</td>\n",
              "      <td>3.956435</td>\n",
              "      <td>4.698375</td>\n",
              "      <td>-2.078858</td>\n",
              "      <td>-1.157983</td>\n",
              "      <td>-0.635406</td>\n",
              "      <td>4.360770</td>\n",
              "      <td>-2.897545</td>\n",
              "      <td>4.623799</td>\n",
              "      <td>-0.338262</td>\n",
              "      <td>2.730227</td>\n",
              "      <td>1.403326</td>\n",
              "      <td>4.114219</td>\n",
              "      <td>1.242187</td>\n",
              "      <td>0.778259</td>\n",
              "      <td>2.314585</td>\n",
              "      <td>-1.866753</td>\n",
              "      <td>-2.658178</td>\n",
              "      <td>-1.404574</td>\n",
              "      <td>6.262256</td>\n",
              "      <td>2.909466</td>\n",
              "      <td>-3.118284</td>\n",
              "      <td>-1.538324</td>\n",
              "      <td>-1.550699</td>\n",
              "      <td>-1.558581</td>\n",
              "      <td>-1.920271</td>\n",
              "      <td>3.007439</td>\n",
              "      <td>-2.509017</td>\n",
              "      <td>-2.149696</td>\n",
              "      <td>Class1</td>\n",
              "    </tr>\n",
              "    <tr>\n",
              "      <th>1</th>\n",
              "      <td>-3.80147</td>\n",
              "      <td>-3.889900</td>\n",
              "      <td>-3.158708</td>\n",
              "      <td>2.358992</td>\n",
              "      <td>-6.041792</td>\n",
              "      <td>-0.056092</td>\n",
              "      <td>3.606735</td>\n",
              "      <td>-2.632250</td>\n",
              "      <td>2.249388</td>\n",
              "      <td>6.857517</td>\n",
              "      <td>3.001530</td>\n",
              "      <td>-6.300596</td>\n",
              "      <td>-2.643811</td>\n",
              "      <td>-1.697449</td>\n",
              "      <td>-0.594970</td>\n",
              "      <td>-3.483732</td>\n",
              "      <td>-0.715152</td>\n",
              "      <td>-1.758436</td>\n",
              "      <td>0.079525</td>\n",
              "      <td>-4.672306</td>\n",
              "      <td>1.550318</td>\n",
              "      <td>3.529797</td>\n",
              "      <td>4.299342</td>\n",
              "      <td>-3.464369</td>\n",
              "      <td>-3.132973</td>\n",
              "      <td>-2.924431</td>\n",
              "      <td>-1.114214</td>\n",
              "      <td>-3.618139</td>\n",
              "      <td>-5.499261</td>\n",
              "      <td>3.223832</td>\n",
              "      <td>4.941812</td>\n",
              "      <td>-1.369966</td>\n",
              "      <td>5.181664</td>\n",
              "      <td>-3.728585</td>\n",
              "      <td>-2.578574</td>\n",
              "      <td>-3.251265</td>\n",
              "      <td>5.960015</td>\n",
              "      <td>-2.396851</td>\n",
              "      <td>-1.828288</td>\n",
              "      <td>-4.407349</td>\n",
              "      <td>...</td>\n",
              "      <td>6.028423</td>\n",
              "      <td>-0.358707</td>\n",
              "      <td>0.657182</td>\n",
              "      <td>-3.322118</td>\n",
              "      <td>-1.289122</td>\n",
              "      <td>0.161218</td>\n",
              "      <td>-2.150750</td>\n",
              "      <td>4.697638</td>\n",
              "      <td>-1.785149</td>\n",
              "      <td>-5.108033</td>\n",
              "      <td>-1.916603</td>\n",
              "      <td>-3.182185</td>\n",
              "      <td>5.156035</td>\n",
              "      <td>-0.738333</td>\n",
              "      <td>-1.157983</td>\n",
              "      <td>-0.728041</td>\n",
              "      <td>5.667776</td>\n",
              "      <td>-2.897545</td>\n",
              "      <td>6.279306</td>\n",
              "      <td>-4.184515</td>\n",
              "      <td>2.242509</td>\n",
              "      <td>0.400572</td>\n",
              "      <td>-2.641480</td>\n",
              "      <td>-3.112942</td>\n",
              "      <td>0.676547</td>\n",
              "      <td>2.755091</td>\n",
              "      <td>-1.866753</td>\n",
              "      <td>3.983398</td>\n",
              "      <td>-0.390883</td>\n",
              "      <td>2.912340</td>\n",
              "      <td>-1.821098</td>\n",
              "      <td>-3.118284</td>\n",
              "      <td>-1.538324</td>\n",
              "      <td>-1.550699</td>\n",
              "      <td>-1.558581</td>\n",
              "      <td>-3.068620</td>\n",
              "      <td>2.539560</td>\n",
              "      <td>2.164481</td>\n",
              "      <td>-2.149696</td>\n",
              "      <td>Class1</td>\n",
              "    </tr>\n",
              "    <tr>\n",
              "      <th>2</th>\n",
              "      <td>-3.80147</td>\n",
              "      <td>-3.889900</td>\n",
              "      <td>1.733125</td>\n",
              "      <td>-5.820241</td>\n",
              "      <td>-6.041792</td>\n",
              "      <td>-0.576957</td>\n",
              "      <td>-2.473517</td>\n",
              "      <td>-4.354127</td>\n",
              "      <td>0.063178</td>\n",
              "      <td>-2.570976</td>\n",
              "      <td>-3.560386</td>\n",
              "      <td>-0.386836</td>\n",
              "      <td>-2.643811</td>\n",
              "      <td>-1.697449</td>\n",
              "      <td>-1.935495</td>\n",
              "      <td>-3.483732</td>\n",
              "      <td>2.782793</td>\n",
              "      <td>-1.758436</td>\n",
              "      <td>1.250684</td>\n",
              "      <td>-4.672306</td>\n",
              "      <td>-4.562244</td>\n",
              "      <td>-5.020620</td>\n",
              "      <td>-4.334143</td>\n",
              "      <td>-0.221083</td>\n",
              "      <td>-3.132973</td>\n",
              "      <td>-2.924431</td>\n",
              "      <td>-1.114214</td>\n",
              "      <td>-3.618139</td>\n",
              "      <td>-1.334237</td>\n",
              "      <td>-2.839989</td>\n",
              "      <td>-3.623272</td>\n",
              "      <td>-1.369966</td>\n",
              "      <td>-2.501893</td>\n",
              "      <td>-0.485300</td>\n",
              "      <td>0.664712</td>\n",
              "      <td>-3.251265</td>\n",
              "      <td>-2.757275</td>\n",
              "      <td>-2.396851</td>\n",
              "      <td>-4.498114</td>\n",
              "      <td>-4.407349</td>\n",
              "      <td>...</td>\n",
              "      <td>-1.928611</td>\n",
              "      <td>2.061042</td>\n",
              "      <td>-2.019576</td>\n",
              "      <td>-3.322118</td>\n",
              "      <td>3.585565</td>\n",
              "      <td>-4.327689</td>\n",
              "      <td>1.861836</td>\n",
              "      <td>-3.931553</td>\n",
              "      <td>-1.785149</td>\n",
              "      <td>-0.693441</td>\n",
              "      <td>1.450269</td>\n",
              "      <td>3.127840</td>\n",
              "      <td>-2.196566</td>\n",
              "      <td>-2.078858</td>\n",
              "      <td>-1.157983</td>\n",
              "      <td>3.323435</td>\n",
              "      <td>-1.724846</td>\n",
              "      <td>-2.897545</td>\n",
              "      <td>-2.195450</td>\n",
              "      <td>-4.184515</td>\n",
              "      <td>3.089869</td>\n",
              "      <td>2.628143</td>\n",
              "      <td>0.601805</td>\n",
              "      <td>0.130343</td>\n",
              "      <td>3.230425</td>\n",
              "      <td>-5.774478</td>\n",
              "      <td>-1.866753</td>\n",
              "      <td>-2.658178</td>\n",
              "      <td>3.027105</td>\n",
              "      <td>-2.593571</td>\n",
              "      <td>-1.821098</td>\n",
              "      <td>5.521892</td>\n",
              "      <td>-1.538324</td>\n",
              "      <td>-1.550699</td>\n",
              "      <td>-1.558581</td>\n",
              "      <td>0.174665</td>\n",
              "      <td>-0.165409</td>\n",
              "      <td>0.734268</td>\n",
              "      <td>-2.149696</td>\n",
              "      <td>Class1</td>\n",
              "    </tr>\n",
              "    <tr>\n",
              "      <th>3</th>\n",
              "      <td>-3.80147</td>\n",
              "      <td>-3.889900</td>\n",
              "      <td>-1.665669</td>\n",
              "      <td>3.514271</td>\n",
              "      <td>-6.041792</td>\n",
              "      <td>-3.699171</td>\n",
              "      <td>4.509461</td>\n",
              "      <td>-4.354127</td>\n",
              "      <td>2.985972</td>\n",
              "      <td>-2.570976</td>\n",
              "      <td>4.754989</td>\n",
              "      <td>3.339154</td>\n",
              "      <td>0.372788</td>\n",
              "      <td>-1.697449</td>\n",
              "      <td>-1.935495</td>\n",
              "      <td>6.003834</td>\n",
              "      <td>1.247451</td>\n",
              "      <td>-1.758436</td>\n",
              "      <td>6.053040</td>\n",
              "      <td>-4.672306</td>\n",
              "      <td>-1.456905</td>\n",
              "      <td>-5.020620</td>\n",
              "      <td>-4.334143</td>\n",
              "      <td>-3.464369</td>\n",
              "      <td>6.239284</td>\n",
              "      <td>-2.924431</td>\n",
              "      <td>-1.114214</td>\n",
              "      <td>-3.618139</td>\n",
              "      <td>-5.499261</td>\n",
              "      <td>0.793322</td>\n",
              "      <td>3.664330</td>\n",
              "      <td>6.421675</td>\n",
              "      <td>-2.501893</td>\n",
              "      <td>-3.728585</td>\n",
              "      <td>4.268041</td>\n",
              "      <td>-3.251265</td>\n",
              "      <td>-2.757275</td>\n",
              "      <td>-2.396851</td>\n",
              "      <td>3.255898</td>\n",
              "      <td>4.477037</td>\n",
              "      <td>...</td>\n",
              "      <td>-1.928611</td>\n",
              "      <td>-0.117984</td>\n",
              "      <td>-2.019576</td>\n",
              "      <td>-3.322118</td>\n",
              "      <td>0.154148</td>\n",
              "      <td>-4.327689</td>\n",
              "      <td>4.613435</td>\n",
              "      <td>2.755160</td>\n",
              "      <td>0.478784</td>\n",
              "      <td>-2.002694</td>\n",
              "      <td>0.828524</td>\n",
              "      <td>-0.851291</td>\n",
              "      <td>-2.196566</td>\n",
              "      <td>1.907614</td>\n",
              "      <td>-1.157983</td>\n",
              "      <td>0.190208</td>\n",
              "      <td>-1.724846</td>\n",
              "      <td>-2.897545</td>\n",
              "      <td>5.668627</td>\n",
              "      <td>-2.647718</td>\n",
              "      <td>2.391857</td>\n",
              "      <td>1.659745</td>\n",
              "      <td>6.321970</td>\n",
              "      <td>-3.112942</td>\n",
              "      <td>-3.496636</td>\n",
              "      <td>2.147303</td>\n",
              "      <td>-1.866753</td>\n",
              "      <td>-2.658178</td>\n",
              "      <td>-1.404574</td>\n",
              "      <td>4.453041</td>\n",
              "      <td>4.952176</td>\n",
              "      <td>-0.854351</td>\n",
              "      <td>-1.538324</td>\n",
              "      <td>-1.550699</td>\n",
              "      <td>-1.558581</td>\n",
              "      <td>-3.068620</td>\n",
              "      <td>-1.884744</td>\n",
              "      <td>-2.509017</td>\n",
              "      <td>-2.149696</td>\n",
              "      <td>Class1</td>\n",
              "    </tr>\n",
              "    <tr>\n",
              "      <th>4</th>\n",
              "      <td>-3.80147</td>\n",
              "      <td>3.742495</td>\n",
              "      <td>-2.166992</td>\n",
              "      <td>-5.820241</td>\n",
              "      <td>2.094729</td>\n",
              "      <td>4.021873</td>\n",
              "      <td>5.535007</td>\n",
              "      <td>4.019633</td>\n",
              "      <td>2.560370</td>\n",
              "      <td>-2.570976</td>\n",
              "      <td>3.886914</td>\n",
              "      <td>-6.300596</td>\n",
              "      <td>-2.643811</td>\n",
              "      <td>-1.697449</td>\n",
              "      <td>-0.101525</td>\n",
              "      <td>-3.483732</td>\n",
              "      <td>0.084368</td>\n",
              "      <td>-1.758436</td>\n",
              "      <td>1.755253</td>\n",
              "      <td>2.097724</td>\n",
              "      <td>0.889060</td>\n",
              "      <td>-5.020620</td>\n",
              "      <td>3.133797</td>\n",
              "      <td>-3.464369</td>\n",
              "      <td>-3.132973</td>\n",
              "      <td>5.370657</td>\n",
              "      <td>-1.114214</td>\n",
              "      <td>2.975292</td>\n",
              "      <td>-1.736449</td>\n",
              "      <td>2.296060</td>\n",
              "      <td>4.513249</td>\n",
              "      <td>-1.369966</td>\n",
              "      <td>-2.501893</td>\n",
              "      <td>3.975159</td>\n",
              "      <td>4.105857</td>\n",
              "      <td>-3.251265</td>\n",
              "      <td>1.005537</td>\n",
              "      <td>-2.396851</td>\n",
              "      <td>-1.632753</td>\n",
              "      <td>0.230220</td>\n",
              "      <td>...</td>\n",
              "      <td>-1.928611</td>\n",
              "      <td>-2.381917</td>\n",
              "      <td>-0.844891</td>\n",
              "      <td>2.009506</td>\n",
              "      <td>6.089802</td>\n",
              "      <td>2.807511</td>\n",
              "      <td>1.953149</td>\n",
              "      <td>3.526104</td>\n",
              "      <td>-1.785149</td>\n",
              "      <td>0.447621</td>\n",
              "      <td>-1.916603</td>\n",
              "      <td>4.701317</td>\n",
              "      <td>-2.196566</td>\n",
              "      <td>-2.078858</td>\n",
              "      <td>-1.157983</td>\n",
              "      <td>0.373227</td>\n",
              "      <td>2.912723</td>\n",
              "      <td>-2.897545</td>\n",
              "      <td>5.015173</td>\n",
              "      <td>-0.891431</td>\n",
              "      <td>3.482296</td>\n",
              "      <td>-3.692816</td>\n",
              "      <td>-2.641480</td>\n",
              "      <td>-1.938257</td>\n",
              "      <td>-1.930259</td>\n",
              "      <td>2.593803</td>\n",
              "      <td>3.814062</td>\n",
              "      <td>4.958867</td>\n",
              "      <td>3.621085</td>\n",
              "      <td>-2.593571</td>\n",
              "      <td>-1.821098</td>\n",
              "      <td>4.328808</td>\n",
              "      <td>-1.538324</td>\n",
              "      <td>7.021985</td>\n",
              "      <td>-1.558581</td>\n",
              "      <td>4.590946</td>\n",
              "      <td>-0.128456</td>\n",
              "      <td>-2.509017</td>\n",
              "      <td>-2.149696</td>\n",
              "      <td>Class1</td>\n",
              "    </tr>\n",
              "  </tbody>\n",
              "</table>\n",
              "<p>5 rows × 5949 columns</p>\n",
              "</div>\n",
              "      <button class=\"colab-df-convert\" onclick=\"convertToInteractive('df-4b9eb09e-9aee-4e93-b572-8b791801cad4')\"\n",
              "              title=\"Convert this dataframe to an interactive table.\"\n",
              "              style=\"display:none;\">\n",
              "        \n",
              "  <svg xmlns=\"http://www.w3.org/2000/svg\" height=\"24px\"viewBox=\"0 0 24 24\"\n",
              "       width=\"24px\">\n",
              "    <path d=\"M0 0h24v24H0V0z\" fill=\"none\"/>\n",
              "    <path d=\"M18.56 5.44l.94 2.06.94-2.06 2.06-.94-2.06-.94-.94-2.06-.94 2.06-2.06.94zm-11 1L8.5 8.5l.94-2.06 2.06-.94-2.06-.94L8.5 2.5l-.94 2.06-2.06.94zm10 10l.94 2.06.94-2.06 2.06-.94-2.06-.94-.94-2.06-.94 2.06-2.06.94z\"/><path d=\"M17.41 7.96l-1.37-1.37c-.4-.4-.92-.59-1.43-.59-.52 0-1.04.2-1.43.59L10.3 9.45l-7.72 7.72c-.78.78-.78 2.05 0 2.83L4 21.41c.39.39.9.59 1.41.59.51 0 1.02-.2 1.41-.59l7.78-7.78 2.81-2.81c.8-.78.8-2.07 0-2.86zM5.41 20L4 18.59l7.72-7.72 1.47 1.35L5.41 20z\"/>\n",
              "  </svg>\n",
              "      </button>\n",
              "      \n",
              "  <style>\n",
              "    .colab-df-container {\n",
              "      display:flex;\n",
              "      flex-wrap:wrap;\n",
              "      gap: 12px;\n",
              "    }\n",
              "\n",
              "    .colab-df-convert {\n",
              "      background-color: #E8F0FE;\n",
              "      border: none;\n",
              "      border-radius: 50%;\n",
              "      cursor: pointer;\n",
              "      display: none;\n",
              "      fill: #1967D2;\n",
              "      height: 32px;\n",
              "      padding: 0 0 0 0;\n",
              "      width: 32px;\n",
              "    }\n",
              "\n",
              "    .colab-df-convert:hover {\n",
              "      background-color: #E2EBFA;\n",
              "      box-shadow: 0px 1px 2px rgba(60, 64, 67, 0.3), 0px 1px 3px 1px rgba(60, 64, 67, 0.15);\n",
              "      fill: #174EA6;\n",
              "    }\n",
              "\n",
              "    [theme=dark] .colab-df-convert {\n",
              "      background-color: #3B4455;\n",
              "      fill: #D2E3FC;\n",
              "    }\n",
              "\n",
              "    [theme=dark] .colab-df-convert:hover {\n",
              "      background-color: #434B5C;\n",
              "      box-shadow: 0px 1px 3px 1px rgba(0, 0, 0, 0.15);\n",
              "      filter: drop-shadow(0px 1px 2px rgba(0, 0, 0, 0.3));\n",
              "      fill: #FFFFFF;\n",
              "    }\n",
              "  </style>\n",
              "\n",
              "      <script>\n",
              "        const buttonEl =\n",
              "          document.querySelector('#df-4b9eb09e-9aee-4e93-b572-8b791801cad4 button.colab-df-convert');\n",
              "        buttonEl.style.display =\n",
              "          google.colab.kernel.accessAllowed ? 'block' : 'none';\n",
              "\n",
              "        async function convertToInteractive(key) {\n",
              "          const element = document.querySelector('#df-4b9eb09e-9aee-4e93-b572-8b791801cad4');\n",
              "          const dataTable =\n",
              "            await google.colab.kernel.invokeFunction('convertToInteractive',\n",
              "                                                     [key], {});\n",
              "          if (!dataTable) return;\n",
              "\n",
              "          const docLinkHtml = 'Like what you see? Visit the ' +\n",
              "            '<a target=\"_blank\" href=https://colab.research.google.com/notebooks/data_table.ipynb>data table notebook</a>'\n",
              "            + ' to learn more about interactive tables.';\n",
              "          element.innerHTML = '';\n",
              "          dataTable['output_type'] = 'display_data';\n",
              "          await google.colab.output.renderOutput(dataTable, element);\n",
              "          const docLink = document.createElement('div');\n",
              "          docLink.innerHTML = docLinkHtml;\n",
              "          element.appendChild(docLink);\n",
              "        }\n",
              "      </script>\n",
              "    </div>\n",
              "  </div>\n",
              "  "
            ],
            "text/plain": [
              "       A2M      AAAS      AAK1      AAMP  ...    ZYG11B       ZYX      ZZZ3  Classes\n",
              "0 -3.80147 -3.889900 -3.985616  2.651558  ...  3.007439 -2.509017 -2.149696   Class1\n",
              "1 -3.80147 -3.889900 -3.158708  2.358992  ...  2.539560  2.164481 -2.149696   Class1\n",
              "2 -3.80147 -3.889900  1.733125 -5.820241  ... -0.165409  0.734268 -2.149696   Class1\n",
              "3 -3.80147 -3.889900 -1.665669  3.514271  ... -1.884744 -2.509017 -2.149696   Class1\n",
              "4 -3.80147  3.742495 -2.166992 -5.820241  ... -0.128456 -2.509017 -2.149696   Class1\n",
              "\n",
              "[5 rows x 5949 columns]"
            ]
          },
          "metadata": {},
          "execution_count": 151
        }
      ]
    },
    {
      "cell_type": "code",
      "source": [
        "df.shape"
      ],
      "metadata": {
        "colab": {
          "base_uri": "https://localhost:8080/"
        },
        "id": "FoNraXoS1g-d",
        "outputId": "f261fcc3-6068-49e4-b8f4-62a2e051804a"
      },
      "execution_count": 152,
      "outputs": [
        {
          "output_type": "execute_result",
          "data": {
            "text/plain": [
              "(430, 5949)"
            ]
          },
          "metadata": {},
          "execution_count": 152
        }
      ]
    },
    {
      "cell_type": "code",
      "source": [
        "df.describe()"
      ],
      "metadata": {
        "colab": {
          "base_uri": "https://localhost:8080/",
          "height": 386
        },
        "id": "CTSewp6B1lVf",
        "outputId": "931cc8dc-8396-4153-dd34-075d2fc7d328"
      },
      "execution_count": 153,
      "outputs": [
        {
          "output_type": "execute_result",
          "data": {
            "text/html": [
              "\n",
              "  <div id=\"df-c0c950d0-dbfc-4abb-8960-50d2015d8829\">\n",
              "    <div class=\"colab-df-container\">\n",
              "      <div>\n",
              "<style scoped>\n",
              "    .dataframe tbody tr th:only-of-type {\n",
              "        vertical-align: middle;\n",
              "    }\n",
              "\n",
              "    .dataframe tbody tr th {\n",
              "        vertical-align: top;\n",
              "    }\n",
              "\n",
              "    .dataframe thead th {\n",
              "        text-align: right;\n",
              "    }\n",
              "</style>\n",
              "<table border=\"1\" class=\"dataframe\">\n",
              "  <thead>\n",
              "    <tr style=\"text-align: right;\">\n",
              "      <th></th>\n",
              "      <th>A2M</th>\n",
              "      <th>AAAS</th>\n",
              "      <th>AAK1</th>\n",
              "      <th>AAMP</th>\n",
              "      <th>AARS</th>\n",
              "      <th>AARSD1</th>\n",
              "      <th>AASDH</th>\n",
              "      <th>AASDHPPT</th>\n",
              "      <th>AASS</th>\n",
              "      <th>AATF</th>\n",
              "      <th>ABAT</th>\n",
              "      <th>ABCA1</th>\n",
              "      <th>ABCA8</th>\n",
              "      <th>ABCB6</th>\n",
              "      <th>ABCC3</th>\n",
              "      <th>ABCC5</th>\n",
              "      <th>ABCC9</th>\n",
              "      <th>ABCD2</th>\n",
              "      <th>ABCD3</th>\n",
              "      <th>ABCD4</th>\n",
              "      <th>ABCE1</th>\n",
              "      <th>ABCF2</th>\n",
              "      <th>ABCF3</th>\n",
              "      <th>ABHD2</th>\n",
              "      <th>ABHD4</th>\n",
              "      <th>ABHD5</th>\n",
              "      <th>ABHD14B</th>\n",
              "      <th>ABI1</th>\n",
              "      <th>ABI2</th>\n",
              "      <th>ABL2</th>\n",
              "      <th>ABLIM1</th>\n",
              "      <th>ABR</th>\n",
              "      <th>ABT1</th>\n",
              "      <th>ACAA2</th>\n",
              "      <th>ACACA</th>\n",
              "      <th>ACAD8</th>\n",
              "      <th>ACAD9</th>\n",
              "      <th>ACAD10</th>\n",
              "      <th>ACAD11</th>\n",
              "      <th>ACADM</th>\n",
              "      <th>...</th>\n",
              "      <th>ZNF766</th>\n",
              "      <th>ZNF770</th>\n",
              "      <th>ZNF772</th>\n",
              "      <th>ZNF773</th>\n",
              "      <th>ZNF776</th>\n",
              "      <th>ZNF780A</th>\n",
              "      <th>ZNF791</th>\n",
              "      <th>ZNF793</th>\n",
              "      <th>ZNF805</th>\n",
              "      <th>ZNF808</th>\n",
              "      <th>ZNF814</th>\n",
              "      <th>ZNF816</th>\n",
              "      <th>ZNF829</th>\n",
              "      <th>ZNF830</th>\n",
              "      <th>ZNF841</th>\n",
              "      <th>ZNF844</th>\n",
              "      <th>ZNF850</th>\n",
              "      <th>ZNF862</th>\n",
              "      <th>ZNF880</th>\n",
              "      <th>ZNF883</th>\n",
              "      <th>ZNFX1</th>\n",
              "      <th>ZNFX1-AS1</th>\n",
              "      <th>ZNHIT1</th>\n",
              "      <th>ZNHIT3</th>\n",
              "      <th>ZNHIT6</th>\n",
              "      <th>ZNRF2P1</th>\n",
              "      <th>ZRANB2</th>\n",
              "      <th>ZSCAN12</th>\n",
              "      <th>ZSCAN21</th>\n",
              "      <th>ZSCAN22</th>\n",
              "      <th>ZSCAN30</th>\n",
              "      <th>ZSWIM6</th>\n",
              "      <th>ZSWIM7</th>\n",
              "      <th>ZUFSP</th>\n",
              "      <th>ZW10</th>\n",
              "      <th>ZWILCH</th>\n",
              "      <th>ZXDC</th>\n",
              "      <th>ZYG11B</th>\n",
              "      <th>ZYX</th>\n",
              "      <th>ZZZ3</th>\n",
              "    </tr>\n",
              "  </thead>\n",
              "  <tbody>\n",
              "    <tr>\n",
              "      <th>count</th>\n",
              "      <td>4.300000e+02</td>\n",
              "      <td>4.300000e+02</td>\n",
              "      <td>4.300000e+02</td>\n",
              "      <td>4.300000e+02</td>\n",
              "      <td>4.300000e+02</td>\n",
              "      <td>4.300000e+02</td>\n",
              "      <td>4.300000e+02</td>\n",
              "      <td>4.300000e+02</td>\n",
              "      <td>4.300000e+02</td>\n",
              "      <td>4.300000e+02</td>\n",
              "      <td>4.300000e+02</td>\n",
              "      <td>4.300000e+02</td>\n",
              "      <td>4.300000e+02</td>\n",
              "      <td>4.300000e+02</td>\n",
              "      <td>4.300000e+02</td>\n",
              "      <td>4.300000e+02</td>\n",
              "      <td>4.300000e+02</td>\n",
              "      <td>4.300000e+02</td>\n",
              "      <td>4.300000e+02</td>\n",
              "      <td>4.300000e+02</td>\n",
              "      <td>4.300000e+02</td>\n",
              "      <td>4.300000e+02</td>\n",
              "      <td>4.300000e+02</td>\n",
              "      <td>4.300000e+02</td>\n",
              "      <td>4.300000e+02</td>\n",
              "      <td>4.300000e+02</td>\n",
              "      <td>4.300000e+02</td>\n",
              "      <td>4.300000e+02</td>\n",
              "      <td>4.300000e+02</td>\n",
              "      <td>4.300000e+02</td>\n",
              "      <td>4.300000e+02</td>\n",
              "      <td>4.300000e+02</td>\n",
              "      <td>4.300000e+02</td>\n",
              "      <td>4.300000e+02</td>\n",
              "      <td>4.300000e+02</td>\n",
              "      <td>4.300000e+02</td>\n",
              "      <td>4.300000e+02</td>\n",
              "      <td>4.300000e+02</td>\n",
              "      <td>4.300000e+02</td>\n",
              "      <td>4.300000e+02</td>\n",
              "      <td>...</td>\n",
              "      <td>4.300000e+02</td>\n",
              "      <td>4.300000e+02</td>\n",
              "      <td>4.300000e+02</td>\n",
              "      <td>4.300000e+02</td>\n",
              "      <td>4.300000e+02</td>\n",
              "      <td>4.300000e+02</td>\n",
              "      <td>4.300000e+02</td>\n",
              "      <td>4.300000e+02</td>\n",
              "      <td>4.300000e+02</td>\n",
              "      <td>4.300000e+02</td>\n",
              "      <td>4.300000e+02</td>\n",
              "      <td>4.300000e+02</td>\n",
              "      <td>4.300000e+02</td>\n",
              "      <td>4.300000e+02</td>\n",
              "      <td>4.300000e+02</td>\n",
              "      <td>4.300000e+02</td>\n",
              "      <td>4.300000e+02</td>\n",
              "      <td>4.300000e+02</td>\n",
              "      <td>4.300000e+02</td>\n",
              "      <td>4.300000e+02</td>\n",
              "      <td>4.300000e+02</td>\n",
              "      <td>4.300000e+02</td>\n",
              "      <td>4.300000e+02</td>\n",
              "      <td>4.300000e+02</td>\n",
              "      <td>4.300000e+02</td>\n",
              "      <td>4.300000e+02</td>\n",
              "      <td>4.300000e+02</td>\n",
              "      <td>4.300000e+02</td>\n",
              "      <td>4.300000e+02</td>\n",
              "      <td>4.300000e+02</td>\n",
              "      <td>4.300000e+02</td>\n",
              "      <td>4.300000e+02</td>\n",
              "      <td>4.300000e+02</td>\n",
              "      <td>4.300000e+02</td>\n",
              "      <td>4.300000e+02</td>\n",
              "      <td>4.300000e+02</td>\n",
              "      <td>4.300000e+02</td>\n",
              "      <td>4.300000e+02</td>\n",
              "      <td>4.300000e+02</td>\n",
              "      <td>4.300000e+02</td>\n",
              "    </tr>\n",
              "    <tr>\n",
              "      <th>mean</th>\n",
              "      <td>-5.116023e-11</td>\n",
              "      <td>9.069777e-11</td>\n",
              "      <td>1.627909e-11</td>\n",
              "      <td>-7.674580e-11</td>\n",
              "      <td>-8.139630e-11</td>\n",
              "      <td>-1.302323e-10</td>\n",
              "      <td>-2.255812e-10</td>\n",
              "      <td>-2.325458e-12</td>\n",
              "      <td>5.814004e-11</td>\n",
              "      <td>-1.511620e-10</td>\n",
              "      <td>-3.488320e-11</td>\n",
              "      <td>1.860342e-11</td>\n",
              "      <td>1.674418e-10</td>\n",
              "      <td>-2.023262e-10</td>\n",
              "      <td>6.744171e-11</td>\n",
              "      <td>-9.301411e-12</td>\n",
              "      <td>-6.976503e-12</td>\n",
              "      <td>-2.883747e-10</td>\n",
              "      <td>-6.744201e-11</td>\n",
              "      <td>3.720785e-11</td>\n",
              "      <td>9.302017e-12</td>\n",
              "      <td>4.418528e-11</td>\n",
              "      <td>-1.744185e-10</td>\n",
              "      <td>-7.441861e-11</td>\n",
              "      <td>1.418628e-10</td>\n",
              "      <td>7.906920e-11</td>\n",
              "      <td>-8.139556e-11</td>\n",
              "      <td>2.557967e-11</td>\n",
              "      <td>5.813964e-11</td>\n",
              "      <td>-6.279053e-11</td>\n",
              "      <td>-4.186021e-11</td>\n",
              "      <td>-5.348874e-11</td>\n",
              "      <td>-6.976712e-11</td>\n",
              "      <td>1.976748e-10</td>\n",
              "      <td>-1.860465e-10</td>\n",
              "      <td>1.790696e-10</td>\n",
              "      <td>1.325574e-10</td>\n",
              "      <td>-4.883856e-11</td>\n",
              "      <td>1.279086e-10</td>\n",
              "      <td>-1.372088e-10</td>\n",
              "      <td>...</td>\n",
              "      <td>1.651165e-10</td>\n",
              "      <td>5.348865e-11</td>\n",
              "      <td>-8.139518e-11</td>\n",
              "      <td>1.302328e-10</td>\n",
              "      <td>-2.325079e-12</td>\n",
              "      <td>-9.767424e-11</td>\n",
              "      <td>-1.348836e-10</td>\n",
              "      <td>-2.790693e-11</td>\n",
              "      <td>7.906966e-11</td>\n",
              "      <td>1.697669e-10</td>\n",
              "      <td>-1.395334e-11</td>\n",
              "      <td>-7.441710e-11</td>\n",
              "      <td>4.186054e-11</td>\n",
              "      <td>-2.837203e-10</td>\n",
              "      <td>2.139541e-10</td>\n",
              "      <td>-4.116281e-10</td>\n",
              "      <td>-8.837188e-11</td>\n",
              "      <td>-8.372135e-11</td>\n",
              "      <td>2.302316e-10</td>\n",
              "      <td>-5.391036e-16</td>\n",
              "      <td>-2.558169e-11</td>\n",
              "      <td>-6.744137e-11</td>\n",
              "      <td>-5.116278e-11</td>\n",
              "      <td>-4.651060e-12</td>\n",
              "      <td>-1.093030e-10</td>\n",
              "      <td>4.883740e-11</td>\n",
              "      <td>-1.395355e-11</td>\n",
              "      <td>-1.279070e-10</td>\n",
              "      <td>1.186047e-10</td>\n",
              "      <td>-1.325577e-10</td>\n",
              "      <td>2.209304e-10</td>\n",
              "      <td>-1.906982e-10</td>\n",
              "      <td>-3.953487e-11</td>\n",
              "      <td>-4.418642e-11</td>\n",
              "      <td>-1.651165e-10</td>\n",
              "      <td>1.906968e-10</td>\n",
              "      <td>-1.348836e-10</td>\n",
              "      <td>3.255803e-11</td>\n",
              "      <td>-2.023251e-10</td>\n",
              "      <td>-1.604656e-10</td>\n",
              "    </tr>\n",
              "    <tr>\n",
              "      <th>std</th>\n",
              "      <td>4.907659e+00</td>\n",
              "      <td>3.641663e+00</td>\n",
              "      <td>2.474651e+00</td>\n",
              "      <td>3.563029e+00</td>\n",
              "      <td>3.909578e+00</td>\n",
              "      <td>3.317166e+00</td>\n",
              "      <td>2.883981e+00</td>\n",
              "      <td>3.759008e+00</td>\n",
              "      <td>3.236368e+00</td>\n",
              "      <td>3.461157e+00</td>\n",
              "      <td>3.354203e+00</td>\n",
              "      <td>3.564291e+00</td>\n",
              "      <td>3.265385e+00</td>\n",
              "      <td>2.776221e+00</td>\n",
              "      <td>2.712550e+00</td>\n",
              "      <td>3.575169e+00</td>\n",
              "      <td>1.708202e+00</td>\n",
              "      <td>3.057688e+00</td>\n",
              "      <td>3.518460e+00</td>\n",
              "      <td>3.420480e+00</td>\n",
              "      <td>3.587491e+00</td>\n",
              "      <td>3.865229e+00</td>\n",
              "      <td>3.635539e+00</td>\n",
              "      <td>3.281552e+00</td>\n",
              "      <td>3.904179e+00</td>\n",
              "      <td>3.430940e+00</td>\n",
              "      <td>2.537982e+00</td>\n",
              "      <td>3.580894e+00</td>\n",
              "      <td>3.381166e+00</td>\n",
              "      <td>2.652520e+00</td>\n",
              "      <td>3.542082e+00</td>\n",
              "      <td>2.692868e+00</td>\n",
              "      <td>3.404657e+00</td>\n",
              "      <td>3.553409e+00</td>\n",
              "      <td>2.884329e+00</td>\n",
              "      <td>3.626431e+00</td>\n",
              "      <td>3.354056e+00</td>\n",
              "      <td>3.208382e+00</td>\n",
              "      <td>3.619949e+00</td>\n",
              "      <td>3.483082e+00</td>\n",
              "      <td>...</td>\n",
              "      <td>3.439247e+00</td>\n",
              "      <td>2.768465e+00</td>\n",
              "      <td>2.626502e+00</td>\n",
              "      <td>2.960256e+00</td>\n",
              "      <td>3.555491e+00</td>\n",
              "      <td>2.368933e+00</td>\n",
              "      <td>3.792305e+00</td>\n",
              "      <td>2.418650e+00</td>\n",
              "      <td>3.067414e+00</td>\n",
              "      <td>2.645553e+00</td>\n",
              "      <td>2.616530e+00</td>\n",
              "      <td>2.600165e+00</td>\n",
              "      <td>2.824383e+00</td>\n",
              "      <td>3.028535e+00</td>\n",
              "      <td>2.762132e+00</td>\n",
              "      <td>2.677066e+00</td>\n",
              "      <td>2.184901e+00</td>\n",
              "      <td>2.770135e+00</td>\n",
              "      <td>3.240771e+00</td>\n",
              "      <td>3.155076e+00</td>\n",
              "      <td>3.714775e+00</td>\n",
              "      <td>2.445080e+00</td>\n",
              "      <td>2.497375e+00</td>\n",
              "      <td>3.039667e+00</td>\n",
              "      <td>3.308723e+00</td>\n",
              "      <td>2.120244e+00</td>\n",
              "      <td>2.731322e+00</td>\n",
              "      <td>2.923245e+00</td>\n",
              "      <td>3.491041e+00</td>\n",
              "      <td>2.479970e+00</td>\n",
              "      <td>3.227682e+00</td>\n",
              "      <td>2.730348e+00</td>\n",
              "      <td>2.946168e+00</td>\n",
              "      <td>2.702606e+00</td>\n",
              "      <td>2.836726e+00</td>\n",
              "      <td>2.788284e+00</td>\n",
              "      <td>2.859633e+00</td>\n",
              "      <td>2.811249e+00</td>\n",
              "      <td>3.001418e+00</td>\n",
              "      <td>3.052755e+00</td>\n",
              "    </tr>\n",
              "    <tr>\n",
              "      <th>min</th>\n",
              "      <td>-3.801470e+00</td>\n",
              "      <td>-3.889900e+00</td>\n",
              "      <td>-3.985616e+00</td>\n",
              "      <td>-5.820241e+00</td>\n",
              "      <td>-6.041792e+00</td>\n",
              "      <td>-3.699171e+00</td>\n",
              "      <td>-2.473517e+00</td>\n",
              "      <td>-4.354127e+00</td>\n",
              "      <td>-6.493931e+00</td>\n",
              "      <td>-2.570976e+00</td>\n",
              "      <td>-3.560386e+00</td>\n",
              "      <td>-6.300596e+00</td>\n",
              "      <td>-2.643811e+00</td>\n",
              "      <td>-1.697449e+00</td>\n",
              "      <td>-1.935495e+00</td>\n",
              "      <td>-3.483732e+00</td>\n",
              "      <td>-7.156193e+00</td>\n",
              "      <td>-1.758436e+00</td>\n",
              "      <td>-3.472243e+00</td>\n",
              "      <td>-4.672306e+00</td>\n",
              "      <td>-4.562244e+00</td>\n",
              "      <td>-5.020620e+00</td>\n",
              "      <td>-4.334143e+00</td>\n",
              "      <td>-3.464369e+00</td>\n",
              "      <td>-3.132973e+00</td>\n",
              "      <td>-2.924431e+00</td>\n",
              "      <td>-1.114214e+00</td>\n",
              "      <td>-3.618139e+00</td>\n",
              "      <td>-5.499261e+00</td>\n",
              "      <td>-2.839989e+00</td>\n",
              "      <td>-3.623272e+00</td>\n",
              "      <td>-1.369966e+00</td>\n",
              "      <td>-2.501893e+00</td>\n",
              "      <td>-3.728585e+00</td>\n",
              "      <td>-2.578574e+00</td>\n",
              "      <td>-3.251265e+00</td>\n",
              "      <td>-2.757275e+00</td>\n",
              "      <td>-2.396851e+00</td>\n",
              "      <td>-4.498114e+00</td>\n",
              "      <td>-4.407349e+00</td>\n",
              "      <td>...</td>\n",
              "      <td>-3.270118e+00</td>\n",
              "      <td>-1.928611e+00</td>\n",
              "      <td>-2.381917e+00</td>\n",
              "      <td>-2.019576e+00</td>\n",
              "      <td>-3.322118e+00</td>\n",
              "      <td>-2.109785e+00</td>\n",
              "      <td>-4.327689e+00</td>\n",
              "      <td>-3.576037e+00</td>\n",
              "      <td>-3.931553e+00</td>\n",
              "      <td>-1.785149e+00</td>\n",
              "      <td>-5.108033e+00</td>\n",
              "      <td>-1.916603e+00</td>\n",
              "      <td>-3.182185e+00</td>\n",
              "      <td>-2.196566e+00</td>\n",
              "      <td>-2.078858e+00</td>\n",
              "      <td>-1.157983e+00</td>\n",
              "      <td>-2.886153e+00</td>\n",
              "      <td>-1.724846e+00</td>\n",
              "      <td>-2.897545e+00</td>\n",
              "      <td>-2.195450e+00</td>\n",
              "      <td>-4.184515e+00</td>\n",
              "      <td>-3.467239e+00</td>\n",
              "      <td>-5.506289e+00</td>\n",
              "      <td>-2.641480e+00</td>\n",
              "      <td>-3.112942e+00</td>\n",
              "      <td>-3.496636e+00</td>\n",
              "      <td>-5.774478e+00</td>\n",
              "      <td>-1.866753e+00</td>\n",
              "      <td>-2.658178e+00</td>\n",
              "      <td>-1.404574e+00</td>\n",
              "      <td>-2.593571e+00</td>\n",
              "      <td>-1.821098e+00</td>\n",
              "      <td>-3.118284e+00</td>\n",
              "      <td>-1.538324e+00</td>\n",
              "      <td>-1.550699e+00</td>\n",
              "      <td>-1.558581e+00</td>\n",
              "      <td>-3.068620e+00</td>\n",
              "      <td>-3.421540e+00</td>\n",
              "      <td>-2.509017e+00</td>\n",
              "      <td>-2.149696e+00</td>\n",
              "    </tr>\n",
              "    <tr>\n",
              "      <th>25%</th>\n",
              "      <td>-3.801470e+00</td>\n",
              "      <td>-3.889900e+00</td>\n",
              "      <td>-1.871573e+00</td>\n",
              "      <td>-3.807913e+00</td>\n",
              "      <td>-4.560471e+00</td>\n",
              "      <td>-3.699171e+00</td>\n",
              "      <td>-2.473517e+00</td>\n",
              "      <td>-4.354127e+00</td>\n",
              "      <td>-1.967954e+00</td>\n",
              "      <td>-2.570976e+00</td>\n",
              "      <td>-3.560386e+00</td>\n",
              "      <td>-2.226853e+00</td>\n",
              "      <td>-2.643811e+00</td>\n",
              "      <td>-1.697449e+00</td>\n",
              "      <td>-1.935495e+00</td>\n",
              "      <td>-3.483732e+00</td>\n",
              "      <td>-1.071762e+00</td>\n",
              "      <td>-1.758436e+00</td>\n",
              "      <td>-3.472243e+00</td>\n",
              "      <td>-4.672306e+00</td>\n",
              "      <td>-4.562244e+00</td>\n",
              "      <td>-5.020620e+00</td>\n",
              "      <td>-4.334143e+00</td>\n",
              "      <td>-3.464369e+00</td>\n",
              "      <td>-3.132973e+00</td>\n",
              "      <td>-2.924431e+00</td>\n",
              "      <td>-1.114214e+00</td>\n",
              "      <td>-3.618139e+00</td>\n",
              "      <td>-3.121162e+00</td>\n",
              "      <td>-2.336699e+00</td>\n",
              "      <td>-3.623272e+00</td>\n",
              "      <td>-1.369966e+00</td>\n",
              "      <td>-2.501893e+00</td>\n",
              "      <td>-3.728585e+00</td>\n",
              "      <td>-2.578574e+00</td>\n",
              "      <td>-3.251265e+00</td>\n",
              "      <td>-2.757275e+00</td>\n",
              "      <td>-2.396851e+00</td>\n",
              "      <td>-4.498114e+00</td>\n",
              "      <td>-4.407349e+00</td>\n",
              "      <td>...</td>\n",
              "      <td>-3.270118e+00</td>\n",
              "      <td>-1.928611e+00</td>\n",
              "      <td>-2.381917e+00</td>\n",
              "      <td>-2.019576e+00</td>\n",
              "      <td>-3.322118e+00</td>\n",
              "      <td>-2.109785e+00</td>\n",
              "      <td>-4.327689e+00</td>\n",
              "      <td>-2.103524e+00</td>\n",
              "      <td>-2.891237e+00</td>\n",
              "      <td>-1.785149e+00</td>\n",
              "      <td>-1.840769e+00</td>\n",
              "      <td>-1.916603e+00</td>\n",
              "      <td>-2.360758e+00</td>\n",
              "      <td>-2.196566e+00</td>\n",
              "      <td>-2.078858e+00</td>\n",
              "      <td>-1.157983e+00</td>\n",
              "      <td>-1.526270e+00</td>\n",
              "      <td>-1.724846e+00</td>\n",
              "      <td>-2.897545e+00</td>\n",
              "      <td>-2.195450e+00</td>\n",
              "      <td>-4.184515e+00</td>\n",
              "      <td>-3.467239e+00</td>\n",
              "      <td>-1.087914e+00</td>\n",
              "      <td>-2.641480e+00</td>\n",
              "      <td>-3.112942e+00</td>\n",
              "      <td>-1.431480e+00</td>\n",
              "      <td>-8.712842e-01</td>\n",
              "      <td>-1.866753e+00</td>\n",
              "      <td>-2.658178e+00</td>\n",
              "      <td>-1.404574e+00</td>\n",
              "      <td>-2.593571e+00</td>\n",
              "      <td>-1.821098e+00</td>\n",
              "      <td>-3.118284e+00</td>\n",
              "      <td>-1.538324e+00</td>\n",
              "      <td>-1.550699e+00</td>\n",
              "      <td>-1.558581e+00</td>\n",
              "      <td>-3.068620e+00</td>\n",
              "      <td>-2.423300e+00</td>\n",
              "      <td>-2.509017e+00</td>\n",
              "      <td>-2.149696e+00</td>\n",
              "    </tr>\n",
              "    <tr>\n",
              "      <th>50%</th>\n",
              "      <td>-3.801470e+00</td>\n",
              "      <td>4.099148e-01</td>\n",
              "      <td>-3.150282e-01</td>\n",
              "      <td>1.746972e+00</td>\n",
              "      <td>1.776033e+00</td>\n",
              "      <td>1.097698e-01</td>\n",
              "      <td>-2.473517e+00</td>\n",
              "      <td>1.255356e+00</td>\n",
              "      <td>1.192040e+00</td>\n",
              "      <td>-2.570976e+00</td>\n",
              "      <td>2.737289e-01</td>\n",
              "      <td>1.364311e+00</td>\n",
              "      <td>-1.452149e+00</td>\n",
              "      <td>-1.697449e+00</td>\n",
              "      <td>-1.935495e+00</td>\n",
              "      <td>-1.151898e+00</td>\n",
              "      <td>-3.281307e-02</td>\n",
              "      <td>-1.758436e+00</td>\n",
              "      <td>-7.816723e-01</td>\n",
              "      <td>1.238262e+00</td>\n",
              "      <td>1.108935e+00</td>\n",
              "      <td>1.831023e+00</td>\n",
              "      <td>1.807775e+00</td>\n",
              "      <td>-5.685254e-01</td>\n",
              "      <td>-3.132973e+00</td>\n",
              "      <td>-2.924431e+00</td>\n",
              "      <td>-1.114214e+00</td>\n",
              "      <td>-3.290248e-01</td>\n",
              "      <td>1.157065e+00</td>\n",
              "      <td>-7.060948e-01</td>\n",
              "      <td>-1.095630e+00</td>\n",
              "      <td>-1.369966e+00</td>\n",
              "      <td>-2.501893e+00</td>\n",
              "      <td>-1.451783e-01</td>\n",
              "      <td>-1.044564e+00</td>\n",
              "      <td>-1.996801e+00</td>\n",
              "      <td>-2.757275e+00</td>\n",
              "      <td>-2.396851e+00</td>\n",
              "      <td>4.648821e-01</td>\n",
              "      <td>1.206441e+00</td>\n",
              "      <td>...</td>\n",
              "      <td>-1.493913e+00</td>\n",
              "      <td>-1.928611e+00</td>\n",
              "      <td>-7.788001e-01</td>\n",
              "      <td>-2.019576e+00</td>\n",
              "      <td>-1.632608e+00</td>\n",
              "      <td>-6.167154e-01</td>\n",
              "      <td>3.174140e-01</td>\n",
              "      <td>-2.140502e-01</td>\n",
              "      <td>-1.958644e-01</td>\n",
              "      <td>-1.785149e+00</td>\n",
              "      <td>4.639325e-01</td>\n",
              "      <td>-1.087041e+00</td>\n",
              "      <td>-7.724421e-01</td>\n",
              "      <td>-2.196566e+00</td>\n",
              "      <td>-1.327439e+00</td>\n",
              "      <td>-1.157983e+00</td>\n",
              "      <td>-3.457561e-01</td>\n",
              "      <td>-1.724846e+00</td>\n",
              "      <td>-2.897545e+00</td>\n",
              "      <td>-2.195450e+00</td>\n",
              "      <td>-3.582581e-01</td>\n",
              "      <td>6.635516e-01</td>\n",
              "      <td>8.713934e-01</td>\n",
              "      <td>-1.632964e+00</td>\n",
              "      <td>-1.270534e+00</td>\n",
              "      <td>-5.947859e-02</td>\n",
              "      <td>8.386570e-01</td>\n",
              "      <td>-1.866753e+00</td>\n",
              "      <td>-2.658178e+00</td>\n",
              "      <td>-1.404574e+00</td>\n",
              "      <td>-2.593571e+00</td>\n",
              "      <td>-1.821098e+00</td>\n",
              "      <td>-8.136609e-01</td>\n",
              "      <td>-1.538324e+00</td>\n",
              "      <td>-1.550699e+00</td>\n",
              "      <td>-1.558581e+00</td>\n",
              "      <td>-8.339072e-01</td>\n",
              "      <td>-4.421617e-01</td>\n",
              "      <td>-2.509017e+00</td>\n",
              "      <td>-2.149696e+00</td>\n",
              "    </tr>\n",
              "    <tr>\n",
              "      <th>75%</th>\n",
              "      <td>4.943281e+00</td>\n",
              "      <td>3.711243e+00</td>\n",
              "      <td>2.002047e+00</td>\n",
              "      <td>2.686033e+00</td>\n",
              "      <td>3.116038e+00</td>\n",
              "      <td>3.238343e+00</td>\n",
              "      <td>2.622538e+00</td>\n",
              "      <td>3.553135e+00</td>\n",
              "      <td>2.261182e+00</td>\n",
              "      <td>3.911515e+00</td>\n",
              "      <td>3.138182e+00</td>\n",
              "      <td>2.627491e+00</td>\n",
              "      <td>2.402072e+00</td>\n",
              "      <td>1.215958e+00</td>\n",
              "      <td>1.248298e+00</td>\n",
              "      <td>3.674900e+00</td>\n",
              "      <td>1.129867e+00</td>\n",
              "      <td>4.619770e-01</td>\n",
              "      <td>3.502821e+00</td>\n",
              "      <td>3.013921e+00</td>\n",
              "      <td>3.302642e+00</td>\n",
              "      <td>3.447153e+00</td>\n",
              "      <td>3.316247e+00</td>\n",
              "      <td>3.194371e+00</td>\n",
              "      <td>4.716845e+00</td>\n",
              "      <td>3.631974e+00</td>\n",
              "      <td>-1.114214e+00</td>\n",
              "      <td>3.669956e+00</td>\n",
              "      <td>2.873859e+00</td>\n",
              "      <td>2.199068e+00</td>\n",
              "      <td>3.567915e+00</td>\n",
              "      <td>-7.962909e-01</td>\n",
              "      <td>3.999924e+00</td>\n",
              "      <td>3.609222e+00</td>\n",
              "      <td>1.972441e+00</td>\n",
              "      <td>3.933600e+00</td>\n",
              "      <td>3.676989e+00</td>\n",
              "      <td>2.985610e+00</td>\n",
              "      <td>3.313485e+00</td>\n",
              "      <td>3.171518e+00</td>\n",
              "      <td>...</td>\n",
              "      <td>3.819186e+00</td>\n",
              "      <td>2.112741e+00</td>\n",
              "      <td>1.528424e+00</td>\n",
              "      <td>1.437557e+00</td>\n",
              "      <td>3.707699e+00</td>\n",
              "      <td>1.072286e+00</td>\n",
              "      <td>3.775493e+00</td>\n",
              "      <td>2.095984e+00</td>\n",
              "      <td>2.613286e+00</td>\n",
              "      <td>7.651512e-01</td>\n",
              "      <td>2.148907e+00</td>\n",
              "      <td>1.027796e+00</td>\n",
              "      <td>2.511250e+00</td>\n",
              "      <td>3.209327e+00</td>\n",
              "      <td>1.426949e+00</td>\n",
              "      <td>-1.157983e+00</td>\n",
              "      <td>1.216561e+00</td>\n",
              "      <td>1.523004e+00</td>\n",
              "      <td>3.396830e+00</td>\n",
              "      <td>3.472123e+00</td>\n",
              "      <td>3.933659e+00</td>\n",
              "      <td>1.905648e+00</td>\n",
              "      <td>1.684299e+00</td>\n",
              "      <td>3.162044e+00</td>\n",
              "      <td>3.301863e+00</td>\n",
              "      <td>1.558424e+00</td>\n",
              "      <td>1.839276e+00</td>\n",
              "      <td>2.247696e+00</td>\n",
              "      <td>3.819499e+00</td>\n",
              "      <td>3.865761e-01</td>\n",
              "      <td>3.196094e+00</td>\n",
              "      <td>2.038805e+00</td>\n",
              "      <td>2.848862e+00</td>\n",
              "      <td>8.320662e-01</td>\n",
              "      <td>-1.687454e-01</td>\n",
              "      <td>3.335339e-01</td>\n",
              "      <td>2.459752e+00</td>\n",
              "      <td>2.514619e+00</td>\n",
              "      <td>2.939355e+00</td>\n",
              "      <td>2.228821e+00</td>\n",
              "    </tr>\n",
              "    <tr>\n",
              "      <th>max</th>\n",
              "      <td>1.170195e+01</td>\n",
              "      <td>5.840230e+00</td>\n",
              "      <td>5.389576e+00</td>\n",
              "      <td>4.520579e+00</td>\n",
              "      <td>6.366184e+00</td>\n",
              "      <td>6.012985e+00</td>\n",
              "      <td>6.798128e+00</td>\n",
              "      <td>5.729251e+00</td>\n",
              "      <td>4.324112e+00</td>\n",
              "      <td>6.992394e+00</td>\n",
              "      <td>7.264756e+00</td>\n",
              "      <td>5.759265e+00</td>\n",
              "      <td>7.524726e+00</td>\n",
              "      <td>7.861214e+00</td>\n",
              "      <td>8.380167e+00</td>\n",
              "      <td>6.669318e+00</td>\n",
              "      <td>3.917399e+00</td>\n",
              "      <td>8.097529e+00</td>\n",
              "      <td>6.619662e+00</td>\n",
              "      <td>5.306925e+00</td>\n",
              "      <td>5.253220e+00</td>\n",
              "      <td>5.457300e+00</td>\n",
              "      <td>5.605007e+00</td>\n",
              "      <td>6.674830e+00</td>\n",
              "      <td>7.092285e+00</td>\n",
              "      <td>6.947620e+00</td>\n",
              "      <td>7.749475e+00</td>\n",
              "      <td>6.322902e+00</td>\n",
              "      <td>5.367744e+00</td>\n",
              "      <td>6.809911e+00</td>\n",
              "      <td>7.040810e+00</td>\n",
              "      <td>8.292127e+00</td>\n",
              "      <td>7.155640e+00</td>\n",
              "      <td>5.563418e+00</td>\n",
              "      <td>6.767021e+00</td>\n",
              "      <td>6.844734e+00</td>\n",
              "      <td>6.834989e+00</td>\n",
              "      <td>7.532468e+00</td>\n",
              "      <td>6.750867e+00</td>\n",
              "      <td>6.617733e+00</td>\n",
              "      <td>...</td>\n",
              "      <td>6.512118e+00</td>\n",
              "      <td>6.819432e+00</td>\n",
              "      <td>7.197989e+00</td>\n",
              "      <td>7.866381e+00</td>\n",
              "      <td>6.792776e+00</td>\n",
              "      <td>7.594146e+00</td>\n",
              "      <td>6.684196e+00</td>\n",
              "      <td>5.795179e+00</td>\n",
              "      <td>6.519014e+00</td>\n",
              "      <td>8.087492e+00</td>\n",
              "      <td>4.395618e+00</td>\n",
              "      <td>7.614091e+00</td>\n",
              "      <td>7.244874e+00</td>\n",
              "      <td>6.914544e+00</td>\n",
              "      <td>7.752021e+00</td>\n",
              "      <td>8.449117e+00</td>\n",
              "      <td>6.754099e+00</td>\n",
              "      <td>8.083799e+00</td>\n",
              "      <td>6.820190e+00</td>\n",
              "      <td>8.762759e+00</td>\n",
              "      <td>6.455884e+00</td>\n",
              "      <td>5.014026e+00</td>\n",
              "      <td>3.969816e+00</td>\n",
              "      <td>6.321970e+00</td>\n",
              "      <td>6.942310e+00</td>\n",
              "      <td>5.030174e+00</td>\n",
              "      <td>4.420184e+00</td>\n",
              "      <td>7.818139e+00</td>\n",
              "      <td>7.743538e+00</td>\n",
              "      <td>8.604231e+00</td>\n",
              "      <td>7.499714e+00</td>\n",
              "      <td>7.931653e+00</td>\n",
              "      <td>6.105923e+00</td>\n",
              "      <td>8.186486e+00</td>\n",
              "      <td>8.073628e+00</td>\n",
              "      <td>7.998381e+00</td>\n",
              "      <td>5.950488e+00</td>\n",
              "      <td>6.703674e+00</td>\n",
              "      <td>6.918941e+00</td>\n",
              "      <td>8.064823e+00</td>\n",
              "    </tr>\n",
              "  </tbody>\n",
              "</table>\n",
              "<p>8 rows × 5948 columns</p>\n",
              "</div>\n",
              "      <button class=\"colab-df-convert\" onclick=\"convertToInteractive('df-c0c950d0-dbfc-4abb-8960-50d2015d8829')\"\n",
              "              title=\"Convert this dataframe to an interactive table.\"\n",
              "              style=\"display:none;\">\n",
              "        \n",
              "  <svg xmlns=\"http://www.w3.org/2000/svg\" height=\"24px\"viewBox=\"0 0 24 24\"\n",
              "       width=\"24px\">\n",
              "    <path d=\"M0 0h24v24H0V0z\" fill=\"none\"/>\n",
              "    <path d=\"M18.56 5.44l.94 2.06.94-2.06 2.06-.94-2.06-.94-.94-2.06-.94 2.06-2.06.94zm-11 1L8.5 8.5l.94-2.06 2.06-.94-2.06-.94L8.5 2.5l-.94 2.06-2.06.94zm10 10l.94 2.06.94-2.06 2.06-.94-2.06-.94-.94-2.06-.94 2.06-2.06.94z\"/><path d=\"M17.41 7.96l-1.37-1.37c-.4-.4-.92-.59-1.43-.59-.52 0-1.04.2-1.43.59L10.3 9.45l-7.72 7.72c-.78.78-.78 2.05 0 2.83L4 21.41c.39.39.9.59 1.41.59.51 0 1.02-.2 1.41-.59l7.78-7.78 2.81-2.81c.8-.78.8-2.07 0-2.86zM5.41 20L4 18.59l7.72-7.72 1.47 1.35L5.41 20z\"/>\n",
              "  </svg>\n",
              "      </button>\n",
              "      \n",
              "  <style>\n",
              "    .colab-df-container {\n",
              "      display:flex;\n",
              "      flex-wrap:wrap;\n",
              "      gap: 12px;\n",
              "    }\n",
              "\n",
              "    .colab-df-convert {\n",
              "      background-color: #E8F0FE;\n",
              "      border: none;\n",
              "      border-radius: 50%;\n",
              "      cursor: pointer;\n",
              "      display: none;\n",
              "      fill: #1967D2;\n",
              "      height: 32px;\n",
              "      padding: 0 0 0 0;\n",
              "      width: 32px;\n",
              "    }\n",
              "\n",
              "    .colab-df-convert:hover {\n",
              "      background-color: #E2EBFA;\n",
              "      box-shadow: 0px 1px 2px rgba(60, 64, 67, 0.3), 0px 1px 3px 1px rgba(60, 64, 67, 0.15);\n",
              "      fill: #174EA6;\n",
              "    }\n",
              "\n",
              "    [theme=dark] .colab-df-convert {\n",
              "      background-color: #3B4455;\n",
              "      fill: #D2E3FC;\n",
              "    }\n",
              "\n",
              "    [theme=dark] .colab-df-convert:hover {\n",
              "      background-color: #434B5C;\n",
              "      box-shadow: 0px 1px 3px 1px rgba(0, 0, 0, 0.15);\n",
              "      filter: drop-shadow(0px 1px 2px rgba(0, 0, 0, 0.3));\n",
              "      fill: #FFFFFF;\n",
              "    }\n",
              "  </style>\n",
              "\n",
              "      <script>\n",
              "        const buttonEl =\n",
              "          document.querySelector('#df-c0c950d0-dbfc-4abb-8960-50d2015d8829 button.colab-df-convert');\n",
              "        buttonEl.style.display =\n",
              "          google.colab.kernel.accessAllowed ? 'block' : 'none';\n",
              "\n",
              "        async function convertToInteractive(key) {\n",
              "          const element = document.querySelector('#df-c0c950d0-dbfc-4abb-8960-50d2015d8829');\n",
              "          const dataTable =\n",
              "            await google.colab.kernel.invokeFunction('convertToInteractive',\n",
              "                                                     [key], {});\n",
              "          if (!dataTable) return;\n",
              "\n",
              "          const docLinkHtml = 'Like what you see? Visit the ' +\n",
              "            '<a target=\"_blank\" href=https://colab.research.google.com/notebooks/data_table.ipynb>data table notebook</a>'\n",
              "            + ' to learn more about interactive tables.';\n",
              "          element.innerHTML = '';\n",
              "          dataTable['output_type'] = 'display_data';\n",
              "          await google.colab.output.renderOutput(dataTable, element);\n",
              "          const docLink = document.createElement('div');\n",
              "          docLink.innerHTML = docLinkHtml;\n",
              "          element.appendChild(docLink);\n",
              "        }\n",
              "      </script>\n",
              "    </div>\n",
              "  </div>\n",
              "  "
            ],
            "text/plain": [
              "                A2M          AAAS  ...           ZYX          ZZZ3\n",
              "count  4.300000e+02  4.300000e+02  ...  4.300000e+02  4.300000e+02\n",
              "mean  -5.116023e-11  9.069777e-11  ... -2.023251e-10 -1.604656e-10\n",
              "std    4.907659e+00  3.641663e+00  ...  3.001418e+00  3.052755e+00\n",
              "min   -3.801470e+00 -3.889900e+00  ... -2.509017e+00 -2.149696e+00\n",
              "25%   -3.801470e+00 -3.889900e+00  ... -2.509017e+00 -2.149696e+00\n",
              "50%   -3.801470e+00  4.099148e-01  ... -2.509017e+00 -2.149696e+00\n",
              "75%    4.943281e+00  3.711243e+00  ...  2.939355e+00  2.228821e+00\n",
              "max    1.170195e+01  5.840230e+00  ...  6.918941e+00  8.064823e+00\n",
              "\n",
              "[8 rows x 5948 columns]"
            ]
          },
          "metadata": {},
          "execution_count": 153
        }
      ]
    },
    {
      "cell_type": "code",
      "source": [
        "df.dtypes"
      ],
      "metadata": {
        "colab": {
          "base_uri": "https://localhost:8080/"
        },
        "id": "1qA-vwfJ15L8",
        "outputId": "7c739c18-eded-40ea-a81c-088850d9a0a2"
      },
      "execution_count": 154,
      "outputs": [
        {
          "output_type": "execute_result",
          "data": {
            "text/plain": [
              "A2M        float64\n",
              "AAAS       float64\n",
              "AAK1       float64\n",
              "AAMP       float64\n",
              "AARS       float64\n",
              "            ...   \n",
              "ZXDC       float64\n",
              "ZYG11B     float64\n",
              "ZYX        float64\n",
              "ZZZ3       float64\n",
              "Classes     object\n",
              "Length: 5949, dtype: object"
            ]
          },
          "metadata": {},
          "execution_count": 154
        }
      ]
    },
    {
      "cell_type": "code",
      "source": [
        "df['Classes'].value_counts()"
      ],
      "metadata": {
        "colab": {
          "base_uri": "https://localhost:8080/"
        },
        "id": "bHLrlSbU16-3",
        "outputId": "6d4742db-0ceb-47db-f8c1-b1c946c95949"
      },
      "execution_count": 155,
      "outputs": [
        {
          "output_type": "execute_result",
          "data": {
            "text/plain": [
              "Class1    118\n",
              "Class2     94\n",
              "Class3     75\n",
              "Class4     73\n",
              "Class5     70\n",
              "Name: Classes, dtype: int64"
            ]
          },
          "metadata": {},
          "execution_count": 155
        }
      ]
    },
    {
      "cell_type": "code",
      "source": [
        "print(\"Rows, Columns:\",df.shape)\n",
        "Sector = df.groupby('Classes').size()\n",
        "labels = Sector.index.values\n",
        "sizes = Sector.values\n",
        "muestra = []\n",
        "for k in range(0,labels.size):\n",
        "  texto = labels[k]+': '+str(sizes[k])+' ({:,.2f} %)'.format((100*sizes[k]/sum(sizes)))\n",
        "  muestra.append(texto)\n",
        "colors = ['#E6B0AA','#D7BDE2','#A9CCE3','#A3E4D7','#F9E79F','#D5DBDB','#AEB6BF','#EDBB99','#5DADE2','#F4D03F','#27AE60']\n",
        "bbox_props = dict(boxstyle=\"square,pad=0.3\", fc=\"w\", ec=\"k\", lw=0.72)\n",
        "kw = dict(arrowprops=dict(arrowstyle=\"-\"),bbox=bbox_props, zorder=0, va=\"center\")\n",
        "fig,ax1 = plt.subplots(figsize=(18,9),ncols=1,nrows=1)\n",
        "wedges, texts = ax1.pie(sizes, shadow=True, colors=colors, startangle=90)\n",
        "ax1.axis('equal')  # Equal aspect ratio ensures that pie is drawn as a circle.\n",
        "\n",
        "for i, p in enumerate(wedges):\n",
        "    ang = (p.theta2 - p.theta1)/2. + p.theta1\n",
        "    y = np.sin(np.deg2rad(ang))\n",
        "    x = np.cos(np.deg2rad(ang))\n",
        "    horizontalalignment = {-1: \"right\", 1: \"left\"}[int(np.sign(x))]\n",
        "    connectionstyle = \"angle,angleA=0,angleB={}\".format(ang)\n",
        "    kw[\"arrowprops\"].update({\"connectionstyle\": connectionstyle})\n",
        "    ax1.annotate(muestra[i], xy=(x, y), xytext=(1.35*np.sign(x), 1.4*y),\n",
        "                horizontalalignment=horizontalalignment, **kw)\n",
        "plt.show()"
      ],
      "metadata": {
        "colab": {
          "base_uri": "https://localhost:8080/",
          "height": 601
        },
        "id": "ow1UgH6R33lp",
        "outputId": "d45a8874-561d-4c86-9674-e9e7fd2aa507"
      },
      "execution_count": 156,
      "outputs": [
        {
          "output_type": "stream",
          "name": "stdout",
          "text": [
            "Rows, Columns: (430, 5949)\n"
          ]
        },
        {
          "output_type": "display_data",
          "data": {
            "image/png": "[encoded data removed]",
            "text/plain": [
              "<Figure size 1296x648 with 1 Axes>"
            ]
          },
          "metadata": {}
        }
      ]
    },
    {
      "cell_type": "code",
      "source": [
        "# Check for null values\n",
        "\n",
        "df.isna().sum() "
      ],
      "metadata": {
        "colab": {
          "base_uri": "https://localhost:8080/"
        },
        "id": "47I54oxV2UAC",
        "outputId": "ed6d0b94-53eb-4b8a-be3b-5b6e7efa4846"
      },
      "execution_count": 157,
      "outputs": [
        {
          "output_type": "execute_result",
          "data": {
            "text/plain": [
              "A2M        0\n",
              "AAAS       0\n",
              "AAK1       0\n",
              "AAMP       0\n",
              "AARS       0\n",
              "          ..\n",
              "ZXDC       0\n",
              "ZYG11B     0\n",
              "ZYX        0\n",
              "ZZZ3       0\n",
              "Classes    0\n",
              "Length: 5949, dtype: int64"
            ]
          },
          "metadata": {},
          "execution_count": 157
        }
      ]
    },
    {
      "cell_type": "markdown",
      "source": [
        "**Create Train and Test Dataset**"
      ],
      "metadata": {
        "id": "BLngUs-u4QDk"
      }
    },
    {
      "cell_type": "code",
      "source": [
        "# Creating train and test data\n",
        "\n",
        "X = df.drop(['Classes'], axis=1)\n",
        "y = df['Classes']"
      ],
      "metadata": {
        "id": "_AEpU_48bC53"
      },
      "execution_count": 158,
      "outputs": []
    },
    {
      "cell_type": "code",
      "execution_count": 159,
      "metadata": {
        "id": "P6InA7xB0Vq2",
        "outputId": "dada6c90-c0e6-414f-d17c-613f9a526c39",
        "colab": {
          "base_uri": "https://localhost:8080/"
        }
      },
      "outputs": [
        {
          "output_type": "stream",
          "name": "stdout",
          "text": [
            "(344, 5948)\n",
            "(344,)\n",
            "(86, 5948)\n",
            "(86,)\n"
          ]
        }
      ],
      "source": [
        "# Splitting the dataset to Train and test\n",
        "from sklearn.model_selection import train_test_split\n",
        "X_train, X_test, y_train, y_test = train_test_split(X, y, test_size= 0.2, random_state= 42)\n",
        "\n",
        "#to know the shape of the train and test dataset.\n",
        "print(X_train.shape)\n",
        "print(y_train.shape)\n",
        "print(X_test.shape)\n",
        "print(y_test.shape)\n"
      ]
    },
    {
      "cell_type": "markdown",
      "source": [
        "###The ML technique required and the performance evaluation with and without parameter optimization\n",
        "\n",
        "**Remove Collinear Variables**"
      ],
      "metadata": {
        "id": "eql7h9Zd4JjQ"
      }
    },
    {
      "cell_type": "code",
      "source": [
        "# Threshold for removing highly correlated variables with Pearson correlation coefficient being greater than 0.9.\n",
        "threshold = 0.90\n",
        "\n",
        "corr_matrix =pd.DataFrame(X_train).corr(method='pearson').abs()\n",
        "\n",
        "upper = corr_matrix.where(np.triu(np.ones(corr_matrix.shape), k=1).astype(np.bool))\n",
        "\n",
        "to_drop = [column for column in upper.columns if any(upper[column] > threshold)]\n",
        "\n",
        "print('There are %d columns to remove.' % (len(to_drop)))"
      ],
      "metadata": {
        "colab": {
          "base_uri": "https://localhost:8080/"
        },
        "id": "hE2lJUMIHKJF",
        "outputId": "655d5663-87a8-4f18-e0fe-ccc82ac0a994"
      },
      "execution_count": 160,
      "outputs": [
        {
          "output_type": "stream",
          "name": "stderr",
          "text": [
            "/usr/local/lib/python3.7/dist-packages/ipykernel_launcher.py:6: DeprecationWarning: `np.bool` is a deprecated alias for the builtin `bool`. To silence this warning, use `bool` by itself. Doing this will not modify any behavior and is safe. If you specifically wanted the numpy scalar type, use `np.bool_` here.\n",
            "Deprecated in NumPy 1.20; for more details and guidance: https://numpy.org/devdocs/release/1.20.0-notes.html#deprecations\n",
            "  \n"
          ]
        },
        {
          "output_type": "stream",
          "name": "stdout",
          "text": [
            "There are 13 columns to remove.\n"
          ]
        }
      ]
    },
    {
      "cell_type": "code",
      "source": [
        "# Removing 13 columns with high correlation\n",
        "\n",
        "print(to_drop)"
      ],
      "metadata": {
        "colab": {
          "base_uri": "https://localhost:8080/"
        },
        "id": "k0mCARfC5MkZ",
        "outputId": "a4fe55d4-35d3-43c0-bc19-3e986f10f9a2"
      },
      "execution_count": 161,
      "outputs": [
        {
          "output_type": "stream",
          "name": "stdout",
          "text": [
            "['ADAMTSL3', 'ATP9B', 'C12orf55', 'HSPA1L', 'KIAA1328', 'LINC00504', 'MIPOL1', 'MORC4', 'RHOT1P3', 'SHISA9', 'TBC1D8B', 'TMEM45A', 'TMEM212']\n"
          ]
        }
      ]
    },
    {
      "cell_type": "code",
      "source": [
        "X_train = X_train.drop(['ADAMTSL3', 'ATP9B', 'C12orf55', 'HSPA1L', 'KIAA1328', 'LINC00504', 'MIPOL1', 'MORC4', 'RHOT1P3', 'SHISA9', 'TBC1D8B', 'TMEM45A', 'TMEM212'], axis=1)"
      ],
      "metadata": {
        "id": "_qyMqhLu_ysb"
      },
      "execution_count": 162,
      "outputs": []
    },
    {
      "cell_type": "code",
      "source": [
        "X_test = X_test.drop(['ADAMTSL3', 'ATP9B', 'C12orf55', 'HSPA1L', 'KIAA1328', 'LINC00504', 'MIPOL1', 'MORC4', 'RHOT1P3', 'SHISA9', 'TBC1D8B', 'TMEM45A', 'TMEM212'], axis=1)"
      ],
      "metadata": {
        "id": "30EPD5BBARRW"
      },
      "execution_count": 163,
      "outputs": []
    },
    {
      "cell_type": "code",
      "source": [
        "print('Training shape: ', X_train.shape)\n",
        "print('Testing shape: ', X_test.shape)"
      ],
      "metadata": {
        "colab": {
          "base_uri": "https://localhost:8080/"
        },
        "id": "6LmuLjBwAlUW",
        "outputId": "ed23a87c-3b8f-4496-8d68-f7fc077d75cd"
      },
      "execution_count": 164,
      "outputs": [
        {
          "output_type": "stream",
          "name": "stdout",
          "text": [
            "Training shape:  (344, 5935)\n",
            "Testing shape:  (86, 5935)\n"
          ]
        }
      ]
    },
    {
      "cell_type": "code",
      "source": [
        "print('Labels Training shape: ', y_train.shape)\n",
        "print('Labels Testing shape: ', y_test.shape)"
      ],
      "metadata": {
        "colab": {
          "base_uri": "https://localhost:8080/"
        },
        "id": "-iGMiRWAAmUM",
        "outputId": "b2e8c408-e793-4f90-9fad-07ab64a65355"
      },
      "execution_count": 165,
      "outputs": [
        {
          "output_type": "stream",
          "name": "stdout",
          "text": [
            "Labels Training shape:  (344,)\n",
            "Labels Testing shape:  (86,)\n"
          ]
        }
      ]
    },
    {
      "cell_type": "markdown",
      "source": [
        "**Feature Selection**"
      ],
      "metadata": {
        "id": "xze4E7ThA42G"
      }
    },
    {
      "cell_type": "code",
      "source": [
        "import lightgbm as lgb\n",
        "\n",
        "feature_importances = np.zeros(X_train.shape[1])\n",
        "\n",
        "model = lgb.LGBMClassifier(objective='multiclass', boosting_type = 'goss', n_estimators = 10000, class_weight = 'balanced')"
      ],
      "metadata": {
        "id": "UyizUtVfA2fS"
      },
      "execution_count": 166,
      "outputs": []
    },
    {
      "cell_type": "code",
      "source": [
        "# Train using early stopping\n",
        "model.fit(X_train, y_train, early_stopping_rounds=100, eval_set = [(X_test, y_test)], eval_metric = 'multi_logloss', verbose = 200)\n",
        "    \n",
        "# Record the feature importances\n",
        "feature_importances += model.feature_importances_"
      ],
      "metadata": {
        "colab": {
          "base_uri": "https://localhost:8080/"
        },
        "id": "2SCSdeMjBTfU",
        "outputId": "8058db83-ba42-4c7c-f21e-466aa8f1caa9"
      },
      "execution_count": 167,
      "outputs": [
        {
          "output_type": "stream",
          "name": "stdout",
          "text": [
            "Training until validation scores don't improve for 100 rounds.\n",
            "[200]\tvalid_0's multi_logloss: 0.134496\tvalid_0's multi_logloss: 0.134496\n",
            "Early stopping, best iteration is:\n",
            "[120]\tvalid_0's multi_logloss: 0.11732\tvalid_0's multi_logloss: 0.11732\n"
          ]
        }
      ]
    },
    {
      "cell_type": "code",
      "source": [
        "feature_importances = feature_importances / 2\n",
        "feature_importances = pd.DataFrame({'feature': list(X_train.columns), 'importance': feature_importances}).sort_values('importance', ascending = False)\n",
        "feature_importances.head(10)"
      ],
      "metadata": {
        "colab": {
          "base_uri": "https://localhost:8080/",
          "height": 355
        },
        "id": "F9JxiWWwBdiw",
        "outputId": "cfe91e77-cb9d-45a2-e41a-dee216da336f"
      },
      "execution_count": 170,
      "outputs": [
        {
          "output_type": "execute_result",
          "data": {
            "text/html": [
              "\n",
              "  <div id=\"df-4bfd83d1-4515-40af-8edc-9cee8ab91643\">\n",
              "    <div class=\"colab-df-container\">\n",
              "      <div>\n",
              "<style scoped>\n",
              "    .dataframe tbody tr th:only-of-type {\n",
              "        vertical-align: middle;\n",
              "    }\n",
              "\n",
              "    .dataframe tbody tr th {\n",
              "        vertical-align: top;\n",
              "    }\n",
              "\n",
              "    .dataframe thead th {\n",
              "        text-align: right;\n",
              "    }\n",
              "</style>\n",
              "<table border=\"1\" class=\"dataframe\">\n",
              "  <thead>\n",
              "    <tr style=\"text-align: right;\">\n",
              "      <th></th>\n",
              "      <th>feature</th>\n",
              "      <th>importance</th>\n",
              "    </tr>\n",
              "  </thead>\n",
              "  <tbody>\n",
              "    <tr>\n",
              "      <th>4410</th>\n",
              "      <td>SEC61G</td>\n",
              "      <td>40.5</td>\n",
              "    </tr>\n",
              "    <tr>\n",
              "      <th>1812</th>\n",
              "      <td>FIGNL1</td>\n",
              "      <td>17.0</td>\n",
              "    </tr>\n",
              "    <tr>\n",
              "      <th>4255</th>\n",
              "      <td>RPS4Y1</td>\n",
              "      <td>16.0</td>\n",
              "    </tr>\n",
              "    <tr>\n",
              "      <th>4676</th>\n",
              "      <td>SNRPN</td>\n",
              "      <td>15.0</td>\n",
              "    </tr>\n",
              "    <tr>\n",
              "      <th>379</th>\n",
              "      <td>ATP1A2</td>\n",
              "      <td>14.0</td>\n",
              "    </tr>\n",
              "    <tr>\n",
              "      <th>2193</th>\n",
              "      <td>HLA-A</td>\n",
              "      <td>13.5</td>\n",
              "    </tr>\n",
              "    <tr>\n",
              "      <th>3221</th>\n",
              "      <td>NGFRAP1</td>\n",
              "      <td>10.5</td>\n",
              "    </tr>\n",
              "    <tr>\n",
              "      <th>392</th>\n",
              "      <td>ATP5G3</td>\n",
              "      <td>9.5</td>\n",
              "    </tr>\n",
              "    <tr>\n",
              "      <th>731</th>\n",
              "      <td>CADPS</td>\n",
              "      <td>8.5</td>\n",
              "    </tr>\n",
              "    <tr>\n",
              "      <th>4972</th>\n",
              "      <td>TF</td>\n",
              "      <td>8.5</td>\n",
              "    </tr>\n",
              "  </tbody>\n",
              "</table>\n",
              "</div>\n",
              "      <button class=\"colab-df-convert\" onclick=\"convertToInteractive('df-4bfd83d1-4515-40af-8edc-9cee8ab91643')\"\n",
              "              title=\"Convert this dataframe to an interactive table.\"\n",
              "              style=\"display:none;\">\n",
              "        \n",
              "  <svg xmlns=\"http://www.w3.org/2000/svg\" height=\"24px\"viewBox=\"0 0 24 24\"\n",
              "       width=\"24px\">\n",
              "    <path d=\"M0 0h24v24H0V0z\" fill=\"none\"/>\n",
              "    <path d=\"M18.56 5.44l.94 2.06.94-2.06 2.06-.94-2.06-.94-.94-2.06-.94 2.06-2.06.94zm-11 1L8.5 8.5l.94-2.06 2.06-.94-2.06-.94L8.5 2.5l-.94 2.06-2.06.94zm10 10l.94 2.06.94-2.06 2.06-.94-2.06-.94-.94-2.06-.94 2.06-2.06.94z\"/><path d=\"M17.41 7.96l-1.37-1.37c-.4-.4-.92-.59-1.43-.59-.52 0-1.04.2-1.43.59L10.3 9.45l-7.72 7.72c-.78.78-.78 2.05 0 2.83L4 21.41c.39.39.9.59 1.41.59.51 0 1.02-.2 1.41-.59l7.78-7.78 2.81-2.81c.8-.78.8-2.07 0-2.86zM5.41 20L4 18.59l7.72-7.72 1.47 1.35L5.41 20z\"/>\n",
              "  </svg>\n",
              "      </button>\n",
              "      \n",
              "  <style>\n",
              "    .colab-df-container {\n",
              "      display:flex;\n",
              "      flex-wrap:wrap;\n",
              "      gap: 12px;\n",
              "    }\n",
              "\n",
              "    .colab-df-convert {\n",
              "      background-color: #E8F0FE;\n",
              "      border: none;\n",
              "      border-radius: 50%;\n",
              "      cursor: pointer;\n",
              "      display: none;\n",
              "      fill: #1967D2;\n",
              "      height: 32px;\n",
              "      padding: 0 0 0 0;\n",
              "      width: 32px;\n",
              "    }\n",
              "\n",
              "    .colab-df-convert:hover {\n",
              "      background-color: #E2EBFA;\n",
              "      box-shadow: 0px 1px 2px rgba(60, 64, 67, 0.3), 0px 1px 3px 1px rgba(60, 64, 67, 0.15);\n",
              "      fill: #174EA6;\n",
              "    }\n",
              "\n",
              "    [theme=dark] .colab-df-convert {\n",
              "      background-color: #3B4455;\n",
              "      fill: #D2E3FC;\n",
              "    }\n",
              "\n",
              "    [theme=dark] .colab-df-convert:hover {\n",
              "      background-color: #434B5C;\n",
              "      box-shadow: 0px 1px 3px 1px rgba(0, 0, 0, 0.15);\n",
              "      filter: drop-shadow(0px 1px 2px rgba(0, 0, 0, 0.3));\n",
              "      fill: #FFFFFF;\n",
              "    }\n",
              "  </style>\n",
              "\n",
              "      <script>\n",
              "        const buttonEl =\n",
              "          document.querySelector('#df-4bfd83d1-4515-40af-8edc-9cee8ab91643 button.colab-df-convert');\n",
              "        buttonEl.style.display =\n",
              "          google.colab.kernel.accessAllowed ? 'block' : 'none';\n",
              "\n",
              "        async function convertToInteractive(key) {\n",
              "          const element = document.querySelector('#df-4bfd83d1-4515-40af-8edc-9cee8ab91643');\n",
              "          const dataTable =\n",
              "            await google.colab.kernel.invokeFunction('convertToInteractive',\n",
              "                                                     [key], {});\n",
              "          if (!dataTable) return;\n",
              "\n",
              "          const docLinkHtml = 'Like what you see? Visit the ' +\n",
              "            '<a target=\"_blank\" href=https://colab.research.google.com/notebooks/data_table.ipynb>data table notebook</a>'\n",
              "            + ' to learn more about interactive tables.';\n",
              "          element.innerHTML = '';\n",
              "          dataTable['output_type'] = 'display_data';\n",
              "          await google.colab.output.renderOutput(dataTable, element);\n",
              "          const docLink = document.createElement('div');\n",
              "          docLink.innerHTML = docLinkHtml;\n",
              "          element.appendChild(docLink);\n",
              "        }\n",
              "      </script>\n",
              "    </div>\n",
              "  </div>\n",
              "  "
            ],
            "text/plain": [
              "      feature  importance\n",
              "4410   SEC61G        40.5\n",
              "1812   FIGNL1        17.0\n",
              "4255   RPS4Y1        16.0\n",
              "4676    SNRPN        15.0\n",
              "379    ATP1A2        14.0\n",
              "2193    HLA-A        13.5\n",
              "3221  NGFRAP1        10.5\n",
              "392    ATP5G3         9.5\n",
              "731     CADPS         8.5\n",
              "4972       TF         8.5"
            ]
          },
          "metadata": {},
          "execution_count": 170
        }
      ]
    },
    {
      "cell_type": "code",
      "source": [
        "# Find the features with zero importance\n",
        "zero_features = list(feature_importances[feature_importances['importance'] == 0.0]['feature'])\n",
        "print('There are %d features with 0.0 importance' % len(zero_features))\n",
        "feature_importances.tail(100)"
      ],
      "metadata": {
        "colab": {
          "base_uri": "https://localhost:8080/",
          "height": 432
        },
        "id": "UBcRyjsjBlqv",
        "outputId": "3dd48857-7422-4756-fd3e-d2cc656be20d"
      },
      "execution_count": 171,
      "outputs": [
        {
          "output_type": "stream",
          "name": "stdout",
          "text": [
            "There are 4694 features with 0.0 importance\n"
          ]
        },
        {
          "output_type": "execute_result",
          "data": {
            "text/html": [
              "\n",
              "  <div id=\"df-39ab3d5f-dbe9-498b-88db-3886582172ab\">\n",
              "    <div class=\"colab-df-container\">\n",
              "      <div>\n",
              "<style scoped>\n",
              "    .dataframe tbody tr th:only-of-type {\n",
              "        vertical-align: middle;\n",
              "    }\n",
              "\n",
              "    .dataframe tbody tr th {\n",
              "        vertical-align: top;\n",
              "    }\n",
              "\n",
              "    .dataframe thead th {\n",
              "        text-align: right;\n",
              "    }\n",
              "</style>\n",
              "<table border=\"1\" class=\"dataframe\">\n",
              "  <thead>\n",
              "    <tr style=\"text-align: right;\">\n",
              "      <th></th>\n",
              "      <th>feature</th>\n",
              "      <th>importance</th>\n",
              "    </tr>\n",
              "  </thead>\n",
              "  <tbody>\n",
              "    <tr>\n",
              "      <th>2112</th>\n",
              "      <td>GYG1</td>\n",
              "      <td>0.0</td>\n",
              "    </tr>\n",
              "    <tr>\n",
              "      <th>2121</th>\n",
              "      <td>HADH</td>\n",
              "      <td>0.0</td>\n",
              "    </tr>\n",
              "    <tr>\n",
              "      <th>2120</th>\n",
              "      <td>HACL1</td>\n",
              "      <td>0.0</td>\n",
              "    </tr>\n",
              "    <tr>\n",
              "      <th>2117</th>\n",
              "      <td>H2AFZ</td>\n",
              "      <td>0.0</td>\n",
              "    </tr>\n",
              "    <tr>\n",
              "      <th>2116</th>\n",
              "      <td>H2AFY</td>\n",
              "      <td>0.0</td>\n",
              "    </tr>\n",
              "    <tr>\n",
              "      <th>...</th>\n",
              "      <td>...</td>\n",
              "      <td>...</td>\n",
              "    </tr>\n",
              "    <tr>\n",
              "      <th>2206</th>\n",
              "      <td>HMGCL</td>\n",
              "      <td>0.0</td>\n",
              "    </tr>\n",
              "    <tr>\n",
              "      <th>2204</th>\n",
              "      <td>HMGB2</td>\n",
              "      <td>0.0</td>\n",
              "    </tr>\n",
              "    <tr>\n",
              "      <th>2203</th>\n",
              "      <td>HMGB1</td>\n",
              "      <td>0.0</td>\n",
              "    </tr>\n",
              "    <tr>\n",
              "      <th>2202</th>\n",
              "      <td>HMG20A</td>\n",
              "      <td>0.0</td>\n",
              "    </tr>\n",
              "    <tr>\n",
              "      <th>5934</th>\n",
              "      <td>ZZZ3</td>\n",
              "      <td>0.0</td>\n",
              "    </tr>\n",
              "  </tbody>\n",
              "</table>\n",
              "<p>100 rows × 2 columns</p>\n",
              "</div>\n",
              "      <button class=\"colab-df-convert\" onclick=\"convertToInteractive('df-39ab3d5f-dbe9-498b-88db-3886582172ab')\"\n",
              "              title=\"Convert this dataframe to an interactive table.\"\n",
              "              style=\"display:none;\">\n",
              "        \n",
              "  <svg xmlns=\"http://www.w3.org/2000/svg\" height=\"24px\"viewBox=\"0 0 24 24\"\n",
              "       width=\"24px\">\n",
              "    <path d=\"M0 0h24v24H0V0z\" fill=\"none\"/>\n",
              "    <path d=\"M18.56 5.44l.94 2.06.94-2.06 2.06-.94-2.06-.94-.94-2.06-.94 2.06-2.06.94zm-11 1L8.5 8.5l.94-2.06 2.06-.94-2.06-.94L8.5 2.5l-.94 2.06-2.06.94zm10 10l.94 2.06.94-2.06 2.06-.94-2.06-.94-.94-2.06-.94 2.06-2.06.94z\"/><path d=\"M17.41 7.96l-1.37-1.37c-.4-.4-.92-.59-1.43-.59-.52 0-1.04.2-1.43.59L10.3 9.45l-7.72 7.72c-.78.78-.78 2.05 0 2.83L4 21.41c.39.39.9.59 1.41.59.51 0 1.02-.2 1.41-.59l7.78-7.78 2.81-2.81c.8-.78.8-2.07 0-2.86zM5.41 20L4 18.59l7.72-7.72 1.47 1.35L5.41 20z\"/>\n",
              "  </svg>\n",
              "      </button>\n",
              "      \n",
              "  <style>\n",
              "    .colab-df-container {\n",
              "      display:flex;\n",
              "      flex-wrap:wrap;\n",
              "      gap: 12px;\n",
              "    }\n",
              "\n",
              "    .colab-df-convert {\n",
              "      background-color: #E8F0FE;\n",
              "      border: none;\n",
              "      border-radius: 50%;\n",
              "      cursor: pointer;\n",
              "      display: none;\n",
              "      fill: #1967D2;\n",
              "      height: 32px;\n",
              "      padding: 0 0 0 0;\n",
              "      width: 32px;\n",
              "    }\n",
              "\n",
              "    .colab-df-convert:hover {\n",
              "      background-color: #E2EBFA;\n",
              "      box-shadow: 0px 1px 2px rgba(60, 64, 67, 0.3), 0px 1px 3px 1px rgba(60, 64, 67, 0.15);\n",
              "      fill: #174EA6;\n",
              "    }\n",
              "\n",
              "    [theme=dark] .colab-df-convert {\n",
              "      background-color: #3B4455;\n",
              "      fill: #D2E3FC;\n",
              "    }\n",
              "\n",
              "    [theme=dark] .colab-df-convert:hover {\n",
              "      background-color: #434B5C;\n",
              "      box-shadow: 0px 1px 3px 1px rgba(0, 0, 0, 0.15);\n",
              "      filter: drop-shadow(0px 1px 2px rgba(0, 0, 0, 0.3));\n",
              "      fill: #FFFFFF;\n",
              "    }\n",
              "  </style>\n",
              "\n",
              "      <script>\n",
              "        const buttonEl =\n",
              "          document.querySelector('#df-39ab3d5f-dbe9-498b-88db-3886582172ab button.colab-df-convert');\n",
              "        buttonEl.style.display =\n",
              "          google.colab.kernel.accessAllowed ? 'block' : 'none';\n",
              "\n",
              "        async function convertToInteractive(key) {\n",
              "          const element = document.querySelector('#df-39ab3d5f-dbe9-498b-88db-3886582172ab');\n",
              "          const dataTable =\n",
              "            await google.colab.kernel.invokeFunction('convertToInteractive',\n",
              "                                                     [key], {});\n",
              "          if (!dataTable) return;\n",
              "\n",
              "          const docLinkHtml = 'Like what you see? Visit the ' +\n",
              "            '<a target=\"_blank\" href=https://colab.research.google.com/notebooks/data_table.ipynb>data table notebook</a>'\n",
              "            + ' to learn more about interactive tables.';\n",
              "          element.innerHTML = '';\n",
              "          dataTable['output_type'] = 'display_data';\n",
              "          await google.colab.output.renderOutput(dataTable, element);\n",
              "          const docLink = document.createElement('div');\n",
              "          docLink.innerHTML = docLinkHtml;\n",
              "          element.appendChild(docLink);\n",
              "        }\n",
              "      </script>\n",
              "    </div>\n",
              "  </div>\n",
              "  "
            ],
            "text/plain": [
              "     feature  importance\n",
              "2112    GYG1         0.0\n",
              "2121    HADH         0.0\n",
              "2120   HACL1         0.0\n",
              "2117   H2AFZ         0.0\n",
              "2116   H2AFY         0.0\n",
              "...      ...         ...\n",
              "2206   HMGCL         0.0\n",
              "2204   HMGB2         0.0\n",
              "2203   HMGB1         0.0\n",
              "2202  HMG20A         0.0\n",
              "5934    ZZZ3         0.0\n",
              "\n",
              "[100 rows x 2 columns]"
            ]
          },
          "metadata": {},
          "execution_count": 171
        }
      ]
    },
    {
      "cell_type": "code",
      "source": [
        "X_train = X_train.drop(columns = zero_features)\n",
        "X_test = X_test.drop(columns = zero_features)\n",
        "\n",
        "print('Training shape: ', X_train.shape)\n",
        "print('Testing shape: ', X_test.shape)"
      ],
      "metadata": {
        "colab": {
          "base_uri": "https://localhost:8080/"
        },
        "id": "Glf4P3MBB3pM",
        "outputId": "3615a5c8-1c2d-4778-bdfb-7d8ff5c4db6a"
      },
      "execution_count": 172,
      "outputs": [
        {
          "output_type": "stream",
          "name": "stdout",
          "text": [
            "Training shape:  (344, 1241)\n",
            "Testing shape:  (86, 1241)\n"
          ]
        }
      ]
    },
    {
      "cell_type": "markdown",
      "source": [
        "**Scale the data and fit the model**"
      ],
      "metadata": {
        "id": "AT-xY5KdCPfk"
      }
    },
    {
      "cell_type": "code",
      "source": [
        "# Normalize the train and test data\n",
        "\n",
        "from sklearn.preprocessing import StandardScaler\n",
        "scaler = StandardScaler()\n",
        "scaler.fit(X_train)\n",
        "\n",
        "X_train_scaled = scaler.transform(X_train)\n",
        "X_test_scaled = scaler.transform(X_test)"
      ],
      "metadata": {
        "id": "S2zGDXHNdiZ5"
      },
      "execution_count": 173,
      "outputs": []
    },
    {
      "cell_type": "code",
      "source": [
        "k = 5\n",
        "neigh = KNeighborsClassifier(n_neighbors = k).fit(X_train_scaled,y_train)\n",
        "y_pred = neigh.predict(X_test_scaled)"
      ],
      "metadata": {
        "id": "sXBJMZ-nCl6g"
      },
      "execution_count": 174,
      "outputs": []
    },
    {
      "cell_type": "markdown",
      "source": [
        "**Confusion Matrix and Classification Report**"
      ],
      "metadata": {
        "id": "9HLf9WAcDEIj"
      }
    },
    {
      "cell_type": "code",
      "source": [
        "# CM and Classification Report For **SCALED DATA**\n",
        "\n",
        "from sklearn.metrics import classification_report\n",
        "print(classification_report(y_test, y_pred))\n",
        "\n",
        "from sklearn.metrics import accuracy_score\n",
        "print(accuracy_score(y_test, y_pred))\n",
        "score_knn = accuracy_score(y_test, y_pred)\n",
        "print(\"accuracy score: %0.3f\" % score_knn)"
      ],
      "metadata": {
        "colab": {
          "base_uri": "https://localhost:8080/"
        },
        "id": "AW-5bg80C65F",
        "outputId": "9d0cb3ec-dfe5-4152-d9dc-3ad4ae40fb3d"
      },
      "execution_count": 176,
      "outputs": [
        {
          "output_type": "stream",
          "name": "stdout",
          "text": [
            "              precision    recall  f1-score   support\n",
            "\n",
            "      Class1       0.97      0.94      0.95        31\n",
            "      Class2       1.00      0.70      0.82        20\n",
            "      Class3       0.38      1.00      0.55        11\n",
            "      Class4       1.00      0.43      0.60         7\n",
            "      Class5       0.90      0.53      0.67        17\n",
            "\n",
            "    accuracy                           0.77        86\n",
            "   macro avg       0.85      0.72      0.72        86\n",
            "weighted avg       0.89      0.77      0.79        86\n",
            "\n",
            "0.7674418604651163\n",
            "accuracy score: 0.767\n"
          ]
        }
      ]
    },
    {
      "cell_type": "code",
      "source": [
        "# Confusion matrix for k=5 for SCALED DATA\n",
        "\n",
        "cm = confusion_matrix(y_test, y_pred)\n",
        "cm_df = pd.DataFrame(cm)\n",
        "\n",
        "plt.figure(figsize=(15,5))\n",
        "sns.heatmap(cm_df, annot=True, fmt='g')\n",
        "plt.title('Confusion Matrix for K=5')\n",
        "plt.ylabel('Actal Values')\n",
        "plt.xlabel('Predicted Values')\n",
        "plt.show()"
      ],
      "metadata": {
        "colab": {
          "base_uri": "https://localhost:8080/",
          "height": 350
        },
        "id": "54mFo1lAED-p",
        "outputId": "80566582-3ba0-48d7-92aa-b163e410efc7"
      },
      "execution_count": 175,
      "outputs": [
        {
          "output_type": "display_data",
          "data": {
            "image/png": "[encoded data removed]",
            "text/plain": [
              "<Figure size 1080x360 with 2 Axes>"
            ]
          },
          "metadata": {
            "needs_background": "light"
          }
        }
      ]
    },
    {
      "cell_type": "markdown",
      "source": [
        "**Scaling the data actually gives lower accuracy score, so let's try without scaling any data!!**"
      ],
      "metadata": {
        "id": "A34-XXhKDX3d"
      }
    },
    {
      "cell_type": "code",
      "source": [
        "k = 5\n",
        "neigh = KNeighborsClassifier(n_neighbors = k).fit(X_train,y_train)\n",
        "y_pred = neigh.predict(X_test)"
      ],
      "metadata": {
        "id": "DM44lmYtDN_0"
      },
      "execution_count": 177,
      "outputs": []
    },
    {
      "cell_type": "code",
      "source": [
        "#CM and classification report without scaling data\n",
        "\n",
        "from sklearn.metrics import classification_report\n",
        "print(classification_report(y_test, y_pred))\n",
        "\n",
        "from sklearn.metrics import accuracy_score\n",
        "print(accuracy_score(y_test, y_pred))\n",
        "score_knn = accuracy_score(y_test, y_pred)\n",
        "print(\"accuracy score: %0.3f\" % score_knn)"
      ],
      "metadata": {
        "colab": {
          "base_uri": "https://localhost:8080/"
        },
        "id": "DrZu3G8SDRRv",
        "outputId": "89815e1a-c87e-4e0c-9eaa-6e214cbaedb3"
      },
      "execution_count": 178,
      "outputs": [
        {
          "output_type": "stream",
          "name": "stdout",
          "text": [
            "              precision    recall  f1-score   support\n",
            "\n",
            "      Class1       0.97      0.94      0.95        31\n",
            "      Class2       1.00      0.95      0.97        20\n",
            "      Class3       0.50      1.00      0.67        11\n",
            "      Class4       1.00      0.43      0.60         7\n",
            "      Class5       0.83      0.59      0.69        17\n",
            "\n",
            "    accuracy                           0.84        86\n",
            "   macro avg       0.86      0.78      0.78        86\n",
            "weighted avg       0.89      0.84      0.84        86\n",
            "\n",
            "0.8372093023255814\n",
            "accuracy score: 0.837\n"
          ]
        }
      ]
    },
    {
      "cell_type": "code",
      "source": [
        "# Confusion matrix for k=5 for NOT scaling data\n",
        "\n",
        "cm = confusion_matrix(y_test, y_pred)\n",
        "cm_df = pd.DataFrame(cm)\n",
        "\n",
        "plt.figure(figsize=(15,5))\n",
        "sns.heatmap(cm_df, annot=True, fmt='g')\n",
        "plt.title('Confusion Matrix for K=5')\n",
        "plt.ylabel('Actal Values')\n",
        "plt.xlabel('Predicted Values')\n",
        "plt.show()"
      ],
      "metadata": {
        "colab": {
          "base_uri": "https://localhost:8080/",
          "height": 350
        },
        "id": "76FStukSEfFj",
        "outputId": "8393bc5f-7811-46c4-9add-6f75c7b87891"
      },
      "execution_count": 179,
      "outputs": [
        {
          "output_type": "display_data",
          "data": {
            "image/png": "[encoded data removed]",
            "text/plain": [
              "<Figure size 1080x360 with 2 Axes>"
            ]
          },
          "metadata": {
            "needs_background": "light"
          }
        }
      ]
    },
    {
      "cell_type": "markdown",
      "source": [
        "###Apply parameters optimization\n",
        "\n",
        "**Step 1: testing different k (k=1 to k=50) based on accuracy score and error rate.**\n",
        "\n",
        "**Step 2: hyperparameter tuning and test k=1 and other parameters.**"
      ],
      "metadata": {
        "id": "QacFnutIEvJz"
      }
    },
    {
      "cell_type": "code",
      "source": [
        "# Choosing K, given a range from k=1 to k=20\n",
        "\n",
        "training_accuracy = []\n",
        "test_accuracy = []\n",
        "\n",
        "neighbors_setting = range(1,50)\n",
        "\n",
        "for n_neighbors in neighbors_setting:\n",
        "    knn = KNeighborsClassifier(n_neighbors=n_neighbors)\n",
        "    knn.fit(X_train,y_train)\n",
        "    training_accuracy.append(knn.score(X_train, y_train))\n",
        "    test_accuracy.append(knn.score(X_test, y_test))\n",
        " \n",
        "plt.plot(neighbors_setting,training_accuracy, label='Accuracy of the training set')\n",
        "plt.plot(neighbors_setting,test_accuracy, label='Accuracy of the test set')\n",
        "plt.ylabel('Accuracy')\n",
        "plt.xlabel('Number of Neighbors')\n",
        "plt.legend()"
      ],
      "metadata": {
        "colab": {
          "base_uri": "https://localhost:8080/",
          "height": 296
        },
        "id": "QQRgoNzuEo4P",
        "outputId": "b09f1f7f-42be-4247-a6e1-84ba088b0f5f"
      },
      "execution_count": 180,
      "outputs": [
        {
          "output_type": "execute_result",
          "data": {
            "text/plain": [
              "<matplotlib.legend.Legend at 0x7f6a1df55b90>"
            ]
          },
          "metadata": {},
          "execution_count": 180
        },
        {
          "output_type": "display_data",
          "data": {
            "image/png": "[encoded data removed]",
            "text/plain": [
              "<Figure size 432x288 with 1 Axes>"
            ]
          },
          "metadata": {
            "needs_background": "light"
          }
        }
      ]
    },
    {
      "cell_type": "code",
      "source": [
        "# Examine accuracy score from k=1 to k=50\n",
        "\n",
        "import sklearn.metrics as metrics\n",
        "\n",
        "acc = []\n",
        "for i in range(1,50):\n",
        "    neigh = KNeighborsClassifier(n_neighbors = i).fit(X_train,y_train)\n",
        "    yhat = neigh.predict(X_test)\n",
        "    acc.append(metrics.accuracy_score(y_test, yhat))\n",
        "    \n",
        "plt.plot(range(1,50),acc,color = 'blue',linestyle='dashed', \n",
        "         marker='o',markerfacecolor='red', markersize=10)\n",
        "plt.title('Accuracy vs. K')\n",
        "plt.xlabel('K')\n",
        "plt.ylabel('Accuracy')"
      ],
      "metadata": {
        "colab": {
          "base_uri": "https://localhost:8080/",
          "height": 312
        },
        "id": "S2oHI9p-FLdH",
        "outputId": "0fb62502-83e2-483f-de99-5938b60ed6e2"
      },
      "execution_count": 181,
      "outputs": [
        {
          "output_type": "execute_result",
          "data": {
            "text/plain": [
              "Text(0, 0.5, 'Accuracy')"
            ]
          },
          "metadata": {},
          "execution_count": 181
        },
        {
          "output_type": "display_data",
          "data": {
            "image/png": "[encoded data removed]",
            "text/plain": [
              "<Figure size 432x288 with 1 Axes>"
            ]
          },
          "metadata": {
            "needs_background": "light"
          }
        }
      ]
    },
    {
      "cell_type": "code",
      "source": [
        "# Examine error rate from k=1 to k=50\n",
        "\n",
        "error_rate = []\n",
        "for i in range(1,50):\n",
        " knn = KNeighborsClassifier(n_neighbors=i)\n",
        " knn.fit(X_train,y_train)\n",
        " pred_i = knn.predict(X_test)\n",
        " error_rate.append(np.mean(pred_i != y_test))\n",
        "\n",
        "plt.plot(range(1,50),error_rate,color='blue', linestyle='dashed', \n",
        "         marker='o',markerfacecolor='red', markersize=10)\n",
        "plt.title('Error Rate vs. K')\n",
        "plt.xlabel('K')\n",
        "plt.ylabel('Error Rate')"
      ],
      "metadata": {
        "colab": {
          "base_uri": "https://localhost:8080/",
          "height": 312
        },
        "id": "-5plvrzMG3FU",
        "outputId": "bdde858e-bb63-4a68-e09c-4ea3741458bb"
      },
      "execution_count": 182,
      "outputs": [
        {
          "output_type": "execute_result",
          "data": {
            "text/plain": [
              "Text(0, 0.5, 'Error Rate')"
            ]
          },
          "metadata": {},
          "execution_count": 182
        },
        {
          "output_type": "display_data",
          "data": {
            "image/png": "[encoded data removed]",
            "text/plain": [
              "<Figure size 432x288 with 1 Axes>"
            ]
          },
          "metadata": {
            "needs_background": "light"
          }
        }
      ]
    },
    {
      "cell_type": "code",
      "source": [
        "# Testing k=20 and print the model's accuracy score: .9042\n",
        "\n",
        "k = 20\n",
        "neigh = KNeighborsClassifier(n_neighbors = k).fit(X_train,y_train)\n",
        "y_pred1 = neigh.predict(X_test)\n",
        "print(\"Accuracy of model at K=20 is\",metrics.accuracy_score(y_test, y_pred1))"
      ],
      "metadata": {
        "colab": {
          "base_uri": "https://localhost:8080/"
        },
        "id": "y0eZDMGQGVq9",
        "outputId": "8ca27521-0196-4fbb-b9f7-b29abdcc907e"
      },
      "execution_count": 183,
      "outputs": [
        {
          "output_type": "stream",
          "name": "stdout",
          "text": [
            "Accuracy of model at K=20 is 0.8604651162790697\n"
          ]
        }
      ]
    },
    {
      "cell_type": "code",
      "source": [
        "# Classification report for k=20\n",
        "\n",
        "print(classification_report(y_test, y_pred1))"
      ],
      "metadata": {
        "colab": {
          "base_uri": "https://localhost:8080/"
        },
        "id": "5eaQ2jbbGfb2",
        "outputId": "5e9f7280-fcb7-4ba0-aab7-da16aaa85190"
      },
      "execution_count": 184,
      "outputs": [
        {
          "output_type": "stream",
          "name": "stdout",
          "text": [
            "              precision    recall  f1-score   support\n",
            "\n",
            "      Class1       1.00      1.00      1.00        31\n",
            "      Class2       1.00      0.90      0.95        20\n",
            "      Class3       0.48      1.00      0.65        11\n",
            "      Class4       1.00      0.57      0.73         7\n",
            "      Class5       1.00      0.59      0.74        17\n",
            "\n",
            "    accuracy                           0.86        86\n",
            "   macro avg       0.90      0.81      0.81        86\n",
            "weighted avg       0.93      0.86      0.87        86\n",
            "\n"
          ]
        }
      ]
    },
    {
      "cell_type": "code",
      "source": [
        "# Confusion matrix for k=20\n",
        "\n",
        "cm20 = confusion_matrix(y_test, y_pred1)\n",
        "\n",
        "cm20_df = pd.DataFrame(cm20)\n",
        "\n",
        "plt.figure(figsize=(15,5))\n",
        "sns.heatmap(cm20_df, annot=True, fmt='g')\n",
        "plt.title('Confusion Matrix for K=20')\n",
        "plt.ylabel('Actal Values')\n",
        "plt.xlabel('Predicted Values')\n",
        "plt.show()"
      ],
      "metadata": {
        "colab": {
          "base_uri": "https://localhost:8080/",
          "height": 350
        },
        "id": "u8FN1RooGiXH",
        "outputId": "f5fe6867-7e75-4873-c636-098c203d98a0"
      },
      "execution_count": 185,
      "outputs": [
        {
          "output_type": "display_data",
          "data": {
            "image/png": "[encoded data removed]",
            "text/plain": [
              "<Figure size 1080x360 with 2 Axes>"
            ]
          },
          "metadata": {
            "needs_background": "light"
          }
        }
      ]
    },
    {
      "cell_type": "markdown",
      "source": [
        "**Hyperparameter Tuning**"
      ],
      "metadata": {
        "id": "gWbZEj8zHIQM"
      }
    },
    {
      "cell_type": "code",
      "source": [
        "# Hyperparameter Tuning\n",
        "from sklearn.model_selection import GridSearchCV\n",
        "\n",
        "parameters_k = {\"n_neighbors\": range(1, 25)}\n",
        "\n",
        "gs = GridSearchCV(KNeighborsClassifier(), param_grid = parameters_k, verbose = 1, cv=10, n_jobs = -1)\n",
        "\n",
        "g_res = gs.fit(X_train, y_train)\n",
        "\n",
        "g_res.best_params_"
      ],
      "metadata": {
        "colab": {
          "base_uri": "https://localhost:8080/"
        },
        "id": "ipZ1ohHpHLUq",
        "outputId": "43b7f4e6-60fe-47ff-8d25-3d4ad51dbc47"
      },
      "execution_count": 186,
      "outputs": [
        {
          "output_type": "stream",
          "name": "stdout",
          "text": [
            "Fitting 10 folds for each of 24 candidates, totalling 240 fits\n"
          ]
        },
        {
          "output_type": "execute_result",
          "data": {
            "text/plain": [
              "{'n_neighbors': 1}"
            ]
          },
          "metadata": {},
          "execution_count": 186
        }
      ]
    },
    {
      "cell_type": "code",
      "source": [
        "# Using the parameters from hyperparameter tuning to fit the model and print accuracy score: 0.9053\n",
        "\n",
        "neigh = KNeighborsClassifier(n_neighbors = 1).fit(X_train,y_train)\n",
        "y_pred2 = neigh.predict(X_test)\n",
        "print(\"Accuracy of model at K=1 is\",metrics.accuracy_score(y_test, y_pred2))"
      ],
      "metadata": {
        "colab": {
          "base_uri": "https://localhost:8080/"
        },
        "id": "H3vZtHCYIfo0",
        "outputId": "1a87d1c2-fba3-42c1-9852-7842a6618fdf"
      },
      "execution_count": 187,
      "outputs": [
        {
          "output_type": "stream",
          "name": "stdout",
          "text": [
            "Accuracy of model at K=1 is 0.8604651162790697\n"
          ]
        }
      ]
    },
    {
      "cell_type": "code",
      "source": [
        "print(classification_report(y_test, y_pred2))\n",
        "\n",
        "# Confusion matrix for k=1 after hyperparameter tuning\n",
        "\n",
        "cm2 = confusion_matrix(y_test, y_pred2)\n",
        "\n",
        "cm2_df = pd.DataFrame(cm2)\n",
        "\n",
        "plt.figure(figsize=(15,5))\n",
        "sns.heatmap(cm2_df, annot=True, fmt='g')\n",
        "plt.title('Confusion Matrix for K=1 After Hyperparameter Tuning')\n",
        "plt.ylabel('Actal Values')\n",
        "plt.xlabel('Predicted Values')\n",
        "plt.show()"
      ],
      "metadata": {
        "colab": {
          "base_uri": "https://localhost:8080/",
          "height": 563
        },
        "id": "dKh_d2AeIzJf",
        "outputId": "b09afb3e-ffaf-4058-8881-264f173fd32c"
      },
      "execution_count": 188,
      "outputs": [
        {
          "output_type": "stream",
          "name": "stdout",
          "text": [
            "              precision    recall  f1-score   support\n",
            "\n",
            "      Class1       1.00      0.94      0.97        31\n",
            "      Class2       1.00      0.95      0.97        20\n",
            "      Class3       0.52      1.00      0.69        11\n",
            "      Class4       1.00      0.57      0.73         7\n",
            "      Class5       0.85      0.65      0.73        17\n",
            "\n",
            "    accuracy                           0.86        86\n",
            "   macro avg       0.87      0.82      0.82        86\n",
            "weighted avg       0.91      0.86      0.87        86\n",
            "\n"
          ]
        },
        {
          "output_type": "display_data",
          "data": {
            "image/png": "[encoded data removed]",
            "text/plain": [
              "<Figure size 1080x360 with 2 Axes>"
            ]
          },
          "metadata": {
            "needs_background": "light"
          }
        }
      ]
    },
    {
      "cell_type": "markdown",
      "source": [
        "##Discuss the result"
      ],
      "metadata": {
        "id": "iuEEHzI_JF74"
      }
    },
    {
      "cell_type": "code",
      "source": [
        "print(\"Accuracy of model at K=5 is\",metrics.accuracy_score(y_test, y_pred))\n",
        "print(\"Accuracy of model at K=20 is\",metrics.accuracy_score(y_test, y_pred1))\n",
        "print(\"Accuracy of model at K=1 after HYPERPARAMETER TUNING is\",metrics.accuracy_score(y_test, y_pred2))"
      ],
      "metadata": {
        "colab": {
          "base_uri": "https://localhost:8080/"
        },
        "id": "9H_imQurJIg1",
        "outputId": "6f98d867-db66-4252-aa0c-fd590e093915"
      },
      "execution_count": 189,
      "outputs": [
        {
          "output_type": "stream",
          "name": "stdout",
          "text": [
            "Accuracy of model at K=5 is 0.8372093023255814\n",
            "Accuracy of model at K=20 is 0.8604651162790697\n",
            "Accuracy of model at K=1 after HYPERPARAMETER TUNING is 0.8604651162790697\n"
          ]
        }
      ]
    },
    {
      "cell_type": "code",
      "source": [
        "fig, ax =plt.subplots(1,3,figsize=(24,8))\n",
        "\n",
        "#CM at k=5\n",
        "sns.heatmap(cm_df, annot=True, fmt='g', ax=ax[0])\n",
        "\n",
        "#CM at k=20\n",
        "sns.heatmap(cm20_df, annot=True, fmt='g', ax=ax[1])\n",
        "\n",
        "#CM at k=1 after hyperparameter tuning\n",
        "sns.heatmap(cm2_df, annot=True, fmt='g', ax=ax[2])\n",
        "\n",
        "plt.show()"
      ],
      "metadata": {
        "colab": {
          "base_uri": "https://localhost:8080/",
          "height": 483
        },
        "id": "cK-eC18cJRhu",
        "outputId": "1d2d9238-7473-4cb5-e75b-4b75a20f6669"
      },
      "execution_count": 190,
      "outputs": [
        {
          "output_type": "display_data",
          "data": {
            "image/png": "[encoded data removed]",
            "text/plain": [
              "<Figure size 1728x576 with 6 Axes>"
            ]
          },
          "metadata": {
            "needs_background": "light"
          }
        }
      ]
    },
    {
      "cell_type": "code",
      "source": [
        "X_train.shape"
      ],
      "metadata": {
        "colab": {
          "base_uri": "https://localhost:8080/"
        },
        "id": "pr-utc9eMYFg",
        "outputId": "5804ddea-acad-41c1-a538-52f6421fb996"
      },
      "execution_count": 191,
      "outputs": [
        {
          "output_type": "execute_result",
          "data": {
            "text/plain": [
              "(344, 1241)"
            ]
          },
          "metadata": {},
          "execution_count": 191
        }
      ]
    },
    {
      "cell_type": "markdown",
      "source": [
        "#SUMMARY:\n",
        "\n",
        "**After removing  highly correlated variables and using feature selection to eliminiate 13+4696 columns, we were down to 344 rows and 1241 columns remaining.**\n",
        "\n",
        "**Scaling the data actually give us a lower accuracy score at .7670. Hence I used the non-scaled X_train and X_test data.**\n",
        "\n",
        "**The above shows confusion matrix for k=5(left), k=20(middle), and k=1 after hyperparameter tuning(right). The accuracy score is 0.8372, 0.8604, and 0.8604.**\n",
        "\n",
        "**By parameter optimization from k=5 to k=20, I improved the model accuracy from 0.8372 to .8604. After hyperparameter tuning, the accuracy score at k=20 vs. k=1 is the same. I plotted accuracy score and error rate to look for the best k. After I used hyperparameter tuning to find the best k. From the k=20 confusion matrix in the middle, the diagonal numbers 31,18,11,4,10 are the TRUE POSITIVES. Just from changing from from 5 to 20, we have more  TRUE POSITIVES values.**"
      ],
      "metadata": {
        "id": "J0Lxsg4sJenw"
      }
    }
  ]
}
